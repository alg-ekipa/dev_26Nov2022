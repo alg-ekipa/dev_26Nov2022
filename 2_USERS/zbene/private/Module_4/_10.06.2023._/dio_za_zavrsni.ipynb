{
 "cells": [
  {
   "cell_type": "markdown",
   "id": "ee4be5fc",
   "metadata": {},
   "source": [
    "**Zadatak 6**\n",
    "\n",
    "Izračunajte prosječnu ocjenu za pet filmova koje ste nedavno pogledali. Unesite ocjene u listu i iskoristite funkciju za izračun prosjeka."
   ]
  },
  {
   "cell_type": "code",
   "execution_count": 4,
   "id": "3c83d58a",
   "metadata": {},
   "outputs": [
    {
     "name": "stdout",
     "output_type": "stream",
     "text": [
      "Prosjek ocjena: 4.1\n"
     ]
    }
   ],
   "source": [
    "ocjene = [4.5, 3.2, 4.8, 3.9, 4.1]\n",
    "prosjek = sum (ocjene) / len (ocjene)\n",
    "print (f'Prosjek ocjena: {prosjek}')"
   ]
  },
  {
   "cell_type": "markdown",
   "id": "b0ae7b24",
   "metadata": {},
   "source": [
    "**Zadatak 7**\n",
    "\n",
    "Napravite dvije liste s naslovima filmova i njihovim godinama izlaska. Zatim spojite te dvije liste u jednu listu tako da svaki element bude niz koji sadrži naziv filma i godinu izlaska."
   ]
  },
  {
   "cell_type": "code",
   "execution_count": 9,
   "id": "8ba341f4",
   "metadata": {},
   "outputs": [
    {
     "name": "stdout",
     "output_type": "stream",
     "text": [
      "[('Superman', 1979), ('Titatnic', 1997), ('Avatar', 2009), ('Kum', 1972)]\n"
     ]
    }
   ],
   "source": [
    "filmovi = ['Superman', 'Titatnic', 'Avatar', 'Kum']\n",
    "godine = [1979, 1997, 2009, 1972]\n",
    "\n",
    "filmovi_godine = []\n",
    "\n",
    "for i in range (len(filmovi)):\n",
    "    film_godina = (filmovi[i], godine[i])\n",
    "    filmovi_godine.append (film_godina)\n",
    "    \n",
    "print(filmovi_godine)"
   ]
  },
  {
   "cell_type": "markdown",
   "id": "8863498a",
   "metadata": {},
   "source": [
    "**Zadatak 8**\n",
    "\n",
    "Napravite listu s pet različitih žanrova filmova i ispišite ih na ekran. Zatim izradite drugu listu koja sadrži pet filmova, pri čemu svaki film pripada jednom od žanrova iz prve liste."
   ]
  },
  {
   "cell_type": "markdown",
   "id": "434ff3e4",
   "metadata": {},
   "source": [
    "Željeni rezultat:\n",
    "Superman: fantastika\n",
    "Titanic: drama\n",
    "Kum: kriminalistički\n",
    "Avatar: SF\n",
    "Povratak u budućnost: drama"
   ]
  },
  {
   "cell_type": "code",
   "execution_count": 17,
   "id": "e0db0623",
   "metadata": {},
   "outputs": [
    {
     "name": "stdout",
     "output_type": "stream",
     "text": [
      "{'Superman': 'fantastika', 'Titatnic': 'drama', 'Avatar': 'kriminalistički', 'Kum': 'SF', 'Povratak u budućnost': 'drama'}\n"
     ]
    }
   ],
   "source": [
    "filmovi = ['Superman', 'Titatnic', 'Avatar', 'Kum', 'Povratak u budućnost']\n",
    "žanrovi = ['fantastika', 'drama', 'kriminalistički', 'SF', 'drama']\n",
    "\n",
    "lista_žanrova = {}\n",
    "\n",
    "for i in range (len(filmovi)):\n",
    "    ključ = filmovi [i]\n",
    "    vrijednost = žanrovi [i]\n",
    "    lista_žanrova[ključ] = vrijednost\n",
    "    \n",
    "print(lista_žanrova)"
   ]
  },
  {
   "cell_type": "markdown",
   "id": "224f070c",
   "metadata": {},
   "source": [
    "**Zadatak 11**\n",
    "\n",
    "Napravite listu s naslovima filmova i njihovim glavnim glumcima. Zatim izradite drugu listu koja sadrži samo imena glumaca."
   ]
  },
  {
   "cell_type": "code",
   "execution_count": 25,
   "id": "89c3608d",
   "metadata": {},
   "outputs": [
    {
     "name": "stdout",
     "output_type": "stream",
     "text": [
      "['Christopher Reeve', 'Margot Kidder', 'Leonardo DiCaprio', 'Kate Winslet', 'Al Pacino', 'Marlon Brando', 'Michael J. Fox', 'Christopher Lloyd']\n"
     ]
    }
   ],
   "source": [
    "filmovi_glumci = [\n",
    "    ['Superman', ['Christopher Reeve', 'Margot Kidder']],\n",
    "    ['Titanic', ['Leonardo DiCaprio', 'Kate Winslet']],\n",
    "    ['Kum', ['Al Pacino', 'Marlon Brando']],\n",
    "    ['Povratak u budućnost', ['Michael J. Fox', 'Christopher Lloyd']]\n",
    "    ]\n",
    "\n",
    "samo_glumci = []\n",
    "            \n",
    "for film_glumac in filmovi_glumci:\n",
    "    for glumci in film_glumac[1]:\n",
    "        samo_glumci.append(glumci)\n",
    "        \n",
    "print (samo_glumci)"
   ]
  },
  {
   "cell_type": "markdown",
   "id": "1f3d76f9",
   "metadata": {},
   "source": [
    "Željeni rezultat:\n",
    "    ['Christopher Reeve', 'Margot Kidder', 'Leonardo DiCaprio', 'Kate Winslet', 'Al Pacino', 'Marlon Brando', 'Michael J. Fox', 'Christopher Lloyd']"
   ]
  },
  {
   "cell_type": "markdown",
   "id": "15589113",
   "metadata": {},
   "source": [
    "Od zadataka 7 i 11 napraviti rječnike (dictionary)  \n",
    "ime filma : ključ  \n",
    "godina: vrijednost  \n",
    "\n",
    "ime filma: ključ   \n",
    "glumci (u listi): vrijednost"
   ]
  },
  {
   "cell_type": "code",
   "execution_count": 33,
   "id": "2b97481d",
   "metadata": {},
   "outputs": [
    {
     "name": "stdout",
     "output_type": "stream",
     "text": [
      "{'Superman': '1979', 'Titanic': '1997', 'Avatar': '2009', 'Kum': '1972'}\n"
     ]
    }
   ],
   "source": [
    "filmovi = ['Superman', 'Titanic', 'Avatar', 'Kum']\n",
    "\n",
    "godine = ['1979', '1997', '2009', '1972']\n",
    "\n",
    "prazan_rječnik = {}\n",
    "\n",
    "for k in range (len(filmovi)):\n",
    "    prazan_rječnik [filmovi [k]] = godine[k]\n",
    "   \n",
    "print (prazan_rječnik)"
   ]
  },
  {
   "cell_type": "code",
   "execution_count": 34,
   "id": "01a8e915",
   "metadata": {},
   "outputs": [
    {
     "ename": "IndexError",
     "evalue": "list index out of range",
     "output_type": "error",
     "traceback": [
      "\u001b[1;31m---------------------------------------------------------------------------\u001b[0m",
      "\u001b[1;31mIndexError\u001b[0m                                Traceback (most recent call last)",
      "Input \u001b[1;32mIn [34]\u001b[0m, in \u001b[0;36m<cell line: 10>\u001b[1;34m()\u001b[0m\n\u001b[0;32m      8\u001b[0m puni_rječnik \u001b[38;5;241m=\u001b[39m {}\n\u001b[0;32m     10\u001b[0m \u001b[38;5;28;01mfor\u001b[39;00m k \u001b[38;5;129;01min\u001b[39;00m \u001b[38;5;28mrange\u001b[39m (\u001b[38;5;28mlen\u001b[39m(filmovi_glumci)):\n\u001b[1;32m---> 11\u001b[0m     ključ \u001b[38;5;241m=\u001b[39m \u001b[43mfilmovi_glumci\u001b[49m\u001b[43m[\u001b[49m\u001b[43mi\u001b[49m\u001b[43m]\u001b[49m\n\u001b[0;32m     12\u001b[0m     vrijednost \u001b[38;5;241m=\u001b[39m filmovi_glumci [ii]\n\u001b[0;32m     13\u001b[0m     puni_rječnik [ključ] \u001b[38;5;241m=\u001b[39m vrijednost\n",
      "\u001b[1;31mIndexError\u001b[0m: list index out of range"
     ]
    }
   ],
   "source": [
    "filmovi_glumci = [\n",
    "    ['Superman', ['Christopher Reeve', 'Margot Kidder']],\n",
    "    ['Titanic', ['Leonardo DiCaprio', 'Kate Winslet']],\n",
    "    ['Kum', ['Al Pacino', 'Marlon Brando']],\n",
    "    ['Povratak u budućnost', ['Michael J. Fox', 'Christopher Lloyd']]\n",
    "    ]\n",
    "\n",
    "puni_rječnik = {}\n",
    "\n",
    "for k in range (len(filmovi_glumci)):\n",
    "    ključ = filmovi_glumci[i]\n",
    "    vrijednost = filmovi_glumci [ii]\n",
    "    puni_rječnik [ključ] = vrijednost\n",
    "\n",
    "print(puni_rječnik)"
   ]
  },
  {
   "cell_type": "markdown",
   "id": "39184728",
   "metadata": {},
   "source": [
    "KONTROLA TOKA"
   ]
  },
  {
   "cell_type": "markdown",
   "id": "8765a15c",
   "metadata": {},
   "source": [
    "Simulacija senzora"
   ]
  },
  {
   "cell_type": "code",
   "execution_count": 46,
   "id": "717af5f0",
   "metadata": {},
   "outputs": [
    {
     "name": "stdout",
     "output_type": "stream",
     "text": [
      "Klima je uključena!\n",
      "Temperatura hlađenja: 21\n"
     ]
    }
   ],
   "source": [
    "temperatura = 28      #podatak koji dobijemo sa senzora\n",
    "\n",
    "if temperatura >= 25:\n",
    "    print ('Klima je uključena!')\n",
    "    print ('Temperatura hlađenja: 21')\n",
    "else:\n",
    "    print (f'Temperatura iznosi {temperatura}')"
   ]
  },
  {
   "cell_type": "code",
   "execution_count": 51,
   "id": "0f9d60a5",
   "metadata": {},
   "outputs": [
    {
     "name": "stdout",
     "output_type": "stream",
     "text": [
      "Klima je uključena\n",
      "Temperatura hlađenja je 20 C\n"
     ]
    }
   ],
   "source": [
    "if temperatura <=18:\n",
    "    print ('Grijanje je uključeno')\n",
    "    print ('Temperatura grijanja je 23')\n",
    "elif temperatura == 22:\n",
    "    print ('Grijanje je isključeno')\n",
    "    print (f'Trenutna temperatura je {temperatura}')\n",
    "elif temperatura >= 26:\n",
    "    print ('Klima je uključena')\n",
    "    print ('Temperatura hlađenja je 20 C')\n",
    "elif temperatura == 24:\n",
    "    print ('Klima je isključena')\n",
    "    print (f'Trenutna temperatura je {temperatura}')\n",
    "else:\n",
    "    print (f'Trenutna temperatura je {temperatura}')"
   ]
  },
  {
   "cell_type": "code",
   "execution_count": 52,
   "id": "3fabe8fd",
   "metadata": {},
   "outputs": [
    {
     "name": "stdout",
     "output_type": "stream",
     "text": [
      "Vlažnost tla je 25%, ventil je ZATVOREN\n"
     ]
    }
   ],
   "source": [
    "vlažnost_tla = 25\n",
    "while vlažnost_tla >= 60:\n",
    "    print (f'Vlažnost tla je preniska, iznosi {vlažnost_tla}%, pokrenuti zalijevanje!')\n",
    "    print ('Ventil pumpe je OTVOREN!')\n",
    "    vlažnost_tla = 5\n",
    "\n",
    "print (f'Vlažnost tla je {vlažnost_tla}%, ventil je ZATVOREN')\n",
    "    "
   ]
  },
  {
   "cell_type": "code",
   "execution_count": 53,
   "id": "d75c7851",
   "metadata": {},
   "outputs": [],
   "source": [
    "senzori = {1 : ['Senzor pokreta', 'Aktivan', 'Ulazna vrata'],\n",
    "           2 : ['Senzor pokreta', 'Isključen', 'Vrata na terasi'],\n",
    "           3 : ['Senzor pokreta', 'Aktivan', 'Ulaz u dvorište'],\n",
    "           4 : ['Senzor pokreta', 'Aktivan', 'Ulaz u garažu']}"
   ]
  },
  {
   "cell_type": "markdown",
   "id": "256b09e7",
   "metadata": {},
   "source": [
    "Ispisati rječnik senzori na zaslon"
   ]
  },
  {
   "cell_type": "code",
   "execution_count": 57,
   "id": "961e5f09",
   "metadata": {},
   "outputs": [
    {
     "name": "stdout",
     "output_type": "stream",
     "text": [
      "ID: 1\t: Senzor pokreta\tStatus: Aktivan\tLokacija: Ulazna vrata\n",
      "ID: 2\t: Senzor pokreta\tStatus: Isključen\tLokacija: Vrata na terasi\n",
      "ID: 3\t: Senzor pokreta\tStatus: Aktivan\tLokacija: Ulaz u dvorište\n",
      "ID: 4\t: Senzor pokreta\tStatus: Aktivan\tLokacija: Ulaz u garažu\n"
     ]
    }
   ],
   "source": [
    "for id_senzora, senzor in senzori.items():\n",
    "    print (f'ID: {id_senzora}\\t: {senzor[0]}\\tStatus: {senzor[1]}\\tLokacija: {senzor[2]}')"
   ]
  },
  {
   "cell_type": "markdown",
   "id": "dcbb05f2",
   "metadata": {},
   "source": [
    "Napravite popis mjesta gdje sve postoje senzori!"
   ]
  },
  {
   "cell_type": "code",
   "execution_count": 61,
   "id": "dfd9fbbd",
   "metadata": {},
   "outputs": [
    {
     "name": "stdout",
     "output_type": "stream",
     "text": [
      "Lokacije: \n",
      "Ulazna vrata\n",
      "Vrata na terasi\n",
      "Ulaz u dvorište\n",
      "Ulaz u garažu\n"
     ]
    }
   ],
   "source": [
    "print ('Lokacije: ')\n",
    "for id_senzora, senzor in senzori.items():\n",
    "    print (f'{senzor[2]}')"
   ]
  },
  {
   "cell_type": "code",
   "execution_count": 65,
   "id": "544ec018",
   "metadata": {},
   "outputs": [
    {
     "name": "stdout",
     "output_type": "stream",
     "text": [
      "['Ulazna vrata', 'Vrata na terasi', 'Ulaz u dvorište', 'Ulaz u garažu']\n"
     ]
    }
   ],
   "source": [
    "lokacije = []\n",
    "for senzor in senzori.values():\n",
    "    lokacije. append (senzor [2])\n",
    "print (lokacije)"
   ]
  },
  {
   "cell_type": "code",
   "execution_count": 66,
   "id": "12026d25",
   "metadata": {},
   "outputs": [
    {
     "data": {
      "text/plain": [
       "['Ulazna vrata', 'Vrata na terasi', 'Ulaz u dvorište', 'Ulaz u garažu']"
      ]
     },
     "execution_count": 66,
     "metadata": {},
     "output_type": "execute_result"
    }
   ],
   "source": [
    "lokacije"
   ]
  },
  {
   "cell_type": "markdown",
   "id": "11dcb214",
   "metadata": {},
   "source": [
    "Izdvoji u novu listu članove koji imaju više od 13 znakova"
   ]
  },
  {
   "cell_type": "code",
   "execution_count": 69,
   "id": "3113ec03",
   "metadata": {},
   "outputs": [],
   "source": [
    "duge_lokacije = [x for x in lokacije if len (x) > 13]"
   ]
  },
  {
   "cell_type": "code",
   "execution_count": 70,
   "id": "1aff8665",
   "metadata": {},
   "outputs": [
    {
     "data": {
      "text/plain": [
       "['Vrata na terasi', 'Ulaz u dvorište']"
      ]
     },
     "execution_count": 70,
     "metadata": {},
     "output_type": "execute_result"
    }
   ],
   "source": [
    "duge_lokacije"
   ]
  },
  {
   "cell_type": "markdown",
   "id": "e261472f",
   "metadata": {},
   "source": [
    "Kolekcije podataka"
   ]
  },
  {
   "cell_type": "markdown",
   "id": "acc3b9e8",
   "metadata": {},
   "source": [
    "lista:[]  \n",
    "rječnik:{:}  \n",
    "n-torka:()  \n",
    "set:{}    "
   ]
  },
  {
   "cell_type": "code",
   "execution_count": 73,
   "id": "a77f509b",
   "metadata": {},
   "outputs": [],
   "source": [
    "godine = {1990, 2020, 1986, 1999, 2000, 2001, 2000, 1999, 1999, 2020, 2021}"
   ]
  },
  {
   "cell_type": "code",
   "execution_count": 74,
   "id": "590d88b1",
   "metadata": {},
   "outputs": [
    {
     "data": {
      "text/plain": [
       "{1986, 1990, 1999, 2000, 2001, 2020, 2021}"
      ]
     },
     "execution_count": 74,
     "metadata": {},
     "output_type": "execute_result"
    }
   ],
   "source": [
    "godine"
   ]
  },
  {
   "cell_type": "code",
   "execution_count": 75,
   "id": "76be16bd",
   "metadata": {},
   "outputs": [
    {
     "data": {
      "text/plain": [
       "[2000, 2001, 1986, 2020, 2021, 1990, 1999]"
      ]
     },
     "execution_count": 75,
     "metadata": {},
     "output_type": "execute_result"
    }
   ],
   "source": [
    "list (godine)"
   ]
  },
  {
   "cell_type": "code",
   "execution_count": 76,
   "id": "d1505bfa",
   "metadata": {},
   "outputs": [
    {
     "data": {
      "text/plain": [
       "(2000, 2001, 1986, 2020, 2021, 1990, 1999)"
      ]
     },
     "execution_count": 76,
     "metadata": {},
     "output_type": "execute_result"
    }
   ],
   "source": [
    "tuple (godine)"
   ]
  },
  {
   "cell_type": "code",
   "execution_count": 77,
   "id": "d7d6f853",
   "metadata": {},
   "outputs": [],
   "source": [
    "stringovi = ['a', 'b', 'ab', 'bc', 'abc', 'def', 'oiu', 'wert', 'asdfg', 'jklmn']\n",
    "duljine_stringova_lista =[len(s) for s in stringovi]\n",
    "duljine_stringova_set = {len(s) for s in stringovi}"
   ]
  },
  {
   "cell_type": "code",
   "execution_count": 78,
   "id": "b32e4f71",
   "metadata": {},
   "outputs": [
    {
     "data": {
      "text/plain": [
       "[1, 1, 2, 2, 3, 3, 3, 4, 5, 5]"
      ]
     },
     "execution_count": 78,
     "metadata": {},
     "output_type": "execute_result"
    }
   ],
   "source": [
    "duljine_stringova_lista"
   ]
  },
  {
   "cell_type": "code",
   "execution_count": 80,
   "id": "e583b495",
   "metadata": {},
   "outputs": [
    {
     "data": {
      "text/plain": [
       "{1, 2, 3, 4, 5}"
      ]
     },
     "execution_count": 80,
     "metadata": {},
     "output_type": "execute_result"
    }
   ],
   "source": [
    "duljine_stringova_set"
   ]
  },
  {
   "cell_type": "code",
   "execution_count": 81,
   "id": "53a446e2",
   "metadata": {},
   "outputs": [
    {
     "ename": "SyntaxError",
     "evalue": "invalid syntax (4157597747.py, line 1)",
     "output_type": "error",
     "traceback": [
      "\u001b[1;36m  Input \u001b[1;32mIn [81]\u001b[1;36m\u001b[0m\n\u001b[1;33m    ZADATAK: Napraviti rječnik kojem će ključ biti duljina stringa a vrijednost lista stringova te duljine\u001b[0m\n\u001b[1;37m                       ^\u001b[0m\n\u001b[1;31mSyntaxError\u001b[0m\u001b[1;31m:\u001b[0m invalid syntax\n"
     ]
    }
   ],
   "source": [
    "ZADATAK: Napraviti rječnik kojem će ključ biti duljina stringa a vrijednost lista stringova te duljine"
   ]
  },
  {
   "cell_type": "markdown",
   "id": "421121bf",
   "metadata": {},
   "source": [
    "STATISTIČKE FUNKCIJE - modul statistics"
   ]
  },
  {
   "cell_type": "code",
   "execution_count": 115,
   "id": "cf368e25",
   "metadata": {},
   "outputs": [],
   "source": [
    "podaci = [43, 12, 65.2, 89.3, 20.5, 123.6, 76, 76, 187, 32, 56.1, 100, 76, 21, 72, 91, 155, 66]"
   ]
  },
  {
   "cell_type": "code",
   "execution_count": 116,
   "id": "97789a8d",
   "metadata": {},
   "outputs": [
    {
     "data": {
      "text/plain": [
       "75.65"
      ]
     },
     "execution_count": 116,
     "metadata": {},
     "output_type": "execute_result"
    }
   ],
   "source": [
    "prosjek = sum (podaci)/len(podaci)\n",
    "prosjek"
   ]
  },
  {
   "cell_type": "code",
   "execution_count": 117,
   "id": "bc776997",
   "metadata": {},
   "outputs": [
    {
     "data": {
      "text/plain": [
       "12"
      ]
     },
     "execution_count": 117,
     "metadata": {},
     "output_type": "execute_result"
    }
   ],
   "source": [
    "min (podaci)"
   ]
  },
  {
   "cell_type": "code",
   "execution_count": 118,
   "id": "a228a2e7",
   "metadata": {},
   "outputs": [
    {
     "data": {
      "text/plain": [
       "187"
      ]
     },
     "execution_count": 118,
     "metadata": {},
     "output_type": "execute_result"
    }
   ],
   "source": [
    "max (podaci)"
   ]
  },
  {
   "cell_type": "code",
   "execution_count": 119,
   "id": "d4315541",
   "metadata": {},
   "outputs": [
    {
     "name": "stdout",
     "output_type": "stream",
     "text": [
      "Srednja vrijednost iznosi: 75.65\n"
     ]
    }
   ],
   "source": [
    "import statistics\n",
    "\n",
    "# SREDNJA VRIJEDNOST - prosjek\n",
    "srednja_vrijednost = statistics.mean (podaci)\n",
    "print (f'Srednja vrijednost iznosi: {srednja_vrijednost:.2f}')"
   ]
  },
  {
   "cell_type": "code",
   "execution_count": 120,
   "id": "31e3fe9f",
   "metadata": {},
   "outputs": [
    {
     "name": "stdout",
     "output_type": "stream",
     "text": [
      "Medijan iznosi: 74.0\n"
     ]
    }
   ],
   "source": [
    "#MEDIJAN - sredina distribucije\n",
    "medijan = statistics.median(podaci)\n",
    "print (f'Medijan iznosi: {medijan}')"
   ]
  },
  {
   "cell_type": "code",
   "execution_count": 121,
   "id": "100a1aba",
   "metadata": {},
   "outputs": [
    {
     "name": "stdout",
     "output_type": "stream",
     "text": [
      "Mod iznosi: 76\n"
     ]
    }
   ],
   "source": [
    "#MOD - najčešće pojavljivani član\n",
    "mod = statistics.mode(podaci)\n",
    "print (f'Mod iznosi: {mod}')"
   ]
  },
  {
   "cell_type": "markdown",
   "id": "9a5012b6",
   "metadata": {},
   "source": [
    "Modul datum i vrijeme"
   ]
  },
  {
   "cell_type": "code",
   "execution_count": 126,
   "id": "eb4182b4",
   "metadata": {},
   "outputs": [],
   "source": [
    "from datetime import datetime, date, time\n",
    "dt = datetime (2021, 5, 28, 12, 30, 45) #godina, mjesec, dan, sat, minuta, sekunda"
   ]
  },
  {
   "cell_type": "code",
   "execution_count": 127,
   "id": "b5da7c40",
   "metadata": {},
   "outputs": [
    {
     "data": {
      "text/plain": [
       "2021"
      ]
     },
     "execution_count": 127,
     "metadata": {},
     "output_type": "execute_result"
    }
   ],
   "source": [
    "dt.year   #dt je OBJEKT, pristupanje pojedinim stavkama"
   ]
  },
  {
   "cell_type": "code",
   "execution_count": 128,
   "id": "f72b5b46",
   "metadata": {},
   "outputs": [
    {
     "data": {
      "text/plain": [
       "12"
      ]
     },
     "execution_count": 128,
     "metadata": {},
     "output_type": "execute_result"
    }
   ],
   "source": [
    "dt.hour"
   ]
  },
  {
   "cell_type": "code",
   "execution_count": 134,
   "id": "80b14a9e",
   "metadata": {},
   "outputs": [
    {
     "name": "stdout",
     "output_type": "stream",
     "text": [
      "Navedeni datum je: 28.5.2021.\n"
     ]
    }
   ],
   "source": [
    "print(f'Navedeni datum je: {dt.day}.{dt.month}.{dt.year}.')"
   ]
  },
  {
   "cell_type": "code",
   "execution_count": 135,
   "id": "f3f8779c",
   "metadata": {},
   "outputs": [
    {
     "name": "stdout",
     "output_type": "stream",
     "text": [
      "Navedeno vrijeme je: 12:30:45.\n"
     ]
    }
   ],
   "source": [
    "print(f'Navedeno vrijeme je: {dt.hour}:{dt.minute}:{dt.second}.')"
   ]
  },
  {
   "cell_type": "code",
   "execution_count": 136,
   "id": "97655978",
   "metadata": {},
   "outputs": [
    {
     "data": {
      "text/plain": [
       "'28.05.2021.'"
      ]
     },
     "execution_count": 136,
     "metadata": {},
     "output_type": "execute_result"
    }
   ],
   "source": [
    "dt.strftime ('%d.%m.%Y.')"
   ]
  },
  {
   "cell_type": "code",
   "execution_count": 138,
   "id": "64f02692",
   "metadata": {},
   "outputs": [
    {
     "data": {
      "text/plain": [
       "'12:30:45'"
      ]
     },
     "execution_count": 138,
     "metadata": {},
     "output_type": "execute_result"
    }
   ],
   "source": [
    "dt.strftime ('%H:%M:%S')"
   ]
  },
  {
   "cell_type": "code",
   "execution_count": 143,
   "id": "36cf9cb4",
   "metadata": {},
   "outputs": [],
   "source": [
    "niz_datum = '20070116'\n",
    "datum_niz = datetime.strptime(niz_datum, '%Y%m%d')"
   ]
  },
  {
   "cell_type": "code",
   "execution_count": 144,
   "id": "f302e1f1",
   "metadata": {},
   "outputs": [
    {
     "data": {
      "text/plain": [
       "datetime.datetime(2021, 5, 28, 12, 0)"
      ]
     },
     "execution_count": 144,
     "metadata": {},
     "output_type": "execute_result"
    }
   ],
   "source": [
    "dt"
   ]
  },
  {
   "cell_type": "code",
   "execution_count": 145,
   "id": "c276e2ab",
   "metadata": {},
   "outputs": [],
   "source": [
    "dt = dt.replace (minute=0, second=0)"
   ]
  },
  {
   "cell_type": "code",
   "execution_count": 147,
   "id": "7e6e17d1",
   "metadata": {},
   "outputs": [
    {
     "data": {
      "text/plain": [
       "datetime.datetime(2007, 1, 16, 0, 0)"
      ]
     },
     "execution_count": 147,
     "metadata": {},
     "output_type": "execute_result"
    }
   ],
   "source": [
    "datum_niz"
   ]
  },
  {
   "cell_type": "code",
   "execution_count": 148,
   "id": "a999cd98",
   "metadata": {},
   "outputs": [
    {
     "data": {
      "text/plain": [
       "datetime.timedelta(days=5246, seconds=43200)"
      ]
     },
     "execution_count": 148,
     "metadata": {},
     "output_type": "execute_result"
    }
   ],
   "source": [
    "dt - datum_niz"
   ]
  },
  {
   "cell_type": "code",
   "execution_count": null,
   "id": "5141a46e",
   "metadata": {},
   "outputs": [],
   "source": [
    "ZADATAK\n",
    "Napravite aplikaciju koja će generirati nasumične podatke, tako da simulira dnevni rast temperature od jutra do poslijepodneva i zatim pad do ranog jutra.\n",
    "Podatke treba pohraniti u rječnik, tako da je ključ trenutak (sat) ako promatramo na razini jednog dana, a podaci lista parova vrijednosti (tuple) vremena i temperature. Temperatura treba biti izmjerena svakih 1h.\n",
    "\n",
    "Temperatura zraka od -25 do +39 stupnjeva Celzijusa.\n",
    "Podacima se mogu dodati i informacije o vlažnosti zraka (vrijednosti od 15% do 95%) te tlak zraka (990 hPa do 1035hPa)"
   ]
  }
 ],
 "metadata": {
  "kernelspec": {
   "display_name": "Python 3 (ipykernel)",
   "language": "python",
   "name": "python3"
  },
  "language_info": {
   "codemirror_mode": {
    "name": "ipython",
    "version": 3
   },
   "file_extension": ".py",
   "mimetype": "text/x-python",
   "name": "python",
   "nbconvert_exporter": "python",
   "pygments_lexer": "ipython3",
   "version": "3.9.12"
  }
 },
 "nbformat": 4,
 "nbformat_minor": 5
}
