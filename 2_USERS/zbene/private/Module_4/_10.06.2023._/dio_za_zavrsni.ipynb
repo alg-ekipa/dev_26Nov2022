{
 "cells": [
  {
   "cell_type": "markdown",
   "id": "72e20d78",
   "metadata": {},
   "source": [
    "**Zadatak 6**\n",
    "\n",
    "Izračunajte prosječnu ocjenu za pet filmova koje ste nedavno pogledali. Unesite ocjene u listu i iskoristite funkciju za izračun prosjeka."
   ]
  },
  {
   "cell_type": "code",
   "execution_count": 4,
   "id": "a2cc22d0",
   "metadata": {},
   "outputs": [
    {
     "name": "stdout",
     "output_type": "stream",
     "text": [
      "Prosjek ocjena: 4.1\n"
     ]
    }
   ],
   "source": [
    "ocjene = [4.5, 3.2, 4.8, 3.9, 4.1]\n",
    "prosjek = sum (ocjene) / len (ocjene)\n",
    "print (f'Prosjek ocjena: {prosjek}')"
   ]
  },
  {
   "cell_type": "markdown",
   "id": "258dc702",
   "metadata": {},
   "source": [
    "**Zadatak 7**\n",
    "\n",
    "Napravite dvije liste s naslovima filmova i njihovim godinama izlaska. Zatim spojite te dvije liste u jednu listu tako da svaki element bude niz koji sadrži naziv filma i godinu izlaska."
   ]
  },
  {
   "cell_type": "code",
   "execution_count": 9,
   "id": "703aca53",
   "metadata": {},
   "outputs": [
    {
     "name": "stdout",
     "output_type": "stream",
     "text": [
      "[('Superman', 1979), ('Titatnic', 1997), ('Avatar', 2009), ('Kum', 1972)]\n"
     ]
    }
   ],
   "source": [
    "filmovi = ['Superman', 'Titatnic', 'Avatar', 'Kum']\n",
    "godine = [1979, 1997, 2009, 1972]\n",
    "\n",
    "filmovi_godine = []\n",
    "\n",
    "for i in range (len(filmovi)):\n",
    "    film_godina = (filmovi[i], godine[i])\n",
    "    filmovi_godine.append (film_godina)\n",
    "    \n",
    "print(filmovi_godine)"
   ]
  },
  {
   "cell_type": "markdown",
   "id": "21ec41cc",
   "metadata": {},
   "source": [
    "**Zadatak 8**\n",
    "\n",
    "Napravite listu s pet različitih žanrova filmova i ispišite ih na ekran. Zatim izradite drugu listu koja sadrži pet filmova, pri čemu svaki film pripada jednom od žanrova iz prve liste."
   ]
  },
  {
   "cell_type": "markdown",
   "id": "d591ee82",
   "metadata": {},
   "source": [
    "Željeni rezultat:\n",
    "Superman: fantastika\n",
    "Titanic: drama\n",
    "Kum: kriminalistički\n",
    "Avatar: SF\n",
    "Povratak u budućnost: drama"
   ]
  },
  {
   "cell_type": "code",
   "execution_count": 17,
   "id": "e785fd3b",
   "metadata": {},
   "outputs": [
    {
     "name": "stdout",
     "output_type": "stream",
     "text": [
      "{'Superman': 'fantastika', 'Titatnic': 'drama', 'Avatar': 'kriminalistički', 'Kum': 'SF', 'Povratak u budućnost': 'drama'}\n"
     ]
    }
   ],
   "source": [
    "filmovi = ['Superman', 'Titatnic', 'Avatar', 'Kum', 'Povratak u budućnost']\n",
    "žanrovi = ['fantastika', 'drama', 'kriminalistički', 'SF', 'drama']\n",
    "\n",
    "lista_žanrova = {}\n",
    "\n",
    "for i in range (len(filmovi)):\n",
    "    ključ = filmovi [i]\n",
    "    vrijednost = žanrovi [i]\n",
    "    lista_žanrova[ključ] = vrijednost\n",
    "    \n",
    "print(lista_žanrova)"
   ]
  },
  {
   "cell_type": "markdown",
   "id": "1394ada0",
   "metadata": {},
   "source": [
    "**Zadatak 11**\n",
    "\n",
    "Napravite listu s naslovima filmova i njihovim glavnim glumcima. Zatim izradite drugu listu koja sadrži samo imena glumaca."
   ]
  },
  {
   "cell_type": "code",
   "execution_count": 25,
   "id": "be56e931",
   "metadata": {},
   "outputs": [
    {
     "name": "stdout",
     "output_type": "stream",
     "text": [
      "['Christopher Reeve', 'Margot Kidder', 'Leonardo DiCaprio', 'Kate Winslet', 'Al Pacino', 'Marlon Brando', 'Michael J. Fox', 'Christopher Lloyd']\n"
     ]
    }
   ],
   "source": [
    "filmovi_glumci = [\n",
    "    ['Superman', ['Christopher Reeve', 'Margot Kidder']],\n",
    "    ['Titanic', ['Leonardo DiCaprio', 'Kate Winslet']],\n",
    "    ['Kum', ['Al Pacino', 'Marlon Brando']],\n",
    "    ['Povratak u budućnost', ['Michael J. Fox', 'Christopher Lloyd']]\n",
    "    ]\n",
    "\n",
    "samo_glumci = []\n",
    "            \n",
    "for film_glumac in filmovi_glumci:\n",
    "    for glumci in film_glumac[1]:\n",
    "        samo_glumci.append(glumci)\n",
    "        \n",
    "print (samo_glumci)"
   ]
  },
  {
   "cell_type": "markdown",
   "id": "c405d1d2",
   "metadata": {},
   "source": [
    "Željeni rezultat:\n",
    "    ['Christopher Reeve', 'Margot Kidder', 'Leonardo DiCaprio', 'Kate Winslet', 'Al Pacino', 'Marlon Brando', 'Michael J. Fox', 'Christopher Lloyd']"
   ]
  },
  {
   "cell_type": "markdown",
   "id": "ce3669b3",
   "metadata": {},
   "source": [
    "Od zadataka 7 i 11 napraviti rječnike (dictionary)  \n",
    "ime filma : ključ  \n",
    "godina: vrijednost  \n",
    "\n",
    "ime filma: ključ   \n",
    "glumci (u listi): vrijednost"
   ]
  },
  {
   "cell_type": "code",
   "execution_count": 33,
   "id": "c3933e8e",
   "metadata": {},
   "outputs": [
    {
     "name": "stdout",
     "output_type": "stream",
     "text": [
      "{'Superman': '1979', 'Titanic': '1997', 'Avatar': '2009', 'Kum': '1972'}\n"
     ]
    }
   ],
   "source": [
    "filmovi = ['Superman', 'Titanic', 'Avatar', 'Kum']\n",
    "\n",
    "godine = ['1979', '1997', '2009', '1972']\n",
    "\n",
    "prazan_rječnik = {}\n",
    "\n",
    "for k in range (len(filmovi)):\n",
    "    prazan_rječnik [filmovi [k]] = godine[k]\n",
    "   \n",
    "print (prazan_rječnik)"
   ]
  },
  {
   "cell_type": "code",
   "execution_count": 34,
   "id": "1159f817",
   "metadata": {},
   "outputs": [
    {
     "ename": "IndexError",
     "evalue": "list index out of range",
     "output_type": "error",
     "traceback": [
      "\u001b[1;31m---------------------------------------------------------------------------\u001b[0m",
      "\u001b[1;31mIndexError\u001b[0m                                Traceback (most recent call last)",
      "Input \u001b[1;32mIn [34]\u001b[0m, in \u001b[0;36m<cell line: 10>\u001b[1;34m()\u001b[0m\n\u001b[0;32m      8\u001b[0m puni_rječnik \u001b[38;5;241m=\u001b[39m {}\n\u001b[0;32m     10\u001b[0m \u001b[38;5;28;01mfor\u001b[39;00m k \u001b[38;5;129;01min\u001b[39;00m \u001b[38;5;28mrange\u001b[39m (\u001b[38;5;28mlen\u001b[39m(filmovi_glumci)):\n\u001b[1;32m---> 11\u001b[0m     ključ \u001b[38;5;241m=\u001b[39m \u001b[43mfilmovi_glumci\u001b[49m\u001b[43m[\u001b[49m\u001b[43mi\u001b[49m\u001b[43m]\u001b[49m\n\u001b[0;32m     12\u001b[0m     vrijednost \u001b[38;5;241m=\u001b[39m filmovi_glumci [ii]\n\u001b[0;32m     13\u001b[0m     puni_rječnik [ključ] \u001b[38;5;241m=\u001b[39m vrijednost\n",
      "\u001b[1;31mIndexError\u001b[0m: list index out of range"
     ]
    }
   ],
   "source": [
    "filmovi_glumci = [\n",
    "    ['Superman', ['Christopher Reeve', 'Margot Kidder']],\n",
    "    ['Titanic', ['Leonardo DiCaprio', 'Kate Winslet']],\n",
    "    ['Kum', ['Al Pacino', 'Marlon Brando']],\n",
    "    ['Povratak u budućnost', ['Michael J. Fox', 'Christopher Lloyd']]\n",
    "    ]\n",
    "\n",
    "puni_rječnik = {}\n",
    "\n",
    "for k in range (len(filmovi_glumci)):\n",
    "    ključ = filmovi_glumci[i]\n",
    "    vrijednost = filmovi_glumci [ii]\n",
    "    puni_rječnik [ključ] = vrijednost\n",
    "\n",
    "print(puni_rječnik)"
   ]
  },
  {
   "cell_type": "markdown",
   "id": "9455e22c",
   "metadata": {},
   "source": [
    "KONTROLA TOKA"
   ]
  },
  {
   "cell_type": "markdown",
   "id": "6402732e",
   "metadata": {},
   "source": [
    "Simulacija senzora"
   ]
  },
  {
   "cell_type": "code",
   "execution_count": 46,
   "id": "20e3fad9",
   "metadata": {},
   "outputs": [
    {
     "name": "stdout",
     "output_type": "stream",
     "text": [
      "Klima je uključena!\n",
      "Temperatura hlađenja: 21\n"
     ]
    }
   ],
   "source": [
    "temperatura = 28      #podatak koji dobijemo sa senzora\n",
    "\n",
    "if temperatura >= 25:\n",
    "    print ('Klima je uključena!')\n",
    "    print ('Temperatura hlađenja: 21')\n",
    "else:\n",
    "    print (f'Temperatura iznosi {temperatura}')"
   ]
  },
  {
   "cell_type": "code",
   "execution_count": 51,
   "id": "260e932a",
   "metadata": {},
   "outputs": [
    {
     "name": "stdout",
     "output_type": "stream",
     "text": [
      "Klima je uključena\n",
      "Temperatura hlađenja je 20 C\n"
     ]
    }
   ],
   "source": [
    "if temperatura <=18:\n",
    "    print ('Grijanje je uključeno')\n",
    "    print ('Temperatura grijanja je 23')\n",
    "elif temperatura == 22:\n",
    "    print ('Grijanje je isključeno')\n",
    "    print (f'Trenutna temperatura je {temperatura}')\n",
    "elif temperatura >= 26:\n",
    "    print ('Klima je uključena')\n",
    "    print ('Temperatura hlađenja je 20 C')\n",
    "elif temperatura == 24:\n",
    "    print ('Klima je isključena')\n",
    "    print (f'Trenutna temperatura je {temperatura}')\n",
    "else:\n",
    "    print (f'Trenutna temperatura je {temperatura}')"
   ]
  },
  {
   "cell_type": "code",
   "execution_count": 52,
   "id": "290bec66",
   "metadata": {},
   "outputs": [
    {
     "name": "stdout",
     "output_type": "stream",
     "text": [
      "Vlažnost tla je 25%, ventil je ZATVOREN\n"
     ]
    }
   ],
   "source": [
    "vlažnost_tla = 25\n",
    "while vlažnost_tla >= 60:\n",
    "    print (f'Vlažnost tla je preniska, iznosi {vlažnost_tla}%, pokrenuti zalijevanje!')\n",
    "    print ('Ventil pumpe je OTVOREN!')\n",
    "    vlažnost_tla = 5\n",
    "\n",
    "print (f'Vlažnost tla je {vlažnost_tla}%, ventil je ZATVOREN')\n",
    "    "
   ]
  },
  {
   "cell_type": "code",
   "execution_count": 53,
   "id": "09b983e4",
   "metadata": {},
   "outputs": [],
   "source": [
    "senzori = {1 : ['Senzor pokreta', 'Aktivan', 'Ulazna vrata'],\n",
    "           2 : ['Senzor pokreta', 'Isključen', 'Vrata na terasi'],\n",
    "           3 : ['Senzor pokreta', 'Aktivan', 'Ulaz u dvorište'],\n",
    "           4 : ['Senzor pokreta', 'Aktivan', 'Ulaz u garažu']}"
   ]
  },
  {
   "cell_type": "markdown",
   "id": "274d859f",
   "metadata": {},
   "source": [
    "Ispisati rječnik senzori na zaslon"
   ]
  },
  {
   "cell_type": "code",
   "execution_count": 57,
   "id": "af583123",
   "metadata": {},
   "outputs": [
    {
     "name": "stdout",
     "output_type": "stream",
     "text": [
      "ID: 1\t: Senzor pokreta\tStatus: Aktivan\tLokacija: Ulazna vrata\n",
      "ID: 2\t: Senzor pokreta\tStatus: Isključen\tLokacija: Vrata na terasi\n",
      "ID: 3\t: Senzor pokreta\tStatus: Aktivan\tLokacija: Ulaz u dvorište\n",
      "ID: 4\t: Senzor pokreta\tStatus: Aktivan\tLokacija: Ulaz u garažu\n"
     ]
    }
   ],
   "source": [
    "for id_senzora, senzor in senzori.items():\n",
    "    print (f'ID: {id_senzora}\\t: {senzor[0]}\\tStatus: {senzor[1]}\\tLokacija: {senzor[2]}')"
   ]
  },
  {
   "cell_type": "markdown",
   "id": "9ae88601",
   "metadata": {},
   "source": [
    "Napravite popis mjesta gdje sve postoje senzori!"
   ]
  },
  {
   "cell_type": "code",
   "execution_count": 61,
   "id": "9accf5a6",
   "metadata": {},
   "outputs": [
    {
     "name": "stdout",
     "output_type": "stream",
     "text": [
      "Lokacije: \n",
      "Ulazna vrata\n",
      "Vrata na terasi\n",
      "Ulaz u dvorište\n",
      "Ulaz u garažu\n"
     ]
    }
   ],
   "source": [
    "print ('Lokacije: ')\n",
    "for id_senzora, senzor in senzori.items():\n",
    "    print (f'{senzor[2]}')"
   ]
  },
  {
   "cell_type": "code",
   "execution_count": 65,
   "id": "c9b009c2",
   "metadata": {},
   "outputs": [
    {
     "name": "stdout",
     "output_type": "stream",
     "text": [
      "['Ulazna vrata', 'Vrata na terasi', 'Ulaz u dvorište', 'Ulaz u garažu']\n"
     ]
    }
   ],
   "source": [
    "lokacije = []\n",
    "for senzor in senzori.values():\n",
    "    lokacije. append (senzor [2])\n",
    "print (lokacije)"
   ]
  },
  {
   "cell_type": "code",
   "execution_count": 66,
   "id": "1d2a1115",
   "metadata": {},
   "outputs": [
    {
     "data": {
      "text/plain": [
       "['Ulazna vrata', 'Vrata na terasi', 'Ulaz u dvorište', 'Ulaz u garažu']"
      ]
     },
     "execution_count": 66,
     "metadata": {},
     "output_type": "execute_result"
    }
   ],
   "source": [
    "lokacije"
   ]
  },
  {
   "cell_type": "markdown",
   "id": "9605d1e8",
   "metadata": {},
   "source": [
    "Izdvoji u novu listu članove koji imaju više od 13 znakova"
   ]
  },
  {
   "cell_type": "code",
   "execution_count": 69,
   "id": "d7f20c10",
   "metadata": {},
   "outputs": [],
   "source": [
    "duge_lokacije = [x for x in lokacije if len (x) > 13]"
   ]
  },
  {
   "cell_type": "code",
   "execution_count": 70,
   "id": "f6a3d5ec",
   "metadata": {},
   "outputs": [
    {
     "data": {
      "text/plain": [
       "['Vrata na terasi', 'Ulaz u dvorište']"
      ]
     },
     "execution_count": 70,
     "metadata": {},
     "output_type": "execute_result"
    }
   ],
   "source": [
    "duge_lokacije"
   ]
  },
  {
   "cell_type": "code",
   "execution_count": null,
   "id": "57d690c0",
   "metadata": {},
   "outputs": [],
   "source": []
  }
 ],
 "metadata": {
  "kernelspec": {
   "display_name": "Python 3 (ipykernel)",
   "language": "python",
   "name": "python3"
  },
  "language_info": {
   "codemirror_mode": {
    "name": "ipython",
    "version": 3
   },
   "file_extension": ".py",
   "mimetype": "text/x-python",
   "name": "python",
   "nbconvert_exporter": "python",
   "pygments_lexer": "ipython3",
   "version": "3.9.12"
  }
 },
 "nbformat": 4,
 "nbformat_minor": 5
}
