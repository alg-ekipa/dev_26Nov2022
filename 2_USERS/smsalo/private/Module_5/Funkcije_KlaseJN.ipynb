{
 "cells": [
  {
   "cell_type": "markdown",
   "id": "2f988323",
   "metadata": {},
   "source": [
    "## Funkcije"
   ]
  },
  {
   "cell_type": "code",
   "execution_count": 3,
   "id": "02ed4f95",
   "metadata": {},
   "outputs": [],
   "source": [
    "import random\n",
    "\n",
    "def baci_kockicu(broj_bacanja, broj_kockica):\n",
    "    for kockica in range (broj_kockica):\n",
    "        for bacanje in range(broj_bacanja):\n",
    "            rezultat = random.randrange(1,7)\n",
    "            print(rezultat, end=' ')\n",
    "        print()\n",
    "            \n"
   ]
  },
  {
   "cell_type": "code",
   "execution_count": 6,
   "id": "eff10ac2",
   "metadata": {},
   "outputs": [
    {
     "name": "stdout",
     "output_type": "stream",
     "text": [
      "4 5 1 6 1 \n",
      "6 6 2 1 4 \n",
      "2 2 4 3 4 \n"
     ]
    }
   ],
   "source": [
    "baci_kockicu(5, 3)"
   ]
  },
  {
   "cell_type": "markdown",
   "id": "682aac2b",
   "metadata": {},
   "source": [
    "#### ZADATAK"
   ]
  },
  {
   "cell_type": "markdown",
   "id": "1e6c72b7",
   "metadata": {},
   "source": [
    "Pravila: igrač baca dvije šesterostrane kockice. Ako je zbroj dobivenih brojeva u prvom bacanju 7 ili 11, igrač je pobijedio. Ako je zbroj dobivenih brojeva: 4, 5, 6, 8, 9 ili 10, onda taj broj postaje CILJ, odnosno igrač mora bacati kockice sve dok zbroj dobivenih brojeva ne bude CILJ. Ako je u prvom ili bilo kojem drugom bacanju igrač dobio zbroj brojeva: 2, 3 ili 12, igrač je izgubio.\n",
    "\n"
   ]
  },
  {
   "cell_type": "code",
   "execution_count": 15,
   "id": "8c7675b4",
   "metadata": {},
   "outputs": [
    {
     "name": "stdout",
     "output_type": "stream",
     "text": [
      "Igrač je bacio: 3 + 5 = 8\n",
      "Bodovi: 8\n",
      "Igrač je bacio: 5 + 2 = 7\n",
      "Igrač je bacio: 4 + 4 = 8\n",
      "Pobjeda!!!\n"
     ]
    }
   ],
   "source": [
    "import random\n",
    "\n",
    "def baci_kockicu():\n",
    "    kockica1 = random.randrange(1,7)\n",
    "    kockica2 = random.randrange(1,7)\n",
    "    return (kockica1, kockica2)\n",
    "\n",
    "def prikazi_rezultat_bacanja(rezultat_bacanja):\n",
    "    print(f'Igrač je bacio: {rezultat_bacanja[0]} + {rezultat_bacanja[1]} = {sum(rezultat_bacanja)}')\n",
    "    \n",
    "\n",
    "rezultat_bacanja = baci_kockicu()\n",
    "prikazi_rezultat_bacanja(rezultat_bacanja)\n",
    "\n",
    "zbroj_bacanja = sum(rezultat_bacanja)\n",
    "\n",
    "# POBJEDA\n",
    "if zbroj_bacanja in (7,11):\n",
    "    status_igre = 'POBJEDA'\n",
    "    \n",
    "# GUBITAK\n",
    "elif zbroj_bacanja in (2,3,12):\n",
    "    status_igre = 'GUBITAK'\n",
    "    \n",
    "# NASTAVAK IGRE\n",
    "else:\n",
    "    status_igre = 'NASTAVI'\n",
    "    bodovi = zbroj_bacanja\n",
    "    print('Bodovi:', bodovi)\n",
    "\n",
    "while status_igre == 'NASTAVI':\n",
    "    rezultat_bacanja = baci_kockicu()\n",
    "    prikazi_rezultat_bacanja(rezultat_bacanja)\n",
    "    zbroj_bacanja = sum(rezultat_bacanja)\n",
    "    \n",
    "    if zbroj_bacanja == bodovi:\n",
    "        status_igre = 'POBJEDA'\n",
    "    elif zbroj_bacanja in (2,3,12):\n",
    "        status_igre = 'GUBITAK'\n",
    "        \n",
    "if status_igre == 'POBJEDA':\n",
    "    print('Pobjeda!!!')\n",
    "else:\n",
    "    print('Izgubili ste')\n",
    "\n",
    "   "
   ]
  },
  {
   "cell_type": "markdown",
   "id": "af2d5efc",
   "metadata": {},
   "source": [
    "### Lokalne i globalne varijable"
   ]
  },
  {
   "cell_type": "code",
   "execution_count": 16,
   "id": "a08cbeb2",
   "metadata": {},
   "outputs": [],
   "source": [
    "def funkcija():\n",
    "    lista = []\n",
    "    for i in range(5):\n",
    "        lista.append(i)\n",
    "        "
   ]
  },
  {
   "cell_type": "code",
   "execution_count": 17,
   "id": "957dfa2d",
   "metadata": {},
   "outputs": [],
   "source": [
    "funkcija()"
   ]
  },
  {
   "cell_type": "code",
   "execution_count": 18,
   "id": "48a73b34",
   "metadata": {},
   "outputs": [
    {
     "ename": "NameError",
     "evalue": "name 'lista' is not defined",
     "output_type": "error",
     "traceback": [
      "\u001b[1;31m---------------------------------------------------------------------------\u001b[0m",
      "\u001b[1;31mNameError\u001b[0m                                 Traceback (most recent call last)",
      "Input \u001b[1;32mIn [18]\u001b[0m, in \u001b[0;36m<cell line: 1>\u001b[1;34m()\u001b[0m\n\u001b[1;32m----> 1\u001b[0m \u001b[43mlista\u001b[49m\n",
      "\u001b[1;31mNameError\u001b[0m: name 'lista' is not defined"
     ]
    }
   ],
   "source": [
    "lista"
   ]
  },
  {
   "cell_type": "markdown",
   "id": "c81f1654",
   "metadata": {},
   "source": [
    "Lista je **LOKALNA** VARIJABLA i \"ne vidi se\" iz glavnog programa "
   ]
  },
  {
   "cell_type": "code",
   "execution_count": 19,
   "id": "bb4f517c",
   "metadata": {},
   "outputs": [],
   "source": [
    "def funkcija():\n",
    "    lista = []\n",
    "    for i in range(5):\n",
    "        lista.append(i)\n",
    "    return lista"
   ]
  },
  {
   "cell_type": "code",
   "execution_count": 20,
   "id": "619b16a2",
   "metadata": {},
   "outputs": [],
   "source": [
    "glavna_lista = funkcija()"
   ]
  },
  {
   "cell_type": "code",
   "execution_count": 21,
   "id": "e90c0c5f",
   "metadata": {},
   "outputs": [
    {
     "data": {
      "text/plain": [
       "[0, 1, 2, 3, 4]"
      ]
     },
     "execution_count": 21,
     "metadata": {},
     "output_type": "execute_result"
    }
   ],
   "source": [
    "glavna_lista"
   ]
  },
  {
   "cell_type": "code",
   "execution_count": 22,
   "id": "4dfb65f1",
   "metadata": {},
   "outputs": [
    {
     "name": "stdout",
     "output_type": "stream",
     "text": [
      "[0, 1, 2, 3, 4]\n"
     ]
    }
   ],
   "source": [
    "print(funkcija())"
   ]
  },
  {
   "cell_type": "code",
   "execution_count": 23,
   "id": "d54dd2b3",
   "metadata": {},
   "outputs": [
    {
     "data": {
      "text/plain": [
       "[0, 1, 2, 3, 4]"
      ]
     },
     "execution_count": 23,
     "metadata": {},
     "output_type": "execute_result"
    }
   ],
   "source": [
    "funkcija()"
   ]
  },
  {
   "cell_type": "code",
   "execution_count": 24,
   "id": "8ed51b55",
   "metadata": {},
   "outputs": [
    {
     "name": "stdout",
     "output_type": "stream",
     "text": [
      "None\n"
     ]
    }
   ],
   "source": [
    "def funkcija():\n",
    "    lista = []\n",
    "    for i in range(5):\n",
    "        lista.append(i)\n",
    "    \n",
    "\n",
    "print(funkcija())\n"
   ]
  },
  {
   "cell_type": "code",
   "execution_count": 25,
   "id": "6b08d97c",
   "metadata": {},
   "outputs": [
    {
     "name": "stdout",
     "output_type": "stream",
     "text": [
      "[0, 1, 2, 3, 4]\n"
     ]
    }
   ],
   "source": [
    "lista = []\n",
    "\n",
    "def funkcija():\n",
    "    for i in range(5):\n",
    "        lista.append(i)\n",
    "        \n",
    "funkcija()\n",
    "print(lista)"
   ]
  },
  {
   "cell_type": "markdown",
   "id": "19c05aaf",
   "metadata": {},
   "source": [
    "Sada je varijabla lista vidljiva, jer je **GLOBALNA** VARIJABLA"
   ]
  },
  {
   "cell_type": "code",
   "execution_count": 26,
   "id": "c3703117",
   "metadata": {},
   "outputs": [
    {
     "name": "stdout",
     "output_type": "stream",
     "text": [
      "[0, 1, 2, 3, 4, 0, 1, 2, 3, 4]\n"
     ]
    }
   ],
   "source": [
    "funkcija()\n",
    "print(lista)"
   ]
  },
  {
   "cell_type": "markdown",
   "id": "c65ba636",
   "metadata": {},
   "source": [
    "#### Funkcija za pročišćavanje stringova/teksta"
   ]
  },
  {
   "cell_type": "code",
   "execution_count": 37,
   "id": "32e8611f",
   "metadata": {},
   "outputs": [],
   "source": [
    "import re\n",
    "\n",
    "gradovi = ['   Zagreb', 'Osijek!', 'Rijeka', 'split', 'PUla', 'slavonski brod#', 'Nova gradiška?']\n",
    "\n",
    "def popravi_unos(lista):\n",
    "    rezultat = []\n",
    "    for element in lista:\n",
    "        element = element.strip()              # čisti suvišne znakove na početku i na kraju\n",
    "        element = re.sub('[!#?]','', element)  # radi zamjenu suvišnih znakova gdje god bili\n",
    "        element = element.title()              # stavlja samo prvo slovo veliko\n",
    "        rezultat.append(element)\n",
    "    return rezultat\n",
    "      \n",
    "        "
   ]
  },
  {
   "cell_type": "code",
   "execution_count": 32,
   "id": "702551a9",
   "metadata": {},
   "outputs": [],
   "source": [
    "niz = '\\nsunce   '\n",
    "niz = niz.strip()"
   ]
  },
  {
   "cell_type": "code",
   "execution_count": 33,
   "id": "db04d1cd",
   "metadata": {},
   "outputs": [
    {
     "data": {
      "text/plain": [
       "'sunce'"
      ]
     },
     "execution_count": 33,
     "metadata": {},
     "output_type": "execute_result"
    }
   ],
   "source": [
    "niz"
   ]
  },
  {
   "cell_type": "code",
   "execution_count": 34,
   "id": "5ed1cad5",
   "metadata": {},
   "outputs": [
    {
     "data": {
      "text/plain": [
       "'Sunce'"
      ]
     },
     "execution_count": 34,
     "metadata": {},
     "output_type": "execute_result"
    }
   ],
   "source": [
    "niz.title()"
   ]
  },
  {
   "cell_type": "code",
   "execution_count": 36,
   "id": "e4f3fe24",
   "metadata": {},
   "outputs": [
    {
     "data": {
      "text/plain": [
       "'globus'"
      ]
     },
     "execution_count": 36,
     "metadata": {},
     "output_type": "execute_result"
    }
   ],
   "source": [
    "n = '#glob%us?'\n",
    "re.sub('[#%?]','',n)"
   ]
  },
  {
   "cell_type": "code",
   "execution_count": 38,
   "id": "514b9d47",
   "metadata": {},
   "outputs": [
    {
     "data": {
      "text/plain": [
       "['Zagreb',\n",
       " 'Osijek',\n",
       " 'Rijeka',\n",
       " 'Split',\n",
       " 'Pula',\n",
       " 'Slavonski Brod',\n",
       " 'Nova Gradiška']"
      ]
     },
     "execution_count": 38,
     "metadata": {},
     "output_type": "execute_result"
    }
   ],
   "source": [
    "popravi_unos(gradovi)"
   ]
  },
  {
   "cell_type": "markdown",
   "id": "8b2367b8",
   "metadata": {},
   "source": [
    "#### LAMBDA funkcija"
   ]
  },
  {
   "cell_type": "markdown",
   "id": "8c539dc1",
   "metadata": {},
   "source": [
    "Lambda je anonimna funkcija, pohranjuje vrijednost odmah u varijablu.   \n",
    "Ima JEDNU naredbu u jednoj linij koda (_statement_)"
   ]
  },
  {
   "cell_type": "code",
   "execution_count": 43,
   "id": "290007ee",
   "metadata": {},
   "outputs": [
    {
     "name": "stdout",
     "output_type": "stream",
     "text": [
      "Funkcija: 23\n"
     ]
    }
   ],
   "source": [
    "def funkcija(arg1, arg2):\n",
    "    return (arg1 * arg2) + 3\n",
    "\n",
    "print(f'Funkcija: {funkcija(5,4)}')"
   ]
  },
  {
   "cell_type": "code",
   "execution_count": 44,
   "id": "7563dbd6",
   "metadata": {},
   "outputs": [
    {
     "name": "stdout",
     "output_type": "stream",
     "text": [
      "Lambda: 24\n"
     ]
    }
   ],
   "source": [
    "varijabla = lambda arg1,arg2: (arg1 * arg2) + 3\n",
    "print(f'Lambda: {varijabla(7,3)}')"
   ]
  },
  {
   "cell_type": "code",
   "execution_count": 45,
   "id": "15453180",
   "metadata": {},
   "outputs": [],
   "source": [
    "dnevne_temperature = [15.1, 15.2, 15.6, 16.1, 16.8, 17.3, 17.3, 17.9, 18.3, 19.1, 20.3, 20.5, 20.8, \n",
    "                      21.2, 21.8, 22.3, 23.1, 24.5, 25.6, 25.9, 26.3, 26.8, 27.1, 27.3, 27.5, 27.8, \n",
    "                      27.2, 26.8, 26.3, 26.1, 25.5, 24.6, 23.9, 23.3, 22.8, 22.1, 21.3, 20.5, 19.8,\n",
    "                      19.5, 19.1, 18.6, 18.1, 17.6, 16.8, 16.3, 15.9, 15.4, 15.2, 14.9, 14.6, 14.1]"
   ]
  },
  {
   "cell_type": "markdown",
   "id": "45991713",
   "metadata": {},
   "source": [
    "Iz liste dnevnih temperatura izdvojit one veće od 25.0 u novu listu."
   ]
  },
  {
   "cell_type": "code",
   "execution_count": 46,
   "id": "ffa1d3de",
   "metadata": {},
   "outputs": [
    {
     "name": "stdout",
     "output_type": "stream",
     "text": [
      "[25.6, 25.9, 26.3, 26.8, 27.1, 27.3, 27.5, 27.8, 27.2, 26.8, 26.3, 26.1, 25.5]\n"
     ]
    }
   ],
   "source": [
    "dnevne_temp_vece_od_25 = []               # kroz for petlju i appendanje liste                \n",
    "for temp in dnevne_temperature:\n",
    "    if temp > 25.0:\n",
    "        dnevne_temp_vece_od_25.append(temp)\n",
    "print(dnevne_temp_vece_od_25)"
   ]
  },
  {
   "cell_type": "code",
   "execution_count": 47,
   "id": "a3eb44b9",
   "metadata": {},
   "outputs": [
    {
     "name": "stdout",
     "output_type": "stream",
     "text": [
      "[25.6, 25.9, 26.3, 26.8, 27.1, 27.3, 27.5, 27.8, 27.2, 26.8, 26.3, 26.1, 25.5]\n"
     ]
    }
   ],
   "source": [
    "dnevne_temp_vece_od_25_l = [temp for temp in dnevne_temperature if temp > 25.0]      # skraćeni način direktno u listu\n",
    "print(dnevne_temp_vece_od_25_l)"
   ]
  },
  {
   "cell_type": "code",
   "execution_count": 48,
   "id": "2b0e9aac",
   "metadata": {},
   "outputs": [
    {
     "name": "stdout",
     "output_type": "stream",
     "text": [
      "[25.6, 25.9, 26.3, 26.8, 27.1, 27.3, 27.5, 27.8, 27.2, 26.8, 26.3, 26.1, 25.5]\n"
     ]
    }
   ],
   "source": [
    "dnevne_temperature_lambda = list(filter(lambda temperatura: (temperatura > 25.0), dnevne_temperature))\n",
    "print(dnevne_temperature_lambda)                                 # metoda filter radi nad pojedinim članom liste, preko uvjeta"
   ]
  },
  {
   "cell_type": "code",
   "execution_count": 49,
   "id": "b4d2f7a6",
   "metadata": {},
   "outputs": [],
   "source": [
    "dnevne_temperature_lambda = list(map(lambda temperatura: (temperatura+3), dnevne_temperature))\n",
    "# metoda map radi nad pojedinim članom liste - aritmetičku operaciju\n"
   ]
  },
  {
   "cell_type": "code",
   "execution_count": 57,
   "id": "7c82cfad",
   "metadata": {},
   "outputs": [],
   "source": [
    "dnevne_temp_K = list(map(lambda temperatura: round((temperatura+273.15),2), dnevne_temperature))"
   ]
  },
  {
   "cell_type": "code",
   "execution_count": 58,
   "id": "f8e8edc4",
   "metadata": {},
   "outputs": [
    {
     "data": {
      "text/plain": [
       "[288.25,\n",
       " 288.35,\n",
       " 288.75,\n",
       " 289.25,\n",
       " 289.95,\n",
       " 290.45,\n",
       " 290.45,\n",
       " 291.05,\n",
       " 291.45,\n",
       " 292.25,\n",
       " 293.45,\n",
       " 293.65,\n",
       " 293.95,\n",
       " 294.35,\n",
       " 294.95,\n",
       " 295.45,\n",
       " 296.25,\n",
       " 297.65,\n",
       " 298.75,\n",
       " 299.05,\n",
       " 299.45,\n",
       " 299.95,\n",
       " 300.25,\n",
       " 300.45,\n",
       " 300.65,\n",
       " 300.95,\n",
       " 300.35,\n",
       " 299.95,\n",
       " 299.45,\n",
       " 299.25,\n",
       " 298.65,\n",
       " 297.75,\n",
       " 297.05,\n",
       " 296.45,\n",
       " 295.95,\n",
       " 295.25,\n",
       " 294.45,\n",
       " 293.65,\n",
       " 292.95,\n",
       " 292.65,\n",
       " 292.25,\n",
       " 291.75,\n",
       " 291.25,\n",
       " 290.75,\n",
       " 289.95,\n",
       " 289.45,\n",
       " 289.05,\n",
       " 288.55,\n",
       " 288.35,\n",
       " 288.05,\n",
       " 287.75,\n",
       " 287.25]"
      ]
     },
     "execution_count": 58,
     "metadata": {},
     "output_type": "execute_result"
    }
   ],
   "source": [
    "dnevne_temp_K"
   ]
  },
  {
   "cell_type": "markdown",
   "id": "4143f0d1",
   "metadata": {},
   "source": [
    "#### Upravljanje pogreškama"
   ]
  },
  {
   "cell_type": "code",
   "execution_count": 64,
   "id": "881577c2",
   "metadata": {},
   "outputs": [],
   "source": [
    "def dijeljenje(x,y):\n",
    "    try: \n",
    "        return x/y\n",
    "    except Exception as greska:\n",
    "        return f'An error occured: {greska}'"
   ]
  },
  {
   "cell_type": "code",
   "execution_count": 60,
   "id": "344f5505",
   "metadata": {},
   "outputs": [
    {
     "data": {
      "text/plain": [
       "1.6666666666666667"
      ]
     },
     "execution_count": 60,
     "metadata": {},
     "output_type": "execute_result"
    }
   ],
   "source": [
    "dijeljenje(5,3)"
   ]
  },
  {
   "cell_type": "code",
   "execution_count": 65,
   "id": "ba98a857",
   "metadata": {},
   "outputs": [
    {
     "data": {
      "text/plain": [
       "'An error occured: division by zero'"
      ]
     },
     "execution_count": 65,
     "metadata": {},
     "output_type": "execute_result"
    }
   ],
   "source": [
    "dijeljenje(5,0)"
   ]
  },
  {
   "cell_type": "markdown",
   "id": "65427272",
   "metadata": {},
   "source": [
    "#### Klase "
   ]
  },
  {
   "cell_type": "code",
   "execution_count": 74,
   "id": "ddad7501",
   "metadata": {},
   "outputs": [
    {
     "name": "stdout",
     "output_type": "stream",
     "text": [
      "Ime: Petar, Prezime: Peric, Iznos plaće: 8000\n"
     ]
    },
    {
     "data": {
      "text/plain": [
       "6560.0"
      ]
     },
     "execution_count": 74,
     "metadata": {},
     "output_type": "execute_result"
    }
   ],
   "source": [
    "class Djelatnik:\n",
    "    def __init__(self, ime, prezime, placa):\n",
    "        self.ime = ime\n",
    "        self.prezime = prezime\n",
    "        self.placa = placa\n",
    "        self.prirez = 0.18\n",
    "        \n",
    "        \n",
    "    def ispis(self):\n",
    "        print(f'Ime: {self.ime}, Prezime: {self.prezime}, Iznos plaće: {self.placa}')\n",
    "        \n",
    "    def izracunaj_prirez(self, iznos_prireza):\n",
    "        prirez = self.placa * iznos_prireza\n",
    "        return prirez\n",
    "        \n",
    "    def racunaj_ukupnu_placu(self):\n",
    "        ukupna_placa = self.placa - self.izracunaj_prirez(self.prirez)\n",
    "        return ukupna_placa\n",
    "    \n",
    "programer = Djelatnik('Petar','Peric', 8000)\n",
    "programer.ispis()\n",
    "programer.izracunaj_prirez(0.18)\n",
    "programer.racunaj_ukupnu_placu()\n",
    "        "
   ]
  },
  {
   "cell_type": "code",
   "execution_count": 77,
   "id": "e7a8a9ad",
   "metadata": {},
   "outputs": [],
   "source": [
    "datoteka = open('e-cars.csv')"
   ]
  },
  {
   "cell_type": "code",
   "execution_count": 78,
   "id": "017b99a9",
   "metadata": {},
   "outputs": [
    {
     "name": "stdout",
     "output_type": "stream",
     "text": [
      "YEAR;Make;Model;Size;(kW);Unnamed: 5;TYPE;CITY (kWh/100 km);HWY (kWh/100 km);COMB (kWh/100 km);CITY (Le/100 km);HWY (Le/100 km);COMB (Le/100 km);(g/km);RATING;(km);TIME (h)\n",
      "\n",
      "2012;MITSUBISHI;i-MiEV;SUBCOMPACT;49;A1;B;16.9;21.4;18.7;1.9;2.4;2.1;0;n/a;100;7\n",
      "\n",
      "2012;NISSAN;LEAF;MID-SIZE;80;A1;B;19.3;23;21.1;2.2;2.6;2.4;0;n/a;117;7\n",
      "\n",
      "2013;FORD;FOCUS ELECTRIC;COMPACT;107;A1;B;19;21.1;20;2.1;2.4;2.2;0;n/a;122;4\n",
      "\n",
      "2013;MITSUBISHI;i-MiEV;SUBCOMPACT;49;A1;B;16.9;21.4;18.7;1.9;2.4;2.1;0;n/a;100;7\n",
      "\n",
      "2013;NISSAN;LEAF;MID-SIZE;80;A1;B;19.3;23;21.1;2.2;2.6;2.4;0;n/a;117;7\n",
      "\n",
      "2013;SMART;FORTWO ELECTRIC DRIVE CABRIOLET;TWO-SEATER;35;A1;B;17.2;22.5;19.6;1.9;2.5;2.2;0;n/a;109;8\n",
      "\n",
      "2013;SMART;FORTWO ELECTRIC DRIVE COUPE;TWO-SEATER;35;A1;B;17.2;22.5;19.6;1.9;2.5;2.2;0;n/a;109;8\n",
      "\n",
      "2013;TESLA;MODEL S (40 kWh battery);FULL-SIZE;270;A1;B;22.4;21.9;22.2;2.5;2.5;2.5;0;n/a;224;6\n",
      "\n",
      "2013;TESLA;MODEL S (60 kWh battery);FULL-SIZE;270;A1;B;22.2;21.7;21.9;2.5;2.4;2.5;0;n/a;335;10\n",
      "\n",
      "2013;TESLA;MODEL S (85 kWh battery);FULL-SIZE;270;A1;B;23.8;23.2;23.6;2.7;2.6;2.6;0;n/a;426;12\n",
      "\n",
      "2013;TESLA;MODEL S PERFORMANCE;FULL-SIZE;310;A1;B;23.9;23.2;23.6;2.7;2.6;2.6;0;n/a;426;12\n",
      "\n",
      "2014;CHEVROLET;SPARK EV;SUBCOMPACT;104;A1;B;16;19.6;17.8;1.8;2.2;2;0;n/a;131;7\n",
      "\n",
      "2014;FORD;FOCUS ELECTRIC;COMPACT;107;A1;B;19;21.1;20;2.1;2.4;2.2;0;n/a;122;4\n",
      "\n",
      "2014;MITSUBISHI;i-MiEV;SUBCOMPACT;49;A1;B;16.9;21.4;18.7;1.9;2.4;2.1;0;n/a;100;7\n",
      "\n",
      "2014;NISSAN;LEAF;MID-SIZE;80;A1;B;16.5;20.8;18.4;1.9;2.3;2.1;0;n/a;135;5\n",
      "\n",
      "2014;SMART;FORTWO ELECTRIC DRIVE CABRIOLET;TWO-SEATER;35;A1;B;17.2;22.5;19.6;1.9;2.5;2.2;0;n/a;109;8\n",
      "\n",
      "2014;SMART;FORTWO ELECTRIC DRIVE COUPE;TWO-SEATER;35;A1;B;17.2;22.5;19.6;1.9;2.5;2.2;0;n/a;109;8\n",
      "\n",
      "2014;TESLA;MODEL S (60 kWh battery);FULL-SIZE;225;A1;B;22.2;21.7;21.9;2.5;2.4;2.5;0;n/a;335;10\n",
      "\n",
      "2014;TESLA;MODEL S (85 kWh battery);FULL-SIZE;270;A1;B;23.8;23.2;23.6;2.7;2.6;2.6;0;n/a;426;12\n",
      "\n",
      "2014;TESLA;MODEL S PERFORMANCE;FULL-SIZE;310;A1;B;23.9;23.2;23.6;2.7;2.6;2.6;0;n/a;426;12\n",
      "\n",
      "2015;BMW;i3;SUBCOMPACT;125;A1;B;15.2;18.8;16.8;1.7;2.1;1.9;0;n/a;130;4\n",
      "\n",
      "2015;CHEVROLET;SPARK EV;SUBCOMPACT;104;A1;B;16;19.6;17.8;1.8;2.2;2;0;n/a;131;7\n",
      "\n",
      "2015;FORD;FOCUS ELECTRIC;COMPACT;107;A1;B;19;21.1;20;2.1;2.4;2.2;0;n/a;122;4\n",
      "\n",
      "2015;KIA;SOUL EV;STATION WAGON - SMALL;81;A1;B;17.5;22.7;19.9;2;2.6;2.2;0;n/a;149;4\n",
      "\n",
      "2015;MITSUBISHI;i-MiEV;SUBCOMPACT;49;A1;B;16.9;21.4;18.7;1.9;2.4;2.1;0;n/a;100;7\n",
      "\n",
      "2015;NISSAN;LEAF;MID-SIZE;80;A1;B;16.5;20.8;18.4;1.9;2.3;2.1;0;n/a;135;5\n",
      "\n",
      "2015;SMART;FORTWO ELECTRIC DRIVE CABRIOLET;TWO-SEATER;35;A1;B;17.2;22.5;19.6;1.9;2.5;2.2;0;n/a;109;8\n",
      "\n",
      "2015;SMART;FORTWO ELECTRIC DRIVE COUPE;TWO-SEATER;35;A1;B;17.2;22.5;19.6;1.9;2.5;2.2;0;n/a;109;8\n",
      "\n",
      "2015;TESLA;MODEL S (60 kWh battery);FULL-SIZE;283;A1;B;22.2;21.7;21.9;2.5;2.4;2.5;0;n/a;335;10\n",
      "\n",
      "2015;TESLA;MODEL S (70 kWh battery);FULL-SIZE;283;A1;B;23.8;23.2;23.6;2.7;2.6;2.6;0;n/a;377;12\n",
      "\n",
      "2015;TESLA;MODEL S (85/90 kWh battery);FULL-SIZE;283;A1;B;23.8;23.2;23.6;2.7;2.6;2.6;0;n/a;426;12\n",
      "\n",
      "2015;TESLA;MODEL S 70D;FULL-SIZE;280;A1;B;20.8;20.6;20.7;2.3;2.3;2.3;0;n/a;386;12\n",
      "\n",
      "2015;TESLA;MODEL S 85D/90D;FULL-SIZE;280;A1;B;22;19.8;21;2.5;2.2;2.4;0;n/a;435;12\n",
      "\n",
      "2015;TESLA;MODEL S P85D/P90D;FULL-SIZE;515;A1;B;23.4;21.5;22.5;2.6;2.4;2.5;0;n/a;407;12\n",
      "\n",
      "2016;BMW;i3;SUBCOMPACT;125;A1;B;15.2;18.8;16.8;1.7;2.1;1.9;0;10;130;4\n",
      "\n",
      "2016;CHEVROLET;SPARK EV;SUBCOMPACT;104;A1;B;16;19.6;17.8;1.8;2.2;2;0;10;131;7\n",
      "\n",
      "2016;FORD;FOCUS ELECTRIC;COMPACT;107;A1;B;19;21.1;20;2.1;2.4;2.2;0;10;122;4\n",
      "\n",
      "2016;KIA;SOUL EV;STATION WAGON - SMALL;81;A1;B;17.5;22.7;19.9;2;2.6;2.2;0;10;149;4\n",
      "\n",
      "2016;MITSUBISHI;i-MiEV;SUBCOMPACT;49;A1;B;16.9;21.4;18.7;1.9;2.4;2.1;0;10;100;7\n",
      "\n",
      "2016;NISSAN;LEAF (24 kWh battery);MID-SIZE;80;A1;B;16.5;20.8;18.4;1.9;2.3;2.1;0;10;135;5\n",
      "\n",
      "2016;NISSAN;LEAF (30 kWh battery);MID-SIZE;80;A1;B;17;20.7;18.6;1.9;2.3;2.1;0;10;172;6\n",
      "\n",
      "2016;SMART;FORTWO ELECTRIC DRIVE CABRIOLET;TWO-SEATER;35;A1;B;17.2;22.5;19.6;1.9;2.5;2.2;0;10;109;8\n",
      "\n",
      "2016;SMART;FORTWO ELECTRIC DRIVE COUPE;TWO-SEATER;35;A1;B;17.2;22.5;19.6;1.9;2.5;2.2;0;10;109;8\n",
      "\n",
      "2016;TESLA;MODEL S (60 kWh battery);FULL-SIZE;283;A1;B;22.2;21.7;21.9;2.5;2.4;2.5;0;10;335;10\n",
      "\n",
      "2016;TESLA;MODEL S (70 kWh battery);FULL-SIZE;283;A1;B;23.8;23.2;23.6;2.7;2.6;2.6;0;10;377;12\n",
      "\n",
      "2016;TESLA;MODEL S (85/90 kWh battery);FULL-SIZE;283;A1;B;23.8;23.2;23.6;2.7;2.6;2.6;0;10;426;12\n",
      "\n",
      "2016;TESLA;MODEL S 70D;FULL-SIZE;386;A1;B;20.8;20.6;20.7;2.3;2.3;2.3;0;10;386;12\n",
      "\n",
      "2016;TESLA;MODEL S 85D/90D;FULL-SIZE;386;A1;B;22;19.8;21;2.5;2.2;2.4;0;10;435;12\n",
      "\n",
      "2016;TESLA;MODEL S 90D (Refresh);FULL-SIZE;386;A1;B;20.8;19.7;20.3;2.3;2.2;2.3;0;10;473;12\n",
      "\n",
      "2016;TESLA;MODEL S P85D/P90D;FULL-SIZE;568;A1;B;23.4;21.5;22.5;2.6;2.4;2.5;0;10;407;12\n",
      "\n",
      "2016;TESLA;MODEL S P90D (Refresh);FULL-SIZE;568;A1;B;22.9;21;22.1;2.6;2.4;2.5;0;10;435;12\n",
      "\n",
      "2016;TESLA;MODEL X 90D;SUV - STANDARD;386;A1;B;23.2;22.2;22.7;2.6;2.5;2.6;0;10;414;12\n",
      "\n",
      "2016;TESLA;MODEL X P90D;SUV - STANDARD;568;A1;B;23.6;23.3;23.5;2.7;2.6;2.6;0;10;402;12\n"
     ]
    }
   ],
   "source": [
    "for linija in datoteka:\n",
    "    print(linija)"
   ]
  },
  {
   "cell_type": "code",
   "execution_count": 79,
   "id": "e09eac2c",
   "metadata": {},
   "outputs": [],
   "source": [
    "datoteka.close()"
   ]
  },
  {
   "cell_type": "code",
   "execution_count": 80,
   "id": "b07b595e",
   "metadata": {},
   "outputs": [
    {
     "data": {
      "text/plain": [
       "'2016;TESLA;MODEL X P90D;SUV - STANDARD;568;A1;B;23.6;23.3;23.5;2.7;2.6;2.6;0;10;402;12'"
      ]
     },
     "execution_count": 80,
     "metadata": {},
     "output_type": "execute_result"
    }
   ],
   "source": [
    "linija"
   ]
  },
  {
   "cell_type": "code",
   "execution_count": 81,
   "id": "6b62a126",
   "metadata": {},
   "outputs": [
    {
     "data": {
      "text/plain": [
       "<_io.TextIOWrapper name='e-cars.csv' mode='r' encoding='cp1252'>"
      ]
     },
     "execution_count": 81,
     "metadata": {},
     "output_type": "execute_result"
    }
   ],
   "source": [
    "datoteka"
   ]
  },
  {
   "cell_type": "code",
   "execution_count": 82,
   "id": "548d8542",
   "metadata": {},
   "outputs": [
    {
     "data": {
      "text/plain": [
       "str"
      ]
     },
     "execution_count": 82,
     "metadata": {},
     "output_type": "execute_result"
    }
   ],
   "source": [
    "type(linija)"
   ]
  },
  {
   "cell_type": "markdown",
   "id": "2d6cb01e",
   "metadata": {},
   "source": [
    "Napraviti popis svih proizvođača!"
   ]
  },
  {
   "cell_type": "code",
   "execution_count": 83,
   "id": "c220e573",
   "metadata": {},
   "outputs": [
    {
     "data": {
      "text/plain": [
       "'2016;TESLA;MODEL X P90D;SUV - STANDARD;568;A1;B;23.6;23.3;23.5;2.7;2.6;2.6;0;10;402;12'"
      ]
     },
     "execution_count": 83,
     "metadata": {},
     "output_type": "execute_result"
    }
   ],
   "source": [
    "linija"
   ]
  },
  {
   "cell_type": "code",
   "execution_count": 84,
   "id": "557bb3e1",
   "metadata": {},
   "outputs": [
    {
     "data": {
      "text/plain": [
       "'0'"
      ]
     },
     "execution_count": 84,
     "metadata": {},
     "output_type": "execute_result"
    }
   ],
   "source": [
    "linija[1]"
   ]
  },
  {
   "cell_type": "code",
   "execution_count": 85,
   "id": "f13f2f1d",
   "metadata": {},
   "outputs": [],
   "source": [
    "linija_lista = linija.split(';')"
   ]
  },
  {
   "cell_type": "code",
   "execution_count": 86,
   "id": "38bbe3ac",
   "metadata": {},
   "outputs": [
    {
     "data": {
      "text/plain": [
       "['2016',\n",
       " 'TESLA',\n",
       " 'MODEL X P90D',\n",
       " 'SUV - STANDARD',\n",
       " '568',\n",
       " 'A1',\n",
       " 'B',\n",
       " '23.6',\n",
       " '23.3',\n",
       " '23.5',\n",
       " '2.7',\n",
       " '2.6',\n",
       " '2.6',\n",
       " '0',\n",
       " '10',\n",
       " '402',\n",
       " '12']"
      ]
     },
     "execution_count": 86,
     "metadata": {},
     "output_type": "execute_result"
    }
   ],
   "source": [
    "linija_lista"
   ]
  },
  {
   "cell_type": "code",
   "execution_count": 87,
   "id": "315212ce",
   "metadata": {},
   "outputs": [
    {
     "data": {
      "text/plain": [
       "'TESLA'"
      ]
     },
     "execution_count": 87,
     "metadata": {},
     "output_type": "execute_result"
    }
   ],
   "source": [
    "linija_lista[1]"
   ]
  },
  {
   "cell_type": "code",
   "execution_count": 93,
   "id": "e2e01c24",
   "metadata": {},
   "outputs": [],
   "source": [
    "datoteka = open('e-cars.csv')\n",
    "\n",
    "lista_proizvodaca = []\n",
    "\n",
    "for linija in datoteka:\n",
    "    linija_lista = linija.split(';')\n",
    "    lista_proizvodaca.append(linija_lista[1])\n",
    "lista_proizvodaca.remove('Make')\n",
    "    \n"
   ]
  },
  {
   "cell_type": "code",
   "execution_count": 94,
   "id": "0ae0343c",
   "metadata": {},
   "outputs": [
    {
     "data": {
      "text/plain": [
       "{'BMW', 'CHEVROLET', 'FORD', 'KIA', 'MITSUBISHI', 'NISSAN', 'SMART', 'TESLA'}"
      ]
     },
     "execution_count": 94,
     "metadata": {},
     "output_type": "execute_result"
    }
   ],
   "source": [
    "set(lista_proizvodaca)\n"
   ]
  },
  {
   "cell_type": "markdown",
   "id": "f7fd05eb",
   "metadata": {},
   "source": [
    "#### _ZADACI za DZ!_"
   ]
  },
  {
   "cell_type": "markdown",
   "id": "3cc5015f",
   "metadata": {},
   "source": [
    "1. iz datoteke cars.csv izdvojiti u posebne liste aute iz:\n",
    "+ USA\n",
    "* Europe\n",
    "+ Japana\n",
    "2. iz datoteke personal_computers_total.csv izdvojiti u riječnik broj računala 1990 i 2006 po zemljama. Ključ neka bude država, a vrijednost n-torka gdje je prvi član broj računala 1990, a drugi broj računala 2006 godine"
   ]
  },
  {
   "cell_type": "code",
   "execution_count": null,
   "id": "3fec4b82",
   "metadata": {},
   "outputs": [],
   "source": []
  }
 ],
 "metadata": {
  "kernelspec": {
   "display_name": "Python 3 (ipykernel)",
   "language": "python",
   "name": "python3"
  },
  "language_info": {
   "codemirror_mode": {
    "name": "ipython",
    "version": 3
   },
   "file_extension": ".py",
   "mimetype": "text/x-python",
   "name": "python",
   "nbconvert_exporter": "python",
   "pygments_lexer": "ipython3",
   "version": "3.9.12"
  }
 },
 "nbformat": 4,
 "nbformat_minor": 5
}
