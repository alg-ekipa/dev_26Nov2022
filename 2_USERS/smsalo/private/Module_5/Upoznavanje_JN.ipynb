{
 "cells": [
  {
   "cell_type": "markdown",
   "id": "5e47af98",
   "metadata": {},
   "source": [
    "# Jupyter Notebook"
   ]
  },
  {
   "cell_type": "markdown",
   "id": "f77be6b9",
   "metadata": {},
   "source": [
    "#### zelena - uređivački mod    \n",
    "#### plava - završeno uređivanje, klikom prebacujemo u uređivački mod"
   ]
  },
  {
   "cell_type": "markdown",
   "id": "af3896c0",
   "metadata": {},
   "source": [
    "*Code cell* - ćelija za unos koda"
   ]
  },
  {
   "cell_type": "markdown",
   "id": "b3a91238",
   "metadata": {},
   "source": [
    "_Markdown cell_ - ćelija za unos teksta"
   ]
  },
  {
   "cell_type": "markdown",
   "id": "3d588539",
   "metadata": {},
   "source": [
    "U Jupyter Notebooku uvijek je ***samo jedna*** ćelija aktivna."
   ]
  },
  {
   "cell_type": "markdown",
   "id": "f96e3492",
   "metadata": {},
   "source": [
    "___Tekst se može dodatno naglasiti i ovako___"
   ]
  },
  {
   "cell_type": "markdown",
   "id": "61b87e60",
   "metadata": {},
   "source": [
    "### LISTA (nabrajanje)"
   ]
  },
  {
   "cell_type": "markdown",
   "id": "14b34dfd",
   "metadata": {},
   "source": [
    "+ prvi element\n",
    "+ drugi element\n",
    "+ treći element"
   ]
  },
  {
   "attachments": {
    "Algebra-logo1.png": {
     "image/png": "[encoded data removed]"
    }
   },
   "cell_type": "markdown",
   "id": "b9e4ecb9",
   "metadata": {},
   "source": [
    "![Algebra-logo1.png](attachment:Algebra-logo1.png)"
   ]
  },
  {
   "cell_type": "markdown",
   "id": "a9fab264",
   "metadata": {},
   "source": [
    "#### Osnove programiranje - osnovne računske operacije, funkcije print i input, konverzija podataka"
   ]
  },
  {
   "cell_type": "code",
   "execution_count": 2,
   "id": "b013ab43",
   "metadata": {},
   "outputs": [
    {
     "data": {
      "text/plain": [
       "6.6"
      ]
     },
     "execution_count": 2,
     "metadata": {},
     "output_type": "execute_result"
    }
   ],
   "source": [
    "3 * (45 - 12) / 15"
   ]
  },
  {
   "cell_type": "code",
   "execution_count": 6,
   "id": "fbaebaf5",
   "metadata": {},
   "outputs": [
    {
     "name": "stdout",
     "output_type": "stream",
     "text": [
      "34\n"
     ]
    }
   ],
   "source": [
    "a = 34\n",
    "print(a)"
   ]
  },
  {
   "cell_type": "code",
   "execution_count": 7,
   "id": "edb9c2cd",
   "metadata": {},
   "outputs": [
    {
     "data": {
      "text/plain": [
       "int"
      ]
     },
     "execution_count": 7,
     "metadata": {},
     "output_type": "execute_result"
    }
   ],
   "source": [
    "type(a)"
   ]
  },
  {
   "cell_type": "code",
   "execution_count": 8,
   "id": "f26612cd",
   "metadata": {},
   "outputs": [
    {
     "name": "stdout",
     "output_type": "stream",
     "text": [
      "<class 'int'>\n"
     ]
    }
   ],
   "source": [
    "print(type(a))"
   ]
  },
  {
   "cell_type": "code",
   "execution_count": 9,
   "id": "ffea80a5",
   "metadata": {},
   "outputs": [],
   "source": [
    "b = 'Zagreb'"
   ]
  },
  {
   "cell_type": "code",
   "execution_count": 10,
   "id": "c3c14b2b",
   "metadata": {},
   "outputs": [
    {
     "data": {
      "text/plain": [
       "str"
      ]
     },
     "execution_count": 10,
     "metadata": {},
     "output_type": "execute_result"
    }
   ],
   "source": [
    "type(b)"
   ]
  },
  {
   "cell_type": "code",
   "execution_count": 11,
   "id": "d1fbc409",
   "metadata": {},
   "outputs": [
    {
     "name": "stdout",
     "output_type": "stream",
     "text": [
      "<class 'str'>\n"
     ]
    }
   ],
   "source": [
    "print(type(b))"
   ]
  },
  {
   "cell_type": "code",
   "execution_count": 12,
   "id": "0cb02218",
   "metadata": {},
   "outputs": [],
   "source": [
    "lista1 = [1, 2, 3]"
   ]
  },
  {
   "cell_type": "code",
   "execution_count": 13,
   "id": "37071e95",
   "metadata": {},
   "outputs": [
    {
     "data": {
      "text/plain": [
       "[1, 2, 3]"
      ]
     },
     "execution_count": 13,
     "metadata": {},
     "output_type": "execute_result"
    }
   ],
   "source": [
    "lista1"
   ]
  },
  {
   "cell_type": "code",
   "execution_count": 14,
   "id": "fac45b75",
   "metadata": {},
   "outputs": [],
   "source": [
    "lista2 = lista1"
   ]
  },
  {
   "cell_type": "code",
   "execution_count": 15,
   "id": "deb7d123",
   "metadata": {},
   "outputs": [
    {
     "data": {
      "text/plain": [
       "[1, 2, 3]"
      ]
     },
     "execution_count": 15,
     "metadata": {},
     "output_type": "execute_result"
    }
   ],
   "source": [
    "lista2"
   ]
  },
  {
   "cell_type": "code",
   "execution_count": 16,
   "id": "31fa7789",
   "metadata": {},
   "outputs": [
    {
     "name": "stdout",
     "output_type": "stream",
     "text": [
      "[1, 2, 3, 4]\n"
     ]
    }
   ],
   "source": [
    "lista1.append(4)\n",
    "print(lista1)"
   ]
  },
  {
   "cell_type": "code",
   "execution_count": 17,
   "id": "65616a20",
   "metadata": {},
   "outputs": [
    {
     "data": {
      "text/plain": [
       "[1, 2, 3, 4]"
      ]
     },
     "execution_count": 17,
     "metadata": {},
     "output_type": "execute_result"
    }
   ],
   "source": [
    "lista2"
   ]
  },
  {
   "cell_type": "code",
   "execution_count": 18,
   "id": "2a049315",
   "metadata": {},
   "outputs": [
    {
     "name": "stdout",
     "output_type": "stream",
     "text": [
      "[1, 2, 3, 4]\n"
     ]
    }
   ],
   "source": [
    "lista2 = lista1[::]\n",
    "print(lista2)"
   ]
  },
  {
   "cell_type": "code",
   "execution_count": 19,
   "id": "ad0e8f26",
   "metadata": {},
   "outputs": [
    {
     "data": {
      "text/plain": [
       "[1, 2, 3, 4]"
      ]
     },
     "execution_count": 19,
     "metadata": {},
     "output_type": "execute_result"
    }
   ],
   "source": [
    "lista1"
   ]
  },
  {
   "cell_type": "code",
   "execution_count": 20,
   "id": "fa289984",
   "metadata": {},
   "outputs": [],
   "source": [
    "lista1.append(5)"
   ]
  },
  {
   "cell_type": "code",
   "execution_count": 21,
   "id": "a310f90a",
   "metadata": {},
   "outputs": [
    {
     "data": {
      "text/plain": [
       "[1, 2, 3, 4, 5]"
      ]
     },
     "execution_count": 21,
     "metadata": {},
     "output_type": "execute_result"
    }
   ],
   "source": [
    "lista1"
   ]
  },
  {
   "cell_type": "code",
   "execution_count": 22,
   "id": "c19cf699",
   "metadata": {},
   "outputs": [
    {
     "data": {
      "text/plain": [
       "[1, 2, 3, 4]"
      ]
     },
     "execution_count": 22,
     "metadata": {},
     "output_type": "execute_result"
    }
   ],
   "source": [
    "lista2"
   ]
  },
  {
   "cell_type": "code",
   "execution_count": 23,
   "id": "10786b37",
   "metadata": {},
   "outputs": [
    {
     "name": "stdout",
     "output_type": "stream",
     "text": [
      "Pozdrav iz \"print\" funkcije\n"
     ]
    }
   ],
   "source": [
    "print('Pozdrav iz \"print\" funkcije')"
   ]
  },
  {
   "cell_type": "code",
   "execution_count": 36,
   "id": "bfc7c8c2",
   "metadata": {},
   "outputs": [
    {
     "name": "stdout",
     "output_type": "stream",
     "text": [
      "Pozdrav\n",
      "iz\n",
      "print\n",
      "funkcije\n"
     ]
    }
   ],
   "source": [
    "print('Pozdrav','iz','print', 'funkcije', sep='\\n')"
   ]
  },
  {
   "cell_type": "code",
   "execution_count": 32,
   "id": "f4bbb66d",
   "metadata": {},
   "outputs": [
    {
     "name": "stdout",
     "output_type": "stream",
     "text": [
      "1\t2\t3\t4\n"
     ]
    }
   ],
   "source": [
    "print('1','2','3','4', sep='\\t')"
   ]
  },
  {
   "cell_type": "code",
   "execution_count": 39,
   "id": "74c170ba",
   "metadata": {},
   "outputs": [
    {
     "name": "stdout",
     "output_type": "stream",
     "text": [
      "Unesi neku vrijednost: 67\n"
     ]
    }
   ],
   "source": [
    "v = int(input('Unesi neku vrijednost: '))"
   ]
  },
  {
   "cell_type": "code",
   "execution_count": 40,
   "id": "27ec3d55",
   "metadata": {},
   "outputs": [
    {
     "data": {
      "text/plain": [
       "67"
      ]
     },
     "execution_count": 40,
     "metadata": {},
     "output_type": "execute_result"
    }
   ],
   "source": [
    "v"
   ]
  },
  {
   "cell_type": "markdown",
   "id": "294323b5",
   "metadata": {},
   "source": [
    "___Funkcije za konverziju podataka___"
   ]
  },
  {
   "cell_type": "markdown",
   "id": "23203b3b",
   "metadata": {},
   "source": [
    "+ __int()__ - pretvara u cijeli broj (integer)\n",
    "+ __float()__  - pretvara u decimalni broj\n",
    "+ __ord()__  - pretvara znak u ASCII kod/broj\n",
    "+ __chr()__ - pretvara ASCII broj u znak\n",
    "+ __str()__ - pretvara u string (niz znakova)\n"
   ]
  },
  {
   "cell_type": "markdown",
   "id": "4fd59863",
   "metadata": {},
   "source": [
    "postoje konverzije u listu, n-torku, rječnik...  \n",
    "konverzije u ostale brojevne sustave: binarni, oktalni, heksadekadski "
   ]
  },
  {
   "cell_type": "code",
   "execution_count": 41,
   "id": "33cd58f3",
   "metadata": {},
   "outputs": [
    {
     "data": {
      "text/plain": [
       "(1, 2, 3, 4, 5)"
      ]
     },
     "execution_count": 41,
     "metadata": {},
     "output_type": "execute_result"
    }
   ],
   "source": [
    "tuple(lista1)"
   ]
  },
  {
   "cell_type": "code",
   "execution_count": 42,
   "id": "173b46fa",
   "metadata": {},
   "outputs": [
    {
     "data": {
      "text/plain": [
       "'67'"
      ]
     },
     "execution_count": 42,
     "metadata": {},
     "output_type": "execute_result"
    }
   ],
   "source": [
    "str(v)"
   ]
  },
  {
   "cell_type": "code",
   "execution_count": 43,
   "id": "0d5712c2",
   "metadata": {},
   "outputs": [
    {
     "data": {
      "text/plain": [
       "67.0"
      ]
     },
     "execution_count": 43,
     "metadata": {},
     "output_type": "execute_result"
    }
   ],
   "source": [
    "float(v)"
   ]
  },
  {
   "cell_type": "code",
   "execution_count": 44,
   "id": "fdba265b",
   "metadata": {},
   "outputs": [
    {
     "data": {
      "text/plain": [
       "'0o103'"
      ]
     },
     "execution_count": 44,
     "metadata": {},
     "output_type": "execute_result"
    }
   ],
   "source": [
    "oct(v)"
   ]
  },
  {
   "cell_type": "markdown",
   "id": "f616196d",
   "metadata": {},
   "source": [
    "**Zadatak 6**\n",
    "\n",
    "Izračunajte prosječnu ocjenu za pet filmova koje ste nedavno pogledali. Unesite ocjene u listu i iskoristite funkciju za izračun prosjeka."
   ]
  },
  {
   "cell_type": "code",
   "execution_count": null,
   "id": "ef3f7828",
   "metadata": {},
   "outputs": [],
   "source": []
  },
  {
   "cell_type": "markdown",
   "id": "95c567b7",
   "metadata": {},
   "source": [
    "**Zadatak 7**\n",
    "\n",
    "Napravite dvije liste s naslovima filmova i njihovim godinama izlaska. Zatim spojite te dvije liste u jednu listu tako da svaki element bude niz koji sadrži naziv filma i godinu izlaska."
   ]
  },
  {
   "cell_type": "code",
   "execution_count": 49,
   "id": "2672c0c4",
   "metadata": {},
   "outputs": [
    {
     "name": "stdout",
     "output_type": "stream",
     "text": [
      "[('Superman', 1979), ('Titanic', 1997), ('Avatar', 2009), ('Kum', 1972)]\n"
     ]
    }
   ],
   "source": [
    "filmovi = ['Superman','Titanic', 'Avatar','Kum']\n",
    "godine = [1979, 1997, 2009, 1972]\n",
    "\n",
    "filmovi_godine = []\n",
    "\n",
    "for i in range(len(filmovi)):\n",
    "    film_godina = (filmovi[i],godine[i])\n",
    "    filmovi_godine.append(film_godina)\n",
    "\n",
    "print(filmovi_godine)"
   ]
  },
  {
   "cell_type": "raw",
   "id": "ce917c9f",
   "metadata": {},
   "source": [
    "Željeni rezultat: [('Superman',1979), ('Titanic',1997), ('Avatar',2009), ('Kum',1972)]"
   ]
  },
  {
   "cell_type": "markdown",
   "id": "4f1e3a68",
   "metadata": {},
   "source": [
    "**Zadatak 8**\n",
    "\n",
    "Napravite listu s pet različitih žanrova filmova i ispišite ih na ekran. Zatim izradite drugu listu koja sadrži pet filmova, pri čemu svaki film pripada jednom od žanrova iz prve liste."
   ]
  },
  {
   "cell_type": "raw",
   "id": "486d449b",
   "metadata": {},
   "source": [
    "Željeni rezultat: \n",
    "    \n",
    "Superman: fantastika\n",
    "Titanic: drama\n",
    "Kum: kriminalisički\n",
    "Avatar: SF"
   ]
  },
  {
   "cell_type": "code",
   "execution_count": null,
   "id": "a018b16e",
   "metadata": {},
   "outputs": [],
   "source": []
  },
  {
   "cell_type": "markdown",
   "id": "31e5da8e",
   "metadata": {},
   "source": [
    "**Zadatak 11**\n",
    "\n",
    "Napravite listu s naslovima filmova i njihovim glavnim glumcima. Zatim izradite drugu listu koja sadrži samo imena glumaca."
   ]
  },
  {
   "cell_type": "code",
   "execution_count": 58,
   "id": "0a15cf92",
   "metadata": {},
   "outputs": [],
   "source": [
    "filmovi_glumci = [\n",
    "    ['Superman', ['Christopher Reeve','Margot Kidder']],\n",
    "    ['Titanic', ['Leonardo DiCaprio','Kate Winslet']],\n",
    "    ['Kum', ['Al Pacino','Marlon Brando']],\n",
    "    ['Povratak u budućnost', ['Michael J. Fox','Christopher Lloyd']]\n",
    "]"
   ]
  },
  {
   "cell_type": "code",
   "execution_count": 62,
   "id": "eceecdad",
   "metadata": {},
   "outputs": [
    {
     "name": "stdout",
     "output_type": "stream",
     "text": [
      "['Christopher Reeve', 'Margot Kidder', 'Leonardo DiCaprio', 'Kate Winslet', 'Al Pacino', 'Marlon Brando', 'Michael J. Fox', 'Christopher Lloyd']\n"
     ]
    }
   ],
   "source": [
    "samo_glumci = []\n",
    "for film_glumac in filmovi_glumci:\n",
    "    #print(film_glumac)\n",
    "    for glumci in film_glumac[1]:\n",
    "        samo_glumci.append(glumci)\n",
    "        \n",
    "print(samo_glumci)    "
   ]
  },
  {
   "cell_type": "raw",
   "id": "7d9552ba",
   "metadata": {},
   "source": [
    "Željeni rezultat:\n",
    "['Christopher Reeve','Margot Kidder','Leonardo DiCaprio','Kate Winslet','Al Pacino','Marlon Brando', 'Michael J. Fox','Christopher Lloyd']"
   ]
  },
  {
   "cell_type": "markdown",
   "id": "5a4ebbc5",
   "metadata": {},
   "source": [
    "Od zadataka 7 i 11 napraviti **rječnike** (_dictionary_)"
   ]
  },
  {
   "cell_type": "raw",
   "id": "7d659bbd",
   "metadata": {},
   "source": [
    "ime filma: ključ\n",
    "godina: vrijednost\n",
    "\n",
    "ime filma: ključ\n",
    "glumci (u listi): vrijednost"
   ]
  },
  {
   "cell_type": "markdown",
   "id": "fea5e774",
   "metadata": {},
   "source": [
    "# Kontrola toka"
   ]
  },
  {
   "cell_type": "markdown",
   "id": "3e37aa70",
   "metadata": {},
   "source": [
    "### Simulacija senzora"
   ]
  },
  {
   "cell_type": "code",
   "execution_count": 69,
   "id": "7ccc067e",
   "metadata": {},
   "outputs": [
    {
     "name": "stdout",
     "output_type": "stream",
     "text": [
      "Klima je uključena!\n",
      "Temperatura hlađenja: 21\n"
     ]
    }
   ],
   "source": [
    "temperatura = 28     # podatak koji dobijemo sa senzora\n",
    "\n",
    "if temperatura >= 25:\n",
    "    print('Klima je uključena!')\n",
    "    print('Temperatura hlađenja: 21')\n",
    "else:\n",
    "    print(f'Temperatura iznosi {temperatura}')"
   ]
  },
  {
   "cell_type": "code",
   "execution_count": 73,
   "id": "26de1658",
   "metadata": {},
   "outputs": [
    {
     "name": "stdout",
     "output_type": "stream",
     "text": [
      "Klima je uključena\n",
      "Temperatura hlađenja je 20 C\n"
     ]
    }
   ],
   "source": [
    "temperatura = 30\n",
    "\n",
    "if temperatura <= 18:\n",
    "    print('Grijanje je uključeno')\n",
    "    print('Temperatura grijanja je 23 C')\n",
    "elif temperatura == 22:\n",
    "    print('Grijanje je isključeno')\n",
    "    print(f'Trenutna temperatura je {temperatura}')\n",
    "elif temperatura >= 26:\n",
    "    print('Klima je uključena')\n",
    "    print('Temperatura hlađenja je 20 C')\n",
    "elif temperatura == 24:\n",
    "    print('Hlađenje je isključeno')\n",
    "    print(f'Trenutna temperatura je {temperatura}')   \n",
    "else:\n",
    "    print(f'Trenutna temperatura je {temperatura}') "
   ]
  },
  {
   "cell_type": "code",
   "execution_count": 76,
   "id": "961bee37",
   "metadata": {},
   "outputs": [
    {
     "name": "stdout",
     "output_type": "stream",
     "text": [
      "Vlažnost tla je preniska, iznosi 25%, pokrenuti zalijevanje!\n",
      "Ventil pumpe je OTVOREN!\n",
      "Vlažnost tla je preniska, iznosi 30%, pokrenuti zalijevanje!\n",
      "Ventil pumpe je OTVOREN!\n",
      "Vlažnost tla je preniska, iznosi 35%, pokrenuti zalijevanje!\n",
      "Ventil pumpe je OTVOREN!\n",
      "Vlažnost tla je preniska, iznosi 40%, pokrenuti zalijevanje!\n",
      "Ventil pumpe je OTVOREN!\n",
      "Vlažnost tla je preniska, iznosi 45%, pokrenuti zalijevanje!\n",
      "Ventil pumpe je OTVOREN!\n",
      "Vlažnost tla je preniska, iznosi 50%, pokrenuti zalijevanje!\n",
      "Ventil pumpe je OTVOREN!\n",
      "Vlažnost tla je preniska, iznosi 55%, pokrenuti zalijevanje!\n",
      "Ventil pumpe je OTVOREN!\n",
      "Vlažnost tla je preniska, iznosi 60%, pokrenuti zalijevanje!\n",
      "Ventil pumpe je OTVOREN!\n",
      "Vlaznost tla je 65%, ventil je ZATVOREN\n"
     ]
    }
   ],
   "source": [
    "vlaznost_tla = 25\n",
    "\n",
    "while vlaznost_tla <= 60:\n",
    "    print(f'Vlažnost tla je preniska, iznosi {vlaznost_tla}%, pokrenuti zalijevanje!')\n",
    "    print('Ventil pumpe je OTVOREN!')\n",
    "    vlaznost_tla += 5\n",
    "          \n",
    "print(f'Vlaznost tla je {vlaznost_tla}%, ventil je ZATVOREN')          \n",
    "\n",
    "    "
   ]
  },
  {
   "cell_type": "code",
   "execution_count": 77,
   "id": "f0fc47c2",
   "metadata": {},
   "outputs": [],
   "source": [
    "senzori = { 1 : ['Senzor pokreta', 'Aktivan','Ulazna vrata'],\n",
    "            2 : ['Senzor pokreta', 'Isključen','Vrata na terasi'],\n",
    "            3 : ['Senzor pokreta', 'Aktivan','Ulaz u dvorište'],\n",
    "            4 : ['Senzor pokreta', 'Aktivan','Ulaz u garažu']}\n",
    "\n"
   ]
  },
  {
   "cell_type": "markdown",
   "id": "673347a7",
   "metadata": {},
   "source": [
    "Ispisati rječnik **senzori** na zaslon"
   ]
  },
  {
   "cell_type": "code",
   "execution_count": 80,
   "id": "cc551b93",
   "metadata": {},
   "outputs": [
    {
     "name": "stdout",
     "output_type": "stream",
     "text": [
      "ID: 1\t: Senzor pokreta\tStatus: Aktivan\t\tLokacija: Ulazna vrata\n",
      "ID: 2\t: Senzor pokreta\tStatus: Isključen\t\tLokacija: Vrata na terasi\n",
      "ID: 3\t: Senzor pokreta\tStatus: Aktivan\t\tLokacija: Ulaz u dvorište\n",
      "ID: 4\t: Senzor pokreta\tStatus: Aktivan\t\tLokacija: Ulaz u garažu\n"
     ]
    }
   ],
   "source": [
    "for id_senzora, senzor in senzori.items():\n",
    "    #print(id_senzora, senzor)\n",
    "    print(f'ID: {id_senzora}\\t: {senzor[0]}\\tStatus: {senzor[1]}\\t\\tLokacija: {senzor[2]}')"
   ]
  },
  {
   "cell_type": "markdown",
   "id": "1cb75766",
   "metadata": {},
   "source": [
    "Napraviti popis mjesta gdje sve postoje senzori!"
   ]
  },
  {
   "cell_type": "raw",
   "id": "455a852e",
   "metadata": {},
   "source": [
    "Lokacije:\n",
    "Ulazna vrata\n",
    "Vrata na terasi\n",
    "Ulaz u dvorište\n",
    "Ulaz u garažu"
   ]
  },
  {
   "cell_type": "code",
   "execution_count": 83,
   "id": "ee9bc7cf",
   "metadata": {},
   "outputs": [
    {
     "name": "stdout",
     "output_type": "stream",
     "text": [
      "['Ulazna vrata', 'Vrata na terasi', 'Ulaz u dvorište', 'Ulaz u garažu']\n"
     ]
    }
   ],
   "source": [
    "lokacije = []\n",
    "for senzor in senzori.values():\n",
    "    lokacije.append(senzor[2])\n",
    "print(lokacije)\n",
    "\n",
    "    "
   ]
  },
  {
   "cell_type": "code",
   "execution_count": 84,
   "id": "83921c68",
   "metadata": {},
   "outputs": [
    {
     "data": {
      "text/plain": [
       "['Ulazna vrata', 'Vrata na terasi', 'Ulaz u dvorište', 'Ulaz u garažu']"
      ]
     },
     "execution_count": 84,
     "metadata": {},
     "output_type": "execute_result"
    }
   ],
   "source": [
    "lokacije"
   ]
  },
  {
   "cell_type": "markdown",
   "id": "8c62251d",
   "metadata": {},
   "source": [
    "Izdvojiti u novu listu članove koji imaju više od 13 znakova"
   ]
  },
  {
   "cell_type": "code",
   "execution_count": 87,
   "id": "239c00e2",
   "metadata": {},
   "outputs": [],
   "source": [
    "duge_lokacije = [x for x in lokacije if len(x) > 13]"
   ]
  },
  {
   "cell_type": "code",
   "execution_count": 88,
   "id": "786eb6d7",
   "metadata": {},
   "outputs": [
    {
     "data": {
      "text/plain": [
       "['Vrata na terasi', 'Ulaz u dvorište']"
      ]
     },
     "execution_count": 88,
     "metadata": {},
     "output_type": "execute_result"
    }
   ],
   "source": [
    "duge_lokacije"
   ]
  },
  {
   "cell_type": "markdown",
   "id": "b3483d52",
   "metadata": {},
   "source": [
    "##### Kolekcije podataka"
   ]
  },
  {
   "cell_type": "markdown",
   "id": "38a5fa49",
   "metadata": {},
   "source": [
    "+ lista: []\n",
    "+ rječnik: { : }\n",
    "+ n-torka: ()\n",
    "+ set: {}"
   ]
  },
  {
   "cell_type": "code",
   "execution_count": 91,
   "id": "41de7b03",
   "metadata": {},
   "outputs": [],
   "source": [
    "godine = {1990, 2020, 1986, 1999, 2000, 2001, 2000, 1999, 1999, 2020, 2021}"
   ]
  },
  {
   "cell_type": "code",
   "execution_count": 92,
   "id": "72d1451a",
   "metadata": {},
   "outputs": [
    {
     "data": {
      "text/plain": [
       "{1986, 1990, 1999, 2000, 2001, 2020, 2021}"
      ]
     },
     "execution_count": 92,
     "metadata": {},
     "output_type": "execute_result"
    }
   ],
   "source": [
    "godine"
   ]
  },
  {
   "cell_type": "code",
   "execution_count": 93,
   "id": "70c36ee1",
   "metadata": {},
   "outputs": [
    {
     "data": {
      "text/plain": [
       "[2000, 2001, 1986, 2020, 2021, 1990, 1999]"
      ]
     },
     "execution_count": 93,
     "metadata": {},
     "output_type": "execute_result"
    }
   ],
   "source": [
    "list(godine)"
   ]
  },
  {
   "cell_type": "code",
   "execution_count": 94,
   "id": "c8d5e15e",
   "metadata": {},
   "outputs": [
    {
     "data": {
      "text/plain": [
       "(2000, 2001, 1986, 2020, 2021, 1990, 1999)"
      ]
     },
     "execution_count": 94,
     "metadata": {},
     "output_type": "execute_result"
    }
   ],
   "source": [
    "tuple(godine)"
   ]
  },
  {
   "cell_type": "code",
   "execution_count": 95,
   "id": "fa4d0f2e",
   "metadata": {},
   "outputs": [],
   "source": [
    "stringovi = ['a', 'b', 'ab', 'bc','abc','def','oiu', 'wert', 'asdfg','jklmn']\n",
    "duljine_stringova_lista = [len(s) for s in stringovi]\n",
    "duljine_stringova_set = {len(s) for s in stringovi}"
   ]
  },
  {
   "cell_type": "code",
   "execution_count": 96,
   "id": "aa767aa8",
   "metadata": {},
   "outputs": [
    {
     "data": {
      "text/plain": [
       "[1, 1, 2, 2, 3, 3, 3, 4, 5, 5]"
      ]
     },
     "execution_count": 96,
     "metadata": {},
     "output_type": "execute_result"
    }
   ],
   "source": [
    "duljine_stringova_lista"
   ]
  },
  {
   "cell_type": "code",
   "execution_count": 97,
   "id": "b340d0e0",
   "metadata": {},
   "outputs": [
    {
     "data": {
      "text/plain": [
       "{1, 2, 3, 4, 5}"
      ]
     },
     "execution_count": 97,
     "metadata": {},
     "output_type": "execute_result"
    }
   ],
   "source": [
    "duljine_stringova_set"
   ]
  },
  {
   "cell_type": "markdown",
   "id": "c5320629",
   "metadata": {},
   "source": [
    "**ZADATAK**:   Napraviti rječnik kojem će ključ biti duljina stringa a vrijednost lista stringova te duljine"
   ]
  },
  {
   "cell_type": "markdown",
   "id": "20eceda9",
   "metadata": {},
   "source": [
    "## Statističke funkcije - modul statistics"
   ]
  },
  {
   "cell_type": "code",
   "execution_count": 119,
   "id": "716aca09",
   "metadata": {},
   "outputs": [],
   "source": [
    "podaci = [43, 43, 65.2, 89.3, 20.5, 76, 76, 187, 32, 56.1, 100, 76, 72, 76, 155, 66]"
   ]
  },
  {
   "cell_type": "code",
   "execution_count": 99,
   "id": "8e2a35ef",
   "metadata": {},
   "outputs": [
    {
     "data": {
      "text/plain": [
       "75.5"
      ]
     },
     "execution_count": 99,
     "metadata": {},
     "output_type": "execute_result"
    }
   ],
   "source": [
    "prosjek = sum(podaci) / len(podaci)\n",
    "prosjek"
   ]
  },
  {
   "cell_type": "code",
   "execution_count": 100,
   "id": "38020bdc",
   "metadata": {},
   "outputs": [
    {
     "data": {
      "text/plain": [
       "12"
      ]
     },
     "execution_count": 100,
     "metadata": {},
     "output_type": "execute_result"
    }
   ],
   "source": [
    "min(podaci)"
   ]
  },
  {
   "cell_type": "code",
   "execution_count": 101,
   "id": "cddda1b0",
   "metadata": {},
   "outputs": [
    {
     "data": {
      "text/plain": [
       "187"
      ]
     },
     "execution_count": 101,
     "metadata": {},
     "output_type": "execute_result"
    }
   ],
   "source": [
    "max(podaci)"
   ]
  },
  {
   "cell_type": "code",
   "execution_count": 120,
   "id": "369aa906",
   "metadata": {},
   "outputs": [
    {
     "name": "stdout",
     "output_type": "stream",
     "text": [
      "Srednja vrijednost iznosi: 77.07\n",
      "Medijan iznosi: 74.0\n",
      "Mod iznosi: 76\n"
     ]
    }
   ],
   "source": [
    "import statistics\n",
    "\n",
    "# SREDNJA VRIJEDNOST - prosjek\n",
    "srednja_vrijednost = statistics.mean(podaci)\n",
    "print(f'Srednja vrijednost iznosi: {srednja_vrijednost:.2f}')\n",
    "\n",
    "# MEDIJAN - sredina distribucije \n",
    "medijan = statistics.median(podaci)\n",
    "print(f'Medijan iznosi: {medijan}')\n",
    "\n",
    "# MOD - najčešće pojavljivani član\n",
    "mod = statistics.mode(podaci)\n",
    "print(f'Mod iznosi: {mod}')"
   ]
  },
  {
   "cell_type": "markdown",
   "id": "dc133e6f",
   "metadata": {},
   "source": [
    "### Modul datum i vrijeme"
   ]
  },
  {
   "cell_type": "code",
   "execution_count": 123,
   "id": "897ce920",
   "metadata": {},
   "outputs": [],
   "source": [
    "from datetime import datetime, date, time\n",
    "\n",
    "dt = datetime(2021, 5, 28, 12, 30, 45)   # godina, mjesec, dan, sat, minuta, sekudna"
   ]
  },
  {
   "cell_type": "code",
   "execution_count": 124,
   "id": "b322bfa0",
   "metadata": {},
   "outputs": [
    {
     "data": {
      "text/plain": [
       "2021"
      ]
     },
     "execution_count": 124,
     "metadata": {},
     "output_type": "execute_result"
    }
   ],
   "source": [
    "dt.year    # dt je OBJEKT, pristupanje pojedinim stavkama"
   ]
  },
  {
   "cell_type": "code",
   "execution_count": 125,
   "id": "228102ed",
   "metadata": {},
   "outputs": [
    {
     "data": {
      "text/plain": [
       "12"
      ]
     },
     "execution_count": 125,
     "metadata": {},
     "output_type": "execute_result"
    }
   ],
   "source": [
    "dt.hour"
   ]
  },
  {
   "cell_type": "code",
   "execution_count": 126,
   "id": "1df32cf0",
   "metadata": {},
   "outputs": [
    {
     "name": "stdout",
     "output_type": "stream",
     "text": [
      "Navedeni datum je: 28.5.2021.\n"
     ]
    }
   ],
   "source": [
    "print(f'Navedeni datum je: {dt.day}.{dt.month}.{dt.year}.')"
   ]
  },
  {
   "cell_type": "code",
   "execution_count": 127,
   "id": "aba447cb",
   "metadata": {},
   "outputs": [
    {
     "name": "stdout",
     "output_type": "stream",
     "text": [
      "Navedeno vrijeme je: 12:30:45.\n"
     ]
    }
   ],
   "source": [
    "print(f'Navedeno vrijeme je: {dt.hour}:{dt.minute}:{dt.second}.')"
   ]
  },
  {
   "cell_type": "code",
   "execution_count": 128,
   "id": "d31cc1b7",
   "metadata": {},
   "outputs": [
    {
     "data": {
      "text/plain": [
       "'28.05.2021.'"
      ]
     },
     "execution_count": 128,
     "metadata": {},
     "output_type": "execute_result"
    }
   ],
   "source": [
    "dt.strftime('%d.%m.%Y.')"
   ]
  },
  {
   "cell_type": "code",
   "execution_count": 129,
   "id": "aa909940",
   "metadata": {},
   "outputs": [
    {
     "data": {
      "text/plain": [
       "'12:30:45'"
      ]
     },
     "execution_count": 129,
     "metadata": {},
     "output_type": "execute_result"
    }
   ],
   "source": [
    "dt.strftime('%H:%M:%S')"
   ]
  },
  {
   "cell_type": "code",
   "execution_count": 137,
   "id": "ad38e620",
   "metadata": {},
   "outputs": [],
   "source": [
    "niz_datum = '20070116'\n",
    "datum_niz = datetime.strptime(niz_datum, '%Y%m%d')"
   ]
  },
  {
   "cell_type": "code",
   "execution_count": 131,
   "id": "12fd330e",
   "metadata": {},
   "outputs": [
    {
     "data": {
      "text/plain": [
       "datetime.datetime(2021, 5, 28, 12, 30, 45)"
      ]
     },
     "execution_count": 131,
     "metadata": {},
     "output_type": "execute_result"
    }
   ],
   "source": [
    "dt"
   ]
  },
  {
   "cell_type": "code",
   "execution_count": 135,
   "id": "4befdf74",
   "metadata": {},
   "outputs": [
    {
     "data": {
      "text/plain": [
       "datetime.datetime(2021, 5, 28, 12, 0)"
      ]
     },
     "execution_count": 135,
     "metadata": {},
     "output_type": "execute_result"
    }
   ],
   "source": [
    "dt = dt.replace(minute=0, second=0)\n",
    "dt"
   ]
  },
  {
   "cell_type": "code",
   "execution_count": 136,
   "id": "e3b34cf9",
   "metadata": {},
   "outputs": [
    {
     "data": {
      "text/plain": [
       "datetime.datetime(2021, 5, 28, 12, 0)"
      ]
     },
     "execution_count": 136,
     "metadata": {},
     "output_type": "execute_result"
    }
   ],
   "source": [
    "dt"
   ]
  },
  {
   "cell_type": "code",
   "execution_count": 138,
   "id": "cc2e54d5",
   "metadata": {},
   "outputs": [
    {
     "data": {
      "text/plain": [
       "datetime.datetime(2007, 1, 16, 0, 0)"
      ]
     },
     "execution_count": 138,
     "metadata": {},
     "output_type": "execute_result"
    }
   ],
   "source": [
    "datum_niz"
   ]
  },
  {
   "cell_type": "code",
   "execution_count": 139,
   "id": "6b68055c",
   "metadata": {},
   "outputs": [
    {
     "data": {
      "text/plain": [
       "datetime.timedelta(days=5246, seconds=43200)"
      ]
     },
     "execution_count": 139,
     "metadata": {},
     "output_type": "execute_result"
    }
   ],
   "source": [
    "dt - datum_niz"
   ]
  },
  {
   "cell_type": "markdown",
   "id": "9f0b240d",
   "metadata": {},
   "source": [
    "#### ZADATAK"
   ]
  },
  {
   "cell_type": "markdown",
   "id": "d1927052",
   "metadata": {},
   "source": [
    "\n",
    "Napravite aplikaciju koja će generirati nasumične podatke, tako da simulira dnevni rast temperature od jutra do poslijepodneva i zatim pad do ranog jutra. Podatke treba pohraniti u rječnik, tako da je ključ trenutak (sat) ako promatramo na razini jednog dana, a podaci lista parova vrijednosti (tuple) vremena i temperature. Temperatura treba biti izmjerena svakih sat vremena (24 člana u listi Temperature)\n",
    "\n",
    "Temperatura zraka od -25 do +39 stupnjeva Celzijusa\n",
    "\n",
    "Podacima se mogu dodati i informacije o vlažnosti zraka (vrijednosti od 15% do 95%) te tlak zraka (990 hPa do 1035 hPa)."
   ]
  },
  {
   "cell_type": "code",
   "execution_count": null,
   "id": "d390d1c3",
   "metadata": {},
   "outputs": [],
   "source": []
  }
 ],
 "metadata": {
  "kernelspec": {
   "display_name": "Python 3 (ipykernel)",
   "language": "python",
   "name": "python3"
  },
  "language_info": {
   "codemirror_mode": {
    "name": "ipython",
    "version": 3
   },
   "file_extension": ".py",
   "mimetype": "text/x-python",
   "name": "python",
   "nbconvert_exporter": "python",
   "pygments_lexer": "ipython3",
   "version": "3.9.12"
  }
 },
 "nbformat": 4,
 "nbformat_minor": 5
}
