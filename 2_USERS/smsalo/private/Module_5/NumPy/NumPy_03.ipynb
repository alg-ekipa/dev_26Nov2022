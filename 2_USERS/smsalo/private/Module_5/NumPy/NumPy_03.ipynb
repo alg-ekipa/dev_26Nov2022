{
 "cells": [
  {
   "cell_type": "markdown",
   "id": "03a0de6e",
   "metadata": {},
   "source": [
    "# Funkcije filtriranja"
   ]
  },
  {
   "cell_type": "code",
   "execution_count": 6,
   "id": "34254a22",
   "metadata": {},
   "outputs": [
    {
     "data": {
      "text/plain": [
       "array([-4., -3., -2., -1.,  0.,  1.,  2.,  3.,  4.])"
      ]
     },
     "execution_count": 6,
     "metadata": {},
     "output_type": "execute_result"
    }
   ],
   "source": [
    "import numpy as np\n",
    "niz=np.linspace(-4,4,9)\n",
    "niz"
   ]
  },
  {
   "cell_type": "code",
   "execution_count": 7,
   "id": "734ae248",
   "metadata": {},
   "outputs": [
    {
     "data": {
      "text/plain": [
       "array([16.,  9.,  4.,  1.,  0.,  1.,  8., 27., 64.])"
      ]
     },
     "execution_count": 7,
     "metadata": {},
     "output_type": "execute_result"
    }
   ],
   "source": [
    "np.where(niz<0, niz**2, niz**3)        # na mjestu gdje je ispunjen uvjet <0 napravi kvadrat, ako nije ispunjen kubiraj"
   ]
  },
  {
   "cell_type": "markdown",
   "id": "23259e8d",
   "metadata": {},
   "source": [
    "## Zadatak\n",
    "- manji od -1, kvadrat\n",
    "- manji od 2, na treću potenciju\n",
    "- veći/jednaki 2: na 4 potenciju"
   ]
  },
  {
   "cell_type": "code",
   "execution_count": 9,
   "id": "f0c31517",
   "metadata": {},
   "outputs": [
    {
     "ename": "ValueError",
     "evalue": "select with an empty condition list is not possible",
     "output_type": "error",
     "traceback": [
      "\u001b[1;31m---------------------------------------------------------------------------\u001b[0m",
      "\u001b[1;31mValueError\u001b[0m                                Traceback (most recent call last)",
      "Input \u001b[1;32mIn [9]\u001b[0m, in \u001b[0;36m<cell line: 1>\u001b[1;34m()\u001b[0m\n\u001b[1;32m----> 1\u001b[0m \u001b[43mnp\u001b[49m\u001b[38;5;241;43m.\u001b[39;49m\u001b[43mselect\u001b[49m\u001b[43m(\u001b[49m\u001b[43m[\u001b[49m\u001b[43m]\u001b[49m\u001b[43m,\u001b[49m\u001b[43m[\u001b[49m\u001b[43m]\u001b[49m\u001b[43m)\u001b[49m\n",
      "File \u001b[1;32m<__array_function__ internals>:5\u001b[0m, in \u001b[0;36mselect\u001b[1;34m(*args, **kwargs)\u001b[0m\n",
      "File \u001b[1;32mC:\\ProgramData\\Anaconda3\\lib\\site-packages\\numpy\\lib\\function_base.py:671\u001b[0m, in \u001b[0;36mselect\u001b[1;34m(condlist, choicelist, default)\u001b[0m\n\u001b[0;32m    669\u001b[0m \u001b[38;5;66;03m# Now that the dtype is known, handle the deprecated select([], []) case\u001b[39;00m\n\u001b[0;32m    670\u001b[0m \u001b[38;5;28;01mif\u001b[39;00m \u001b[38;5;28mlen\u001b[39m(condlist) \u001b[38;5;241m==\u001b[39m \u001b[38;5;241m0\u001b[39m:\n\u001b[1;32m--> 671\u001b[0m     \u001b[38;5;28;01mraise\u001b[39;00m \u001b[38;5;167;01mValueError\u001b[39;00m(\u001b[38;5;124m\"\u001b[39m\u001b[38;5;124mselect with an empty condition list is not possible\u001b[39m\u001b[38;5;124m\"\u001b[39m)\n\u001b[0;32m    673\u001b[0m choicelist \u001b[38;5;241m=\u001b[39m [np\u001b[38;5;241m.\u001b[39masarray(choice) \u001b[38;5;28;01mfor\u001b[39;00m choice \u001b[38;5;129;01min\u001b[39;00m choicelist]\n\u001b[0;32m    675\u001b[0m \u001b[38;5;28;01mtry\u001b[39;00m:\n",
      "\u001b[1;31mValueError\u001b[0m: select with an empty condition list is not possible"
     ]
    }
   ],
   "source": [
    "np.select([],[])  #prva lista uvjeti, druga lista:radnje koje odgovaraju uvjetima\n"
   ]
  },
  {
   "cell_type": "code",
   "execution_count": 11,
   "id": "f54e9131",
   "metadata": {},
   "outputs": [
    {
     "data": {
      "text/plain": [
       "array([ 16.,   9.,   4.,  -1.,   0.,   1.,  16.,  81., 256.])"
      ]
     },
     "execution_count": 11,
     "metadata": {},
     "output_type": "execute_result"
    }
   ],
   "source": [
    "x=np.linspace(-4,4,9)\n",
    "np.select([x<-1, x<2,x>=2],[x**2,x**3,x**4])"
   ]
  },
  {
   "cell_type": "code",
   "execution_count": 14,
   "id": "aa99b785",
   "metadata": {},
   "outputs": [
    {
     "data": {
      "text/plain": [
       "array([1, 3, 5, 3, 1, 5, 2, 2, 3, 1, 2, 1, 2, 4, 2, 3, 1, 4, 4, 4])"
      ]
     },
     "execution_count": 14,
     "metadata": {},
     "output_type": "execute_result"
    }
   ],
   "source": [
    "brojevi=np.random.randint(6, size=20)\n",
    "brojevi\n"
   ]
  },
  {
   "cell_type": "code",
   "execution_count": 16,
   "id": "a83ae91d",
   "metadata": {},
   "outputs": [
    {
     "data": {
      "text/plain": [
       "array([1, 2, 3, 4, 5])"
      ]
     },
     "execution_count": 16,
     "metadata": {},
     "output_type": "execute_result"
    }
   ],
   "source": [
    "np.unique(brojevi)"
   ]
  },
  {
   "cell_type": "code",
   "execution_count": 18,
   "id": "1887761d",
   "metadata": {},
   "outputs": [
    {
     "data": {
      "text/plain": [
       "array([[ 1,  2,  3,  4,  5,  6,  7,  8],\n",
       "       [ 9, 10, 11, 12, 13, 14, 15, 16],\n",
       "       [17, 18, 19, 20, 21, 22, 23, 24],\n",
       "       [25, 26, 27, 28, 29, 30, 31, 32],\n",
       "       [33, 34, 35, 36, 37, 38, 39, 40],\n",
       "       [41, 42, 43, 44, 45, 46, 47, 48],\n",
       "       [49, 50, 51, 52, 53, 54, 55, 56],\n",
       "       [57, 58, 59, 60, 61, 62, 63, 64]])"
      ]
     },
     "execution_count": 18,
     "metadata": {},
     "output_type": "execute_result"
    }
   ],
   "source": [
    "niz_64 = np.arange(1,65).reshape(8,8)\n",
    "niz_64\n"
   ]
  },
  {
   "cell_type": "code",
   "execution_count": 31,
   "id": "fed68a7c",
   "metadata": {},
   "outputs": [
    {
     "data": {
      "text/plain": [
       "array([[64, 63, 62, 61, 60, 59, 58, 57],\n",
       "       [56, 55, 54, 53, 52, 51, 50, 49],\n",
       "       [48, 47, 46, 45, 44, 43, 42, 41],\n",
       "       [40, 39, 38, 37, 36, 35, 34, 33],\n",
       "       [32, 31, 30, 29, 28, 27, 26, 25],\n",
       "       [24, 23, 22, 21, 20, 19, 18, 17],\n",
       "       [16, 15, 14, 13, 12, 11, 10,  9],\n",
       "       [ 8,  7,  6,  5,  4,  3,  2,  1]])"
      ]
     },
     "execution_count": 31,
     "metadata": {},
     "output_type": "execute_result"
    }
   ],
   "source": [
    "np.flip(niz_64)"
   ]
  },
  {
   "cell_type": "code",
   "execution_count": 37,
   "id": "38edf4a4",
   "metadata": {},
   "outputs": [
    {
     "data": {
      "text/plain": [
       "array([[57, 58, 59, 60, 61, 62, 63, 64],\n",
       "       [49, 50, 51, 52, 53, 54, 55, 56],\n",
       "       [41, 42, 43, 44, 45, 46, 47, 48],\n",
       "       [33, 34, 35, 36, 37, 38, 39, 40],\n",
       "       [25, 26, 27, 28, 29, 30, 31, 32],\n",
       "       [17, 18, 19, 20, 21, 22, 23, 24],\n",
       "       [ 9, 10, 11, 12, 13, 14, 15, 16],\n",
       "       [ 1,  2,  3,  4,  5,  6,  7,  8]])"
      ]
     },
     "execution_count": 37,
     "metadata": {},
     "output_type": "execute_result"
    }
   ],
   "source": [
    "np.flipud(niz_64)"
   ]
  },
  {
   "cell_type": "code",
   "execution_count": 35,
   "id": "6dd805ed",
   "metadata": {},
   "outputs": [
    {
     "data": {
      "text/plain": [
       "array([[ 8,  7,  6,  5,  4,  3,  2,  1],\n",
       "       [16, 15, 14, 13, 12, 11, 10,  9],\n",
       "       [24, 23, 22, 21, 20, 19, 18, 17],\n",
       "       [32, 31, 30, 29, 28, 27, 26, 25],\n",
       "       [40, 39, 38, 37, 36, 35, 34, 33],\n",
       "       [48, 47, 46, 45, 44, 43, 42, 41],\n",
       "       [56, 55, 54, 53, 52, 51, 50, 49],\n",
       "       [64, 63, 62, 61, 60, 59, 58, 57]])"
      ]
     },
     "execution_count": 35,
     "metadata": {},
     "output_type": "execute_result"
    }
   ],
   "source": [
    "np.fliplr(niz_64)"
   ]
  },
  {
   "cell_type": "code",
   "execution_count": 26,
   "id": "44815d0d",
   "metadata": {},
   "outputs": [
    {
     "data": {
      "text/plain": [
       "array([[0.93, 0.75, 0.19, 0.99, 0.49, 0.4 ],\n",
       "       [0.98, 0.92, 0.95, 0.94, 0.73, 0.33],\n",
       "       [0.5 , 0.36, 0.67, 0.78, 0.43, 0.99],\n",
       "       [0.51, 0.94, 0.43, 0.  , 0.71, 0.61]])"
      ]
     },
     "execution_count": 26,
     "metadata": {},
     "output_type": "execute_result"
    }
   ],
   "source": [
    "niz_a=np.random.rand(4,6)\n",
    "niz_a=np.round(niz_a,2)\n",
    "niz_a\n"
   ]
  },
  {
   "cell_type": "code",
   "execution_count": 27,
   "id": "35a71e16",
   "metadata": {},
   "outputs": [
    {
     "data": {
      "text/plain": [
       "array([[0.5 , 0.36, 0.19, 0.  , 0.43, 0.33],\n",
       "       [0.51, 0.75, 0.43, 0.78, 0.49, 0.4 ],\n",
       "       [0.93, 0.92, 0.67, 0.94, 0.71, 0.61],\n",
       "       [0.98, 0.94, 0.95, 0.99, 0.73, 0.99]])"
      ]
     },
     "execution_count": 27,
     "metadata": {},
     "output_type": "execute_result"
    }
   ],
   "source": [
    "np.sort(niz_a, axis=0)"
   ]
  },
  {
   "cell_type": "code",
   "execution_count": 28,
   "id": "cef82080",
   "metadata": {},
   "outputs": [
    {
     "data": {
      "text/plain": [
       "array([[0.19, 0.4 , 0.49, 0.75, 0.93, 0.99],\n",
       "       [0.33, 0.73, 0.92, 0.94, 0.95, 0.98],\n",
       "       [0.36, 0.43, 0.5 , 0.67, 0.78, 0.99],\n",
       "       [0.  , 0.43, 0.51, 0.61, 0.71, 0.94]])"
      ]
     },
     "execution_count": 28,
     "metadata": {},
     "output_type": "execute_result"
    }
   ],
   "source": [
    "np.sort(niz_a, axis=1)"
   ]
  },
  {
   "cell_type": "code",
   "execution_count": 29,
   "id": "f135d193",
   "metadata": {},
   "outputs": [
    {
     "data": {
      "text/plain": [
       "array([[ 1,  2,  3,  4,  5,  6,  7,  8],\n",
       "       [ 9, 10, 11, 12, 13, 14, 15, 16],\n",
       "       [17, 18, 19, 20, 21, 22, 23, 24],\n",
       "       [25, 26, 27, 28, 29, 30, 31, 32],\n",
       "       [33, 34, 35, 36, 37, 38, 39, 40],\n",
       "       [41, 42, 43, 44, 45, 46, 47, 48],\n",
       "       [49, 50, 51, 52, 53, 54, 55, 56],\n",
       "       [57, 58, 59, 60, 61, 62, 63, 64]])"
      ]
     },
     "execution_count": 29,
     "metadata": {},
     "output_type": "execute_result"
    }
   ],
   "source": [
    "niz_64\n"
   ]
  },
  {
   "cell_type": "markdown",
   "id": "83ae2a74",
   "metadata": {},
   "source": [
    "# Spremanje u txt datoteku"
   ]
  },
  {
   "cell_type": "code",
   "execution_count": 44,
   "id": "44b2ce53",
   "metadata": {},
   "outputs": [],
   "source": [
    "np.savetxt('niz_64.txt', niz_64, '%4.0f', header='', footer='')   \n",
    "# '%4.0f' format zapisa jer po default daje znanstveni zapis E00"
   ]
  },
  {
   "cell_type": "code",
   "execution_count": 42,
   "id": "6d9feabe",
   "metadata": {},
   "outputs": [
    {
     "data": {
      "text/plain": [
       "array([[  1,   2,   3,   4,   5,   6,   7,   8,   9,  10],\n",
       "       [  2,   4,   6,   8,  10,  12,  14,  16,  18,  20],\n",
       "       [  3,   6,   9,  12,  15,  18,  21,  24,  27,  30],\n",
       "       [  4,   8,  12,  16,  20,  24,  28,  32,  36,  40],\n",
       "       [  5,  10,  15,  20,  25,  30,  35,  40,  45,  50],\n",
       "       [  6,  12,  18,  24,  30,  36,  42,  48,  54,  60],\n",
       "       [  7,  14,  21,  28,  35,  42,  49,  56,  63,  70],\n",
       "       [  8,  16,  24,  32,  40,  48,  56,  64,  72,  80],\n",
       "       [  9,  18,  27,  36,  45,  54,  63,  72,  81,  90],\n",
       "       [ 10,  20,  30,  40,  50,  60,  70,  80,  90, 100]])"
      ]
     },
     "execution_count": 42,
     "metadata": {},
     "output_type": "execute_result"
    }
   ],
   "source": [
    "mnozenje = lambda x,y:x*y\n",
    "tablica_mnozenja=np.fromfunction(mnozenje, (11,11), dtype=np.int32)\n",
    "tablica=tablica_mnozenja[1:11, 1:11]         \n",
    "tablica"
   ]
  },
  {
   "cell_type": "code",
   "execution_count": 54,
   "id": "f92908f1",
   "metadata": {},
   "outputs": [],
   "source": [
    "import datetime as dt\n",
    "np.savetxt('tablica_množenja.txt', tablica, '%4.0f', header='''Naziv datoteke: \"tablica_množenja.txt\"\\n\n",
    "Autor: Sandra\\n\n",
    "----------------------------------------------------''', footer='''--------------------------------------\\n''' +str(dt.datetime.now())\n",
    ")\n"
   ]
  },
  {
   "cell_type": "code",
   "execution_count": null,
   "id": "bf72c26a",
   "metadata": {},
   "outputs": [],
   "source": []
  }
 ],
 "metadata": {
  "kernelspec": {
   "display_name": "Python 3 (ipykernel)",
   "language": "python",
   "name": "python3"
  },
  "language_info": {
   "codemirror_mode": {
    "name": "ipython",
    "version": 3
   },
   "file_extension": ".py",
   "mimetype": "text/x-python",
   "name": "python",
   "nbconvert_exporter": "python",
   "pygments_lexer": "ipython3",
   "version": "3.9.12"
  }
 },
 "nbformat": 4,
 "nbformat_minor": 5
}
