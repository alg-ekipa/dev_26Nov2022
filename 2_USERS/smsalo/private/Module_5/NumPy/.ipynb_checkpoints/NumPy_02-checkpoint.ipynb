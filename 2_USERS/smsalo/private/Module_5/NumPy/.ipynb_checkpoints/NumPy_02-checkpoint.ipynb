{
 "cells": [
  {
   "cell_type": "markdown",
   "id": "5829b310",
   "metadata": {},
   "source": [
    "### Slice notacija u poljima"
   ]
  },
  {
   "cell_type": "code",
   "execution_count": 3,
   "id": "2e570ad6",
   "metadata": {},
   "outputs": [
    {
     "data": {
      "text/plain": [
       "array([[ 1,  2,  3,  4,  5,  6],\n",
       "       [ 7,  8,  9, 10, 11, 12],\n",
       "       [13, 14, 15, 16, 17, 18],\n",
       "       [19, 20, 21, 22, 23, 24],\n",
       "       [25, 26, 27, 28, 29, 30],\n",
       "       [31, 32, 33, 34, 35, 36]])"
      ]
     },
     "execution_count": 3,
     "metadata": {},
     "output_type": "execute_result"
    }
   ],
   "source": [
    "import numpy as np\n",
    "niz_36=np.arange(1,37).reshape(6,6)\n",
    "niz_36"
   ]
  },
  {
   "cell_type": "code",
   "execution_count": 4,
   "id": "3c6272ac",
   "metadata": {},
   "outputs": [
    {
     "data": {
      "text/plain": [
       "array([[ 1,  2,  3,  4,  5,  6],\n",
       "       [ 7,  8,  9, 10, 11, 12],\n",
       "       [13, 14, 15, 16, 17, 18],\n",
       "       [19, 20, 21, 22, 23, 24]])"
      ]
     },
     "execution_count": 4,
     "metadata": {},
     "output_type": "execute_result"
    }
   ],
   "source": [
    "niz_36[:4]   # od početka prva 4 reda"
   ]
  },
  {
   "cell_type": "code",
   "execution_count": 5,
   "id": "b6ccbbb4",
   "metadata": {},
   "outputs": [
    {
     "data": {
      "text/plain": [
       "array([[13, 14, 15, 16, 17, 18],\n",
       "       [19, 20, 21, 22, 23, 24],\n",
       "       [25, 26, 27, 28, 29, 30],\n",
       "       [31, 32, 33, 34, 35, 36]])"
      ]
     },
     "execution_count": 5,
     "metadata": {},
     "output_type": "execute_result"
    }
   ],
   "source": [
    "niz_36[2:]         #redovi od indexa 2 do kraja"
   ]
  },
  {
   "cell_type": "code",
   "execution_count": 6,
   "id": "555a982e",
   "metadata": {},
   "outputs": [
    {
     "data": {
      "text/plain": [
       "array([13, 14, 15, 16, 17, 18])"
      ]
     },
     "execution_count": 6,
     "metadata": {},
     "output_type": "execute_result"
    }
   ],
   "source": [
    "niz_36[2] #samo drugi red s indexom 2; indexi idu od 0!!\n",
    "#niz_36[2,:]  ISTO!!!"
   ]
  },
  {
   "cell_type": "code",
   "execution_count": 7,
   "id": "2be2f744",
   "metadata": {},
   "outputs": [
    {
     "data": {
      "text/plain": [
       "array([13, 14, 15])"
      ]
     },
     "execution_count": 7,
     "metadata": {},
     "output_type": "execute_result"
    }
   ],
   "source": [
    "niz_36[2,:3]      #iz određenog redka samo određeni broj članova"
   ]
  },
  {
   "cell_type": "code",
   "execution_count": 10,
   "id": "25c50e60",
   "metadata": {
    "scrolled": true
   },
   "outputs": [
    {
     "data": {
      "text/plain": [
       "array([[13, 14, 15, 16, 17, 18]])"
      ]
     },
     "execution_count": 10,
     "metadata": {},
     "output_type": "execute_result"
    }
   ],
   "source": [
    "niz_36[2:3]   #način za uzeti jedan redak"
   ]
  },
  {
   "cell_type": "code",
   "execution_count": 12,
   "id": "cec95c05",
   "metadata": {},
   "outputs": [
    {
     "data": {
      "text/plain": [
       "array([[ 1,  2,  3,  4,  5,  6],\n",
       "       [ 7,  8,  9, 10, 11, 12],\n",
       "       [13, 14, 15, 16, 17, 18],\n",
       "       [19, 20, 21, 22, 23, 24],\n",
       "       [25, 26, 27, 28, 29, 30],\n",
       "       [31, 32, 33, 34, 35, 36]])"
      ]
     },
     "execution_count": 12,
     "metadata": {},
     "output_type": "execute_result"
    }
   ],
   "source": [
    "niz_36"
   ]
  },
  {
   "cell_type": "code",
   "execution_count": 11,
   "id": "2b4f60a5",
   "metadata": {
    "scrolled": true
   },
   "outputs": [
    {
     "data": {
      "text/plain": [
       "array([ 3,  9, 15, 21, 27, 33])"
      ]
     },
     "execution_count": 11,
     "metadata": {},
     "output_type": "execute_result"
    }
   ],
   "source": [
    "niz_36[:,2]          #za uzimanje stupca"
   ]
  },
  {
   "cell_type": "code",
   "execution_count": 13,
   "id": "5af97472",
   "metadata": {},
   "outputs": [
    {
     "data": {
      "text/plain": [
       "array([21, 27, 33])"
      ]
     },
     "execution_count": 13,
     "metadata": {},
     "output_type": "execute_result"
    }
   ],
   "source": [
    "niz_36[3: ,2]  # u stupcu indexa 2, uzima od 3 nadalje"
   ]
  },
  {
   "cell_type": "code",
   "execution_count": 14,
   "id": "7a56e446",
   "metadata": {},
   "outputs": [
    {
     "data": {
      "text/plain": [
       "array([ 3,  9, 15])"
      ]
     },
     "execution_count": 14,
     "metadata": {},
     "output_type": "execute_result"
    }
   ],
   "source": [
    "niz_36[:3:,2]      # u drugom stupcu članovi do indexa 3-1 odnosno 2"
   ]
  },
  {
   "cell_type": "code",
   "execution_count": 15,
   "id": "ffb791ce",
   "metadata": {},
   "outputs": [
    {
     "data": {
      "text/plain": [
       "array([ 9, 15])"
      ]
     },
     "execution_count": 15,
     "metadata": {},
     "output_type": "execute_result"
    }
   ],
   "source": [
    "niz_36[1:3:,2]   # u drugom stupcu članovi od indexa 1 do indexa 3-1"
   ]
  },
  {
   "cell_type": "code",
   "execution_count": 16,
   "id": "60bca21a",
   "metadata": {},
   "outputs": [
    {
     "data": {
      "text/plain": [
       "array([ 3,  9, 15, 21])"
      ]
     },
     "execution_count": 16,
     "metadata": {},
     "output_type": "execute_result"
    }
   ],
   "source": [
    "niz_36[:-2:,2] # stupac indexa 2, zadnja dva člana"
   ]
  },
  {
   "cell_type": "code",
   "execution_count": 17,
   "id": "e2e442c9",
   "metadata": {},
   "outputs": [
    {
     "data": {
      "text/plain": [
       "array([[ 1,  2,  3,  4,  5,  6],\n",
       "       [ 7,  8,  9, 10, 11, 12],\n",
       "       [13, 14, 15, 16, 17, 18],\n",
       "       [19, 20, 21, 22, 23, 24],\n",
       "       [25, 26, 27, 28, 29, 30],\n",
       "       [31, 32, 33, 34, 35, 36]])"
      ]
     },
     "execution_count": 17,
     "metadata": {},
     "output_type": "execute_result"
    }
   ],
   "source": [
    "niz_36"
   ]
  },
  {
   "cell_type": "code",
   "execution_count": 19,
   "id": "ea0c135c",
   "metadata": {},
   "outputs": [
    {
     "data": {
      "text/plain": [
       "array([[ 1,  2,  3,  4,  5,  6],\n",
       "       [ 7,  8,  9, 10, 11, 12],\n",
       "       [13, 14, 15, 16, 17, 18]])"
      ]
     },
     "execution_count": 19,
     "metadata": {},
     "output_type": "execute_result"
    }
   ],
   "source": [
    "niz_36[:3,:]    #prva 3 redka"
   ]
  },
  {
   "cell_type": "code",
   "execution_count": 20,
   "id": "b3e60765",
   "metadata": {},
   "outputs": [
    {
     "data": {
      "text/plain": [
       "array([[ 5,  6],\n",
       "       [11, 12],\n",
       "       [17, 18]])"
      ]
     },
     "execution_count": 20,
     "metadata": {},
     "output_type": "execute_result"
    }
   ],
   "source": [
    "niz_36[:3,4:]"
   ]
  },
  {
   "cell_type": "code",
   "execution_count": 23,
   "id": "7d613d7d",
   "metadata": {},
   "outputs": [
    {
     "data": {
      "text/plain": [
       "array([[ 1,  2,  3,  4,  5,  6,  7,  8],\n",
       "       [ 9, 10, 11, 12, 13, 14, 15, 16],\n",
       "       [17, 18, 19, 20, 21, 22, 23, 24],\n",
       "       [25, 26, 27, 28, 29, 30, 31, 32],\n",
       "       [33, 34, 35, 36, 37, 38, 39, 40],\n",
       "       [41, 42, 43, 44, 45, 46, 47, 48],\n",
       "       [49, 50, 51, 52, 53, 54, 55, 56],\n",
       "       [57, 58, 59, 60, 61, 62, 63, 64]])"
      ]
     },
     "execution_count": 23,
     "metadata": {},
     "output_type": "execute_result"
    }
   ],
   "source": [
    "niz_64 = np.arange(1,65).reshape(8,8)\n",
    "niz_64"
   ]
  },
  {
   "cell_type": "code",
   "execution_count": 24,
   "id": "c272065c",
   "metadata": {},
   "outputs": [
    {
     "data": {
      "text/plain": [
       "array([[ 1,  2,  3,  4,  5,  6],\n",
       "       [ 7,  8,  9, 10, 11, 12],\n",
       "       [13, 14, 15, 16, 17, 18],\n",
       "       [19, 20, 21, 22, 23, 24],\n",
       "       [25, 26, 27, 28, 29, 30],\n",
       "       [31, 32, 33, 34, 35, 36]])"
      ]
     },
     "execution_count": 24,
     "metadata": {},
     "output_type": "execute_result"
    }
   ],
   "source": [
    "niz_36"
   ]
  },
  {
   "cell_type": "code",
   "execution_count": 25,
   "id": "649f6f4b",
   "metadata": {},
   "outputs": [
    {
     "data": {
      "text/plain": [
       "array([[15, 16, 17],\n",
       "       [21, 22, 23],\n",
       "       [27, 28, 29]])"
      ]
     },
     "execution_count": 25,
     "metadata": {},
     "output_type": "execute_result"
    }
   ],
   "source": [
    "niz_36[2:5,2:5]"
   ]
  },
  {
   "cell_type": "markdown",
   "id": "49ee9d72",
   "metadata": {},
   "source": [
    "# Izdvojiti matricu 19-46"
   ]
  },
  {
   "cell_type": "code",
   "execution_count": 26,
   "id": "08b69ec8",
   "metadata": {},
   "outputs": [
    {
     "data": {
      "text/plain": [
       "array([[19, 20, 21, 22],\n",
       "       [27, 28, 29, 30],\n",
       "       [35, 36, 37, 38],\n",
       "       [43, 44, 45, 46]])"
      ]
     },
     "execution_count": 26,
     "metadata": {},
     "output_type": "execute_result"
    }
   ],
   "source": [
    "niz_64[2:6,2:6]"
   ]
  },
  {
   "cell_type": "code",
   "execution_count": 27,
   "id": "7270a75c",
   "metadata": {},
   "outputs": [
    {
     "data": {
      "text/plain": [
       "array([[20, 21],\n",
       "       [28, 29],\n",
       "       [36, 37],\n",
       "       [44, 45]])"
      ]
     },
     "execution_count": 27,
     "metadata": {},
     "output_type": "execute_result"
    }
   ],
   "source": [
    "niz_64[2:6,3:5]"
   ]
  },
  {
   "cell_type": "markdown",
   "id": "29832f89",
   "metadata": {},
   "source": [
    "## Kreiranje niza pomoću funkcije"
   ]
  },
  {
   "cell_type": "code",
   "execution_count": 29,
   "id": "5db8e615",
   "metadata": {},
   "outputs": [
    {
     "name": "stdout",
     "output_type": "stream",
     "text": [
      "8\n"
     ]
    }
   ],
   "source": [
    "def funkcija(x,y):\n",
    "    return x+y\n",
    "print(funkcija(2,6))"
   ]
  },
  {
   "cell_type": "code",
   "execution_count": 30,
   "id": "63bb9a35",
   "metadata": {},
   "outputs": [
    {
     "data": {
      "text/plain": [
       "5"
      ]
     },
     "execution_count": 30,
     "metadata": {},
     "output_type": "execute_result"
    }
   ],
   "source": [
    "a=lambda x,y:x+y\n",
    "a(2,3)"
   ]
  },
  {
   "cell_type": "code",
   "execution_count": 31,
   "id": "3b7b74ee",
   "metadata": {},
   "outputs": [
    {
     "data": {
      "text/plain": [
       "array([[0, 1, 2, 3],\n",
       "       [1, 2, 3, 4],\n",
       "       [2, 3, 4, 5]])"
      ]
     },
     "execution_count": 31,
     "metadata": {},
     "output_type": "execute_result"
    }
   ],
   "source": [
    "niz_f = np.fromfunction(a, (3,4), dtype=np.int32)    # za x i y je uzeo predefinirane n-torke koji određuje poziciju\n",
    "niz_f"
   ]
  },
  {
   "cell_type": "markdown",
   "id": "33b4b032",
   "metadata": {},
   "source": [
    "pozicija x=0, y=0;  vrijednost x+y=0\n",
    "pozicija x=2, y=1; vrijednost 3"
   ]
  },
  {
   "cell_type": "code",
   "execution_count": 33,
   "id": "fa7a8c0c",
   "metadata": {},
   "outputs": [
    {
     "data": {
      "text/plain": [
       "array([[ 0,  1,  2,  3,  4,  5,  6,  7],\n",
       "       [ 1,  2,  3,  4,  5,  6,  7,  8],\n",
       "       [ 2,  3,  4,  5,  6,  7,  8,  9],\n",
       "       [ 3,  4,  5,  6,  7,  8,  9, 10],\n",
       "       [ 4,  5,  6,  7,  8,  9, 10, 11]])"
      ]
     },
     "execution_count": 33,
     "metadata": {},
     "output_type": "execute_result"
    }
   ],
   "source": [
    "niz_f1 = np.fromfunction(a, (5,8), dtype=np.int32)\n",
    "niz_f1"
   ]
  },
  {
   "cell_type": "markdown",
   "id": "fffc8967",
   "metadata": {},
   "source": [
    "# Tablica množenja"
   ]
  },
  {
   "cell_type": "code",
   "execution_count": 35,
   "id": "6c1c0673",
   "metadata": {},
   "outputs": [],
   "source": [
    "mnozenje = lambda x,y:x*y"
   ]
  },
  {
   "cell_type": "code",
   "execution_count": 36,
   "id": "3b35d1bf",
   "metadata": {},
   "outputs": [],
   "source": [
    "tablica_mnozenja=np.fromfunction(mnozenje, (11,11), dtype=np.int32)"
   ]
  },
  {
   "cell_type": "code",
   "execution_count": 37,
   "id": "b4aa392f",
   "metadata": {},
   "outputs": [
    {
     "data": {
      "text/plain": [
       "array([[  0,   0,   0,   0,   0,   0,   0,   0,   0,   0,   0],\n",
       "       [  0,   1,   2,   3,   4,   5,   6,   7,   8,   9,  10],\n",
       "       [  0,   2,   4,   6,   8,  10,  12,  14,  16,  18,  20],\n",
       "       [  0,   3,   6,   9,  12,  15,  18,  21,  24,  27,  30],\n",
       "       [  0,   4,   8,  12,  16,  20,  24,  28,  32,  36,  40],\n",
       "       [  0,   5,  10,  15,  20,  25,  30,  35,  40,  45,  50],\n",
       "       [  0,   6,  12,  18,  24,  30,  36,  42,  48,  54,  60],\n",
       "       [  0,   7,  14,  21,  28,  35,  42,  49,  56,  63,  70],\n",
       "       [  0,   8,  16,  24,  32,  40,  48,  56,  64,  72,  80],\n",
       "       [  0,   9,  18,  27,  36,  45,  54,  63,  72,  81,  90],\n",
       "       [  0,  10,  20,  30,  40,  50,  60,  70,  80,  90, 100]])"
      ]
     },
     "execution_count": 37,
     "metadata": {},
     "output_type": "execute_result"
    }
   ],
   "source": [
    "tablica_mnozenja"
   ]
  },
  {
   "cell_type": "code",
   "execution_count": 44,
   "id": "b56711e4",
   "metadata": {},
   "outputs": [
    {
     "data": {
      "text/plain": [
       "array([[  1,   2,   3,   4,   5,   6,   7,   8,   9,  10],\n",
       "       [  2,   4,   6,   8,  10,  12,  14,  16,  18,  20],\n",
       "       [  3,   6,   9,  12,  15,  18,  21,  24,  27,  30],\n",
       "       [  4,   8,  12,  16,  20,  24,  28,  32,  36,  40],\n",
       "       [  5,  10,  15,  20,  25,  30,  35,  40,  45,  50],\n",
       "       [  6,  12,  18,  24,  30,  36,  42,  48,  54,  60],\n",
       "       [  7,  14,  21,  28,  35,  42,  49,  56,  63,  70],\n",
       "       [  8,  16,  24,  32,  40,  48,  56,  64,  72,  80],\n",
       "       [  9,  18,  27,  36,  45,  54,  63,  72,  81,  90],\n",
       "       [ 10,  20,  30,  40,  50,  60,  70,  80,  90, 100]])"
      ]
     },
     "execution_count": 44,
     "metadata": {},
     "output_type": "execute_result"
    }
   ],
   "source": [
    "tablica=tablica_mnozenja[1:11, 1:11]         #metoda slice\n",
    "tablica"
   ]
  },
  {
   "cell_type": "code",
   "execution_count": 46,
   "id": "dd8144f9",
   "metadata": {},
   "outputs": [
    {
     "data": {
      "text/plain": [
       "array([[ 1,  2,  3,  4,  5,  6,  7,  8,  9, 10],\n",
       "       [ 2,  4,  6,  8, 10, 12, 14, 16, 18, 20],\n",
       "       [ 3,  6,  9, 12, 15, 18, 21, 24, 27, 30],\n",
       "       [ 4,  8, 12, 16, 20, 24, 28, 32, 36, 40],\n",
       "       [ 5, 10, 15, 20, 25, 30, 35, 40, 45, 50]])"
      ]
     },
     "execution_count": 46,
     "metadata": {},
     "output_type": "execute_result"
    }
   ],
   "source": [
    "tablica_mnozenja_do50=tablica[:5,]\n",
    "tablica_mnozenja_do50"
   ]
  },
  {
   "cell_type": "code",
   "execution_count": 47,
   "id": "08ff61f1",
   "metadata": {},
   "outputs": [
    {
     "data": {
      "text/plain": [
       "array([[  1,   2,   3,   4,   5,   6,   7,   8,   9,  10],\n",
       "       [  2,   4,   6,   8,  10,  12,  14,  16,  18,  20],\n",
       "       [  3,   6,   9,  12,  15,  18,  21,  24,  27,  30],\n",
       "       [  4,   8,  12,  16,  20,  24,  28,  32,  36,  40],\n",
       "       [  5,  10,  15,  20,  25,  30,  35,  40,  45,  50],\n",
       "       [  6,  12,  18,  24,  30,  36,  42,  48,  54,  60],\n",
       "       [  7,  14,  21,  28,  35,  42,  49,  56,  63,  70],\n",
       "       [  8,  16,  24,  32,  40,  48,  56,  64,  72,  80],\n",
       "       [  9,  18,  27,  36,  45,  54,  63,  72,  81,  90],\n",
       "       [ 10,  20,  30,  40,  50,  60,  70,  80,  90, 100]])"
      ]
     },
     "execution_count": 47,
     "metadata": {},
     "output_type": "execute_result"
    }
   ],
   "source": [
    "tablica"
   ]
  },
  {
   "cell_type": "code",
   "execution_count": 54,
   "id": "dd014dd2",
   "metadata": {},
   "outputs": [
    {
     "data": {
      "text/plain": [
       "array([[  1,   2,   3,   4,   5,   6,   7,   8,   9,  10],\n",
       "       [  2,   4,   6,   8,  10,  12,  14,  16,  18,  20],\n",
       "       [  3,   6,   9,   0,   0,  18,  21,  24,  27,  30],\n",
       "       [  4,   8,  12,   0,   0,  24,  28,  32,  36,  40],\n",
       "       [  5,  10,  15,   0,   0,  30,  35,  40,  45,  50],\n",
       "       [  6,  12,  18,  24,  30,  36,  42,  48,  54,  60],\n",
       "       [  7,  14,  21,  28,  35,  42,  49,  56,  63,  70],\n",
       "       [  8,  16,  24,  32,  40,  48,  56,  64,  72,  80],\n",
       "       [  9,  18,  27,  36,  45,  54,  63,  72,  81,  90],\n",
       "       [ 10,  20,  30,  40,  50,  60,  70,  80,  90, 100]])"
      ]
     },
     "execution_count": 54,
     "metadata": {},
     "output_type": "execute_result"
    }
   ],
   "source": [
    "tablica[2:5,3:5]=0   #promijeni vrijednost\n",
    "tablica"
   ]
  },
  {
   "cell_type": "markdown",
   "id": "3ad7f0b8",
   "metadata": {},
   "source": [
    "# Povezivanje nizova - kontakanacija"
   ]
  },
  {
   "cell_type": "code",
   "execution_count": 57,
   "id": "16d073fa",
   "metadata": {},
   "outputs": [],
   "source": [
    "niz1=np.array([[1,2,3], [4,5,6]])\n",
    "niz2=np.array([[7,8,9],[10,11,12]])"
   ]
  },
  {
   "cell_type": "code",
   "execution_count": 58,
   "id": "c3fa1414",
   "metadata": {},
   "outputs": [
    {
     "data": {
      "text/plain": [
       "array([[1, 2, 3],\n",
       "       [4, 5, 6]])"
      ]
     },
     "execution_count": 58,
     "metadata": {},
     "output_type": "execute_result"
    }
   ],
   "source": [
    "niz1\n"
   ]
  },
  {
   "cell_type": "code",
   "execution_count": 59,
   "id": "f07847a1",
   "metadata": {},
   "outputs": [
    {
     "data": {
      "text/plain": [
       "array([[ 7,  8,  9],\n",
       "       [10, 11, 12]])"
      ]
     },
     "execution_count": 59,
     "metadata": {},
     "output_type": "execute_result"
    }
   ],
   "source": [
    "niz2"
   ]
  },
  {
   "cell_type": "code",
   "execution_count": 60,
   "id": "055ba33d",
   "metadata": {},
   "outputs": [
    {
     "data": {
      "text/plain": [
       "array([[ 1,  2,  3],\n",
       "       [ 4,  5,  6],\n",
       "       [ 7,  8,  9],\n",
       "       [10, 11, 12]])"
      ]
     },
     "execution_count": 60,
     "metadata": {},
     "output_type": "execute_result"
    }
   ],
   "source": [
    "np.concatenate([niz1, niz2], axis=0)    #axis 0 - os y, niz se dodaje ispod"
   ]
  },
  {
   "cell_type": "code",
   "execution_count": 61,
   "id": "f2ad0257",
   "metadata": {},
   "outputs": [
    {
     "data": {
      "text/plain": [
       "array([[ 1,  2,  3,  7,  8,  9],\n",
       "       [ 4,  5,  6, 10, 11, 12]])"
      ]
     },
     "execution_count": 61,
     "metadata": {},
     "output_type": "execute_result"
    }
   ],
   "source": [
    "np.concatenate([niz1, niz2], axis=1)   #axix 1 - os x; niz ispod"
   ]
  },
  {
   "cell_type": "code",
   "execution_count": 62,
   "id": "a551a209",
   "metadata": {},
   "outputs": [
    {
     "data": {
      "text/plain": [
       "array([[ 1,  2,  3],\n",
       "       [ 4,  5,  6],\n",
       "       [ 7,  8,  9],\n",
       "       [10, 11, 12]])"
      ]
     },
     "execution_count": 62,
     "metadata": {},
     "output_type": "execute_result"
    }
   ],
   "source": [
    "np.vstack((niz1,niz2))          #vertikalno"
   ]
  },
  {
   "cell_type": "code",
   "execution_count": 63,
   "id": "dfd23be7",
   "metadata": {},
   "outputs": [
    {
     "data": {
      "text/plain": [
       "array([[ 1,  2,  3,  7,  8,  9],\n",
       "       [ 4,  5,  6, 10, 11, 12]])"
      ]
     },
     "execution_count": 63,
     "metadata": {},
     "output_type": "execute_result"
    }
   ],
   "source": [
    "np.hstack((niz1, niz2))    #horizontalno"
   ]
  },
  {
   "cell_type": "markdown",
   "id": "460c3639",
   "metadata": {},
   "source": [
    "# Razdvajanje nizova"
   ]
  },
  {
   "cell_type": "code",
   "execution_count": 65,
   "id": "1a304052",
   "metadata": {},
   "outputs": [
    {
     "data": {
      "text/plain": [
       "array([[ 1,  2,  3,  4],\n",
       "       [ 5,  6,  7,  8],\n",
       "       [ 9, 10, 11, 12],\n",
       "       [13, 14, 15, 16]])"
      ]
     },
     "execution_count": 65,
     "metadata": {},
     "output_type": "execute_result"
    }
   ],
   "source": [
    "niz=np.arange(1,17).reshape(4,4)\n",
    "niz\n"
   ]
  },
  {
   "cell_type": "code",
   "execution_count": 66,
   "id": "82cfa47f",
   "metadata": {},
   "outputs": [
    {
     "data": {
      "text/plain": [
       "[array([[ 1,  2],\n",
       "        [ 5,  6],\n",
       "        [ 9, 10],\n",
       "        [13, 14]]),\n",
       " array([[ 3,  4],\n",
       "        [ 7,  8],\n",
       "        [11, 12],\n",
       "        [15, 16]])]"
      ]
     },
     "execution_count": 66,
     "metadata": {},
     "output_type": "execute_result"
    }
   ],
   "source": [
    "np.hsplit(niz, 2)  #okomito razvajanje, član s indexom 2 (stupac) postaje prvi stupac u nizu"
   ]
  },
  {
   "cell_type": "code",
   "execution_count": 68,
   "id": "209a2a7b",
   "metadata": {},
   "outputs": [
    {
     "data": {
      "text/plain": [
       "[array([[1, 2, 3, 4],\n",
       "        [5, 6, 7, 8]]),\n",
       " array([[ 9, 10, 11, 12],\n",
       "        [13, 14, 15, 16]])]"
      ]
     },
     "execution_count": 68,
     "metadata": {},
     "output_type": "execute_result"
    }
   ],
   "source": [
    "np.vsplit(niz, 2)      #horizontalno razvajanje, član s indexom 2 (redak) postaje prvi redak u nizu"
   ]
  },
  {
   "cell_type": "code",
   "execution_count": 69,
   "id": "1ff58809",
   "metadata": {},
   "outputs": [
    {
     "data": {
      "text/plain": [
       "[array([[ 1,  2,  3],\n",
       "        [ 5,  6,  7],\n",
       "        [ 9, 10, 11],\n",
       "        [13, 14, 15]]),\n",
       " array([[ 4],\n",
       "        [ 8],\n",
       "        [12],\n",
       "        [16]])]"
      ]
     },
     "execution_count": 69,
     "metadata": {},
     "output_type": "execute_result"
    }
   ],
   "source": [
    "np.hsplit(niz, np.array([3,])) "
   ]
  },
  {
   "cell_type": "code",
   "execution_count": 72,
   "id": "a75b8706",
   "metadata": {},
   "outputs": [
    {
     "data": {
      "text/plain": [
       "[array([[ 1],\n",
       "        [ 5],\n",
       "        [ 9],\n",
       "        [13]]),\n",
       " array([[ 2,  3,  4],\n",
       "        [ 6,  7,  8],\n",
       "        [10, 11, 12],\n",
       "        [14, 15, 16]])]"
      ]
     },
     "execution_count": 72,
     "metadata": {},
     "output_type": "execute_result"
    }
   ],
   "source": [
    "np.hsplit(niz, np.array([1,])) "
   ]
  },
  {
   "cell_type": "code",
   "execution_count": 73,
   "id": "94cfbec9",
   "metadata": {},
   "outputs": [
    {
     "data": {
      "text/plain": [
       "array([[ 1,  2,  3,  4,  5,  6,  7,  8],\n",
       "       [ 9, 10, 11, 12, 13, 14, 15, 16],\n",
       "       [17, 18, 19, 20, 21, 22, 23, 24],\n",
       "       [25, 26, 27, 28, 29, 30, 31, 32],\n",
       "       [33, 34, 35, 36, 37, 38, 39, 40],\n",
       "       [41, 42, 43, 44, 45, 46, 47, 48],\n",
       "       [49, 50, 51, 52, 53, 54, 55, 56],\n",
       "       [57, 58, 59, 60, 61, 62, 63, 64]])"
      ]
     },
     "execution_count": 73,
     "metadata": {},
     "output_type": "execute_result"
    }
   ],
   "source": [
    "niz_64\n"
   ]
  },
  {
   "cell_type": "code",
   "execution_count": 75,
   "id": "652e05e3",
   "metadata": {},
   "outputs": [
    {
     "data": {
      "text/plain": [
       "[array([[ 1,  2,  3],\n",
       "        [ 9, 10, 11],\n",
       "        [17, 18, 19],\n",
       "        [25, 26, 27],\n",
       "        [33, 34, 35],\n",
       "        [41, 42, 43],\n",
       "        [49, 50, 51],\n",
       "        [57, 58, 59]]),\n",
       " array([[ 4,  5,  6,  7],\n",
       "        [12, 13, 14, 15],\n",
       "        [20, 21, 22, 23],\n",
       "        [28, 29, 30, 31],\n",
       "        [36, 37, 38, 39],\n",
       "        [44, 45, 46, 47],\n",
       "        [52, 53, 54, 55],\n",
       "        [60, 61, 62, 63]]),\n",
       " array([[ 8],\n",
       "        [16],\n",
       "        [24],\n",
       "        [32],\n",
       "        [40],\n",
       "        [48],\n",
       "        [56],\n",
       "        [64]])]"
      ]
     },
     "execution_count": 75,
     "metadata": {},
     "output_type": "execute_result"
    }
   ],
   "source": [
    "np.hsplit(niz_64, np.array([3,7]))    # podijeli na stupce do indexa 3-1, od 3 do 7-1 te od 7 nadalje"
   ]
  },
  {
   "cell_type": "code",
   "execution_count": 76,
   "id": "2f7ff497",
   "metadata": {},
   "outputs": [
    {
     "data": {
      "text/plain": [
       "[array([[ 1,  2,  3],\n",
       "        [ 9, 10, 11],\n",
       "        [17, 18, 19],\n",
       "        [25, 26, 27],\n",
       "        [33, 34, 35],\n",
       "        [41, 42, 43],\n",
       "        [49, 50, 51],\n",
       "        [57, 58, 59]]),\n",
       " array([[ 4,  5],\n",
       "        [12, 13],\n",
       "        [20, 21],\n",
       "        [28, 29],\n",
       "        [36, 37],\n",
       "        [44, 45],\n",
       "        [52, 53],\n",
       "        [60, 61]]),\n",
       " array([[ 6,  7,  8],\n",
       "        [14, 15, 16],\n",
       "        [22, 23, 24],\n",
       "        [30, 31, 32],\n",
       "        [38, 39, 40],\n",
       "        [46, 47, 48],\n",
       "        [54, 55, 56],\n",
       "        [62, 63, 64]])]"
      ]
     },
     "execution_count": 76,
     "metadata": {},
     "output_type": "execute_result"
    }
   ],
   "source": [
    "np.hsplit(niz_64, np.array([3,5]))"
   ]
  },
  {
   "cell_type": "code",
   "execution_count": 77,
   "id": "6aad6ff9",
   "metadata": {},
   "outputs": [
    {
     "data": {
      "text/plain": [
       "[array([[ 1,  2,  3,  4,  5,  6,  7,  8],\n",
       "        [ 9, 10, 11, 12, 13, 14, 15, 16]]),\n",
       " array([[17, 18, 19, 20, 21, 22, 23, 24],\n",
       "        [25, 26, 27, 28, 29, 30, 31, 32],\n",
       "        [33, 34, 35, 36, 37, 38, 39, 40]]),\n",
       " array([[41, 42, 43, 44, 45, 46, 47, 48],\n",
       "        [49, 50, 51, 52, 53, 54, 55, 56],\n",
       "        [57, 58, 59, 60, 61, 62, 63, 64]])]"
      ]
     },
     "execution_count": 77,
     "metadata": {},
     "output_type": "execute_result"
    }
   ],
   "source": [
    "np.vsplit(niz_64, np.array([2,5]))"
   ]
  },
  {
   "cell_type": "markdown",
   "id": "1384a3a8",
   "metadata": {},
   "source": [
    "# Spremanje podjeljenih nizova"
   ]
  },
  {
   "cell_type": "code",
   "execution_count": 78,
   "id": "990798a3",
   "metadata": {},
   "outputs": [],
   "source": [
    "n1,n2,n3=np.vsplit(niz_64, np.array([2,5]))"
   ]
  },
  {
   "cell_type": "code",
   "execution_count": 79,
   "id": "944a812b",
   "metadata": {},
   "outputs": [
    {
     "data": {
      "text/plain": [
       "array([[ 1,  2,  3,  4,  5,  6,  7,  8],\n",
       "       [ 9, 10, 11, 12, 13, 14, 15, 16]])"
      ]
     },
     "execution_count": 79,
     "metadata": {},
     "output_type": "execute_result"
    }
   ],
   "source": [
    "n1"
   ]
  },
  {
   "cell_type": "code",
   "execution_count": 80,
   "id": "f9497f68",
   "metadata": {},
   "outputs": [
    {
     "data": {
      "text/plain": [
       "array([[17, 18, 19, 20, 21, 22, 23, 24],\n",
       "       [25, 26, 27, 28, 29, 30, 31, 32],\n",
       "       [33, 34, 35, 36, 37, 38, 39, 40]])"
      ]
     },
     "execution_count": 80,
     "metadata": {},
     "output_type": "execute_result"
    }
   ],
   "source": [
    "n2"
   ]
  },
  {
   "cell_type": "code",
   "execution_count": 81,
   "id": "cbef1f5a",
   "metadata": {},
   "outputs": [
    {
     "data": {
      "text/plain": [
       "array([[41, 42, 43, 44, 45, 46, 47, 48],\n",
       "       [49, 50, 51, 52, 53, 54, 55, 56],\n",
       "       [57, 58, 59, 60, 61, 62, 63, 64]])"
      ]
     },
     "execution_count": 81,
     "metadata": {},
     "output_type": "execute_result"
    }
   ],
   "source": [
    "n3"
   ]
  },
  {
   "cell_type": "markdown",
   "id": "00f5a7eb",
   "metadata": {},
   "source": [
    "# Matematičke operacije - vrijede pravila za matrice"
   ]
  },
  {
   "cell_type": "code",
   "execution_count": 82,
   "id": "238e5ed1",
   "metadata": {},
   "outputs": [
    {
     "ename": "ValueError",
     "evalue": "operands could not be broadcast together with shapes (2,8) (3,8) ",
     "output_type": "error",
     "traceback": [
      "\u001b[1;31m---------------------------------------------------------------------------\u001b[0m",
      "\u001b[1;31mValueError\u001b[0m                                Traceback (most recent call last)",
      "Input \u001b[1;32mIn [82]\u001b[0m, in \u001b[0;36m<cell line: 1>\u001b[1;34m()\u001b[0m\n\u001b[1;32m----> 1\u001b[0m \u001b[43mn1\u001b[49m\u001b[38;5;241;43m+\u001b[39;49m\u001b[43mn2\u001b[49m\n",
      "\u001b[1;31mValueError\u001b[0m: operands could not be broadcast together with shapes (2,8) (3,8) "
     ]
    }
   ],
   "source": [
    "n1+n2"
   ]
  },
  {
   "cell_type": "code",
   "execution_count": 83,
   "id": "65c8c8a1",
   "metadata": {},
   "outputs": [
    {
     "data": {
      "text/plain": [
       "array([[ 58,  60,  62,  64,  66,  68,  70,  72],\n",
       "       [ 74,  76,  78,  80,  82,  84,  86,  88],\n",
       "       [ 90,  92,  94,  96,  98, 100, 102, 104]])"
      ]
     },
     "execution_count": 83,
     "metadata": {},
     "output_type": "execute_result"
    }
   ],
   "source": [
    "n2+n3"
   ]
  },
  {
   "cell_type": "code",
   "execution_count": 84,
   "id": "d1918ec6",
   "metadata": {},
   "outputs": [
    {
     "data": {
      "text/plain": [
       "array([[24, 24, 24, 24, 24, 24, 24, 24],\n",
       "       [24, 24, 24, 24, 24, 24, 24, 24],\n",
       "       [24, 24, 24, 24, 24, 24, 24, 24]])"
      ]
     },
     "execution_count": 84,
     "metadata": {},
     "output_type": "execute_result"
    }
   ],
   "source": [
    "n3-n2"
   ]
  },
  {
   "cell_type": "code",
   "execution_count": 85,
   "id": "b2eccf16",
   "metadata": {},
   "outputs": [
    {
     "data": {
      "text/plain": [
       "array([[ 58,  60,  62,  64,  66,  68,  70,  72],\n",
       "       [ 74,  76,  78,  80,  82,  84,  86,  88],\n",
       "       [ 90,  92,  94,  96,  98, 100, 102, 104]])"
      ]
     },
     "execution_count": 85,
     "metadata": {},
     "output_type": "execute_result"
    }
   ],
   "source": [
    "np.add(n2,n3)"
   ]
  },
  {
   "cell_type": "code",
   "execution_count": 86,
   "id": "8d380ab7",
   "metadata": {},
   "outputs": [
    {
     "data": {
      "text/plain": [
       "array([[-24, -24, -24, -24, -24, -24, -24, -24],\n",
       "       [-24, -24, -24, -24, -24, -24, -24, -24],\n",
       "       [-24, -24, -24, -24, -24, -24, -24, -24]])"
      ]
     },
     "execution_count": 86,
     "metadata": {},
     "output_type": "execute_result"
    }
   ],
   "source": [
    "np.subtract(n2,n3)"
   ]
  },
  {
   "cell_type": "code",
   "execution_count": 87,
   "id": "edd3f1b2",
   "metadata": {},
   "outputs": [
    {
     "data": {
      "text/plain": [
       "array([[0.01, 0.02, 0.03, 0.04, 0.05, 0.06, 0.07, 0.08],\n",
       "       [0.09, 0.1 , 0.11, 0.12, 0.13, 0.14, 0.15, 0.16]])"
      ]
     },
     "execution_count": 87,
     "metadata": {},
     "output_type": "execute_result"
    }
   ],
   "source": [
    "n1/100"
   ]
  },
  {
   "cell_type": "code",
   "execution_count": 88,
   "id": "77862ebb",
   "metadata": {},
   "outputs": [
    {
     "data": {
      "text/plain": [
       "array([[  7,  14,  21,  28,  35,  42,  49,  56],\n",
       "       [ 63,  70,  77,  84,  91,  98, 105, 112]])"
      ]
     },
     "execution_count": 88,
     "metadata": {},
     "output_type": "execute_result"
    }
   ],
   "source": [
    "n1*7"
   ]
  },
  {
   "cell_type": "code",
   "execution_count": 89,
   "id": "07aa1014",
   "metadata": {},
   "outputs": [
    {
     "data": {
      "text/plain": [
       "array([[0.01000017, 0.02000133, 0.0300045 , 0.04001067, 0.05002086,\n",
       "        0.06003606, 0.07005729, 0.08008558],\n",
       "       [0.09012195, 0.10016742, 0.11022305, 0.12028988, 0.13036898,\n",
       "        0.14046141, 0.15056827, 0.16069065]])"
      ]
     },
     "execution_count": 89,
     "metadata": {},
     "output_type": "execute_result"
    }
   ],
   "source": [
    "np.arcsin(n1/100)"
   ]
  },
  {
   "cell_type": "code",
   "execution_count": 90,
   "id": "624ec406",
   "metadata": {},
   "outputs": [
    {
     "data": {
      "text/plain": [
       "array([[1.        , 1.41421356, 1.73205081, 2.        , 2.23606798,\n",
       "        2.44948974, 2.64575131, 2.82842712],\n",
       "       [3.        , 3.16227766, 3.31662479, 3.46410162, 3.60555128,\n",
       "        3.74165739, 3.87298335, 4.        ]])"
      ]
     },
     "execution_count": 90,
     "metadata": {},
     "output_type": "execute_result"
    }
   ],
   "source": [
    "np.sqrt(n1)"
   ]
  },
  {
   "cell_type": "code",
   "execution_count": 93,
   "id": "80301f68",
   "metadata": {},
   "outputs": [
    {
     "data": {
      "text/plain": [
       "array([[1.  , 1.41, 1.73, 2.  , 2.24, 2.45, 2.65, 2.83],\n",
       "       [3.  , 3.16, 3.32, 3.46, 3.61, 3.74, 3.87, 4.  ]])"
      ]
     },
     "execution_count": 93,
     "metadata": {},
     "output_type": "execute_result"
    }
   ],
   "source": [
    "np.round(np.sqrt(n1),2)                #zaokružiti rezultat"
   ]
  },
  {
   "cell_type": "markdown",
   "id": "39d7089b",
   "metadata": {},
   "source": [
    "# Statističke operacije nad nizovima"
   ]
  },
  {
   "cell_type": "code",
   "execution_count": 94,
   "id": "84a9b251",
   "metadata": {},
   "outputs": [],
   "source": [
    "niz=np.random.randn(4,6)"
   ]
  },
  {
   "cell_type": "code",
   "execution_count": 97,
   "id": "3f05dfab",
   "metadata": {},
   "outputs": [
    {
     "data": {
      "text/plain": [
       "array([[ 1.  , -1.31,  0.45, -0.83, -0.94,  1.14],\n",
       "       [ 0.54, -1.35, -0.56, -0.55, -0.78,  1.15],\n",
       "       [ 0.01,  0.55,  1.78, -0.08, -0.63,  0.3 ],\n",
       "       [ 0.49, -0.29, -1.68,  0.5 ,  0.18,  0.86]])"
      ]
     },
     "execution_count": 97,
     "metadata": {},
     "output_type": "execute_result"
    }
   ],
   "source": [
    "niz=np.round(niz,2)\n",
    "niz"
   ]
  },
  {
   "cell_type": "code",
   "execution_count": 98,
   "id": "ab3cba14",
   "metadata": {},
   "outputs": [
    {
     "name": "stdout",
     "output_type": "stream",
     "text": [
      "Srednja vrijednost:  -0.0\n"
     ]
    }
   ],
   "source": [
    "print('Srednja vrijednost: ', round(np.mean(niz),2))"
   ]
  },
  {
   "cell_type": "code",
   "execution_count": 99,
   "id": "6c8baa38",
   "metadata": {},
   "outputs": [
    {
     "name": "stdout",
     "output_type": "stream",
     "text": [
      "Srednja devijacija:  0.88\n"
     ]
    }
   ],
   "source": [
    "print('Srednja devijacija: ', round(np.std(niz),2))"
   ]
  },
  {
   "cell_type": "code",
   "execution_count": 100,
   "id": "501cdde2",
   "metadata": {},
   "outputs": [
    {
     "name": "stdout",
     "output_type": "stream",
     "text": [
      "Suma cijelog niza:  -0.04999999999999982\n"
     ]
    }
   ],
   "source": [
    "print('Suma cijelog niza: ', np.sum(niz))"
   ]
  },
  {
   "cell_type": "code",
   "execution_count": 102,
   "id": "9b8f3081",
   "metadata": {},
   "outputs": [
    {
     "name": "stdout",
     "output_type": "stream",
     "text": [
      "Suma stupaca:  [ 2.04 -2.4  -0.01 -0.96 -2.17  3.45]\n"
     ]
    }
   ],
   "source": [
    "print('Suma stupaca: ', np.sum(niz, axis=0))"
   ]
  },
  {
   "cell_type": "code",
   "execution_count": 103,
   "id": "d31b1d18",
   "metadata": {},
   "outputs": [
    {
     "name": "stdout",
     "output_type": "stream",
     "text": [
      "Suma redaka:  [-0.49 -1.55  1.93  0.06]\n"
     ]
    }
   ],
   "source": [
    "print('Suma redaka: ', np.sum(niz, axis=1))"
   ]
  },
  {
   "cell_type": "code",
   "execution_count": 104,
   "id": "406deb21",
   "metadata": {},
   "outputs": [
    {
     "data": {
      "text/plain": [
       "-1.68"
      ]
     },
     "execution_count": 104,
     "metadata": {},
     "output_type": "execute_result"
    }
   ],
   "source": [
    "np.min(niz)"
   ]
  },
  {
   "cell_type": "code",
   "execution_count": 105,
   "id": "4efe23bf",
   "metadata": {},
   "outputs": [
    {
     "data": {
      "text/plain": [
       "1.78"
      ]
     },
     "execution_count": 105,
     "metadata": {},
     "output_type": "execute_result"
    }
   ],
   "source": [
    "np.max(niz)"
   ]
  },
  {
   "cell_type": "code",
   "execution_count": null,
   "id": "9994ed65",
   "metadata": {},
   "outputs": [],
   "source": []
  }
 ],
 "metadata": {
  "kernelspec": {
   "display_name": "Python 3 (ipykernel)",
   "language": "python",
   "name": "python3"
  },
  "language_info": {
   "codemirror_mode": {
    "name": "ipython",
    "version": 3
   },
   "file_extension": ".py",
   "mimetype": "text/x-python",
   "name": "python",
   "nbconvert_exporter": "python",
   "pygments_lexer": "ipython3",
   "version": "3.9.12"
  }
 },
 "nbformat": 4,
 "nbformat_minor": 5
}
