{
 "cells": [
  {
   "cell_type": "markdown",
   "id": "489f7b64",
   "metadata": {},
   "source": [
    "  \n",
    "# Jupyter Notebook\n",
    "    "
   ]
  },
  {
   "cell_type": "markdown",
   "id": "680cd655",
   "metadata": {},
   "source": [
    "#### zelena - uređivački mod\n",
    "#### plava - završeno uređivanje, klikom postane zelena za uređivanje\n",
    "*Code cell* - čelija za unos koda  \n",
    "*Markdown cell* - čelija za unos teksta"
   ]
  },
  {
   "cell_type": "markdown",
   "id": "315f1118",
   "metadata": {},
   "source": [
    "U Jupyter Notebooku uvijek je samo **jedna** čelija aktivna"
   ]
  },
  {
   "cell_type": "markdown",
   "id": "99aa3186",
   "metadata": {},
   "source": [
    "Detaljnije na linku *https://www.markdownguide.org/basic-syntax/*"
   ]
  },
  {
   "cell_type": "markdown",
   "id": "75a191ce",
   "metadata": {},
   "source": [
    "Na kraju **'Download as'** HTML "
   ]
  },
  {
   "cell_type": "markdown",
   "id": "1a6e9892",
   "metadata": {},
   "source": [
    "### LISTA (nabrajanje)"
   ]
  },
  {
   "cell_type": "markdown",
   "id": "8e24339c",
   "metadata": {},
   "source": [
    "1. Prvi elemet\n",
    "2. Drugi element\n",
    "3. Treći element\n",
    "- tri pod jedan"
   ]
  },
  {
   "attachments": {
    "image.png": {
     "image/png": "[encoded data removed]"
    }
   },
   "cell_type": "markdown",
   "id": "dfeb92fc",
   "metadata": {},
   "source": [
    "![image.png](attachment:image.png)"
   ]
  },
  {
   "cell_type": "markdown",
   "id": "7397bb40",
   "metadata": {},
   "source": [
    "#### Osnove programiranja - osnovne računske operacije, funkcije input, print "
   ]
  },
  {
   "cell_type": "code",
   "execution_count": 2,
   "id": "99b18861",
   "metadata": {},
   "outputs": [
    {
     "data": {
      "text/plain": [
       "6.6"
      ]
     },
     "execution_count": 2,
     "metadata": {},
     "output_type": "execute_result"
    }
   ],
   "source": [
    "3*(45-12)/15"
   ]
  },
  {
   "cell_type": "code",
   "execution_count": 3,
   "id": "1a245059",
   "metadata": {},
   "outputs": [],
   "source": [
    "a=34"
   ]
  },
  {
   "cell_type": "code",
   "execution_count": 9,
   "id": "3e460d82",
   "metadata": {},
   "outputs": [
    {
     "data": {
      "text/plain": [
       "34"
      ]
     },
     "execution_count": 9,
     "metadata": {},
     "output_type": "execute_result"
    }
   ],
   "source": [
    "a"
   ]
  },
  {
   "cell_type": "code",
   "execution_count": 10,
   "id": "e96c9843",
   "metadata": {},
   "outputs": [
    {
     "name": "stdout",
     "output_type": "stream",
     "text": [
      "34\n"
     ]
    }
   ],
   "source": [
    "print(a)"
   ]
  },
  {
   "cell_type": "code",
   "execution_count": 11,
   "id": "3fe473fa",
   "metadata": {},
   "outputs": [
    {
     "data": {
      "text/plain": [
       "int"
      ]
     },
     "execution_count": 11,
     "metadata": {},
     "output_type": "execute_result"
    }
   ],
   "source": [
    "type(a)"
   ]
  },
  {
   "cell_type": "code",
   "execution_count": 12,
   "id": "1e6e916d",
   "metadata": {},
   "outputs": [
    {
     "name": "stdout",
     "output_type": "stream",
     "text": [
      "<class 'int'>\n"
     ]
    }
   ],
   "source": [
    "print(type(a))"
   ]
  },
  {
   "cell_type": "code",
   "execution_count": 13,
   "id": "141060f6",
   "metadata": {},
   "outputs": [],
   "source": [
    "b='Zagreb'"
   ]
  },
  {
   "cell_type": "code",
   "execution_count": 14,
   "id": "2b95183d",
   "metadata": {},
   "outputs": [
    {
     "data": {
      "text/plain": [
       "str"
      ]
     },
     "execution_count": 14,
     "metadata": {},
     "output_type": "execute_result"
    }
   ],
   "source": [
    "type(b)"
   ]
  },
  {
   "cell_type": "code",
   "execution_count": 15,
   "id": "8fcfc9ce",
   "metadata": {},
   "outputs": [
    {
     "name": "stdout",
     "output_type": "stream",
     "text": [
      "<class 'str'>\n"
     ]
    }
   ],
   "source": [
    "print(type(b))"
   ]
  },
  {
   "cell_type": "code",
   "execution_count": 17,
   "id": "e42b44e5",
   "metadata": {},
   "outputs": [],
   "source": [
    "lista1=[1,2,3]"
   ]
  },
  {
   "cell_type": "code",
   "execution_count": 19,
   "id": "844da08d",
   "metadata": {},
   "outputs": [
    {
     "data": {
      "text/plain": [
       "[1, 2, 3]"
      ]
     },
     "execution_count": 19,
     "metadata": {},
     "output_type": "execute_result"
    }
   ],
   "source": [
    "lista1"
   ]
  },
  {
   "cell_type": "code",
   "execution_count": 20,
   "id": "eb08220d",
   "metadata": {},
   "outputs": [],
   "source": [
    "lista2=lista1"
   ]
  },
  {
   "cell_type": "code",
   "execution_count": 21,
   "id": "7ff46085",
   "metadata": {},
   "outputs": [
    {
     "data": {
      "text/plain": [
       "[1, 2, 3]"
      ]
     },
     "execution_count": 21,
     "metadata": {},
     "output_type": "execute_result"
    }
   ],
   "source": [
    "lista2"
   ]
  },
  {
   "cell_type": "code",
   "execution_count": 22,
   "id": "baa3c43e",
   "metadata": {},
   "outputs": [
    {
     "name": "stdout",
     "output_type": "stream",
     "text": [
      "[1, 2, 3, 4]\n"
     ]
    }
   ],
   "source": [
    "lista1.append(4)\n",
    "print(lista1)"
   ]
  },
  {
   "cell_type": "code",
   "execution_count": 23,
   "id": "b3a6e18f",
   "metadata": {},
   "outputs": [
    {
     "name": "stdout",
     "output_type": "stream",
     "text": [
      "[1, 2, 3, 4]\n"
     ]
    }
   ],
   "source": [
    "print(lista2)"
   ]
  },
  {
   "cell_type": "code",
   "execution_count": 24,
   "id": "f3ca05b5",
   "metadata": {},
   "outputs": [
    {
     "name": "stdout",
     "output_type": "stream",
     "text": [
      "[1, 2, 3, 4]\n"
     ]
    }
   ],
   "source": [
    "lista2=lista1[::]\n",
    "print(lista2)"
   ]
  },
  {
   "cell_type": "code",
   "execution_count": 25,
   "id": "58ea1950",
   "metadata": {},
   "outputs": [
    {
     "name": "stdout",
     "output_type": "stream",
     "text": [
      "[1, 2, 3, 4, 5]\n",
      "[1, 2, 3, 4]\n"
     ]
    }
   ],
   "source": [
    "lista1.append(5)\n",
    "print(lista1)\n",
    "print(lista2)"
   ]
  },
  {
   "cell_type": "code",
   "execution_count": 27,
   "id": "07eab47b",
   "metadata": {},
   "outputs": [
    {
     "name": "stdout",
     "output_type": "stream",
     "text": [
      "Pozdrav iz \"print\" funkcije\n"
     ]
    }
   ],
   "source": [
    "print('Pozdrav iz \"print\" funkcije')"
   ]
  },
  {
   "cell_type": "code",
   "execution_count": 28,
   "id": "f6ab3c67",
   "metadata": {},
   "outputs": [
    {
     "name": "stdout",
     "output_type": "stream",
     "text": [
      "Pozdrav iz \"print\" funkcije\n"
     ]
    }
   ],
   "source": [
    "print('Pozdrav', 'iz', '\"print\"', 'funkcije')"
   ]
  },
  {
   "cell_type": "code",
   "execution_count": 30,
   "id": "3eb4cbf9",
   "metadata": {},
   "outputs": [
    {
     "name": "stdout",
     "output_type": "stream",
     "text": [
      "Pozdrav\n",
      "iz\n",
      "\"print\"\n",
      "funkcije\n"
     ]
    }
   ],
   "source": [
    "print('Pozdrav', 'iz', '\"print\"', 'funkcije', sep='\\n')"
   ]
  },
  {
   "cell_type": "code",
   "execution_count": 31,
   "id": "ac7bff81",
   "metadata": {},
   "outputs": [
    {
     "name": "stdout",
     "output_type": "stream",
     "text": [
      "1\t2\t3\t4\n"
     ]
    }
   ],
   "source": [
    "print('1','2','3','4', sep='\\t')"
   ]
  },
  {
   "cell_type": "code",
   "execution_count": 35,
   "id": "b35728dd",
   "metadata": {},
   "outputs": [
    {
     "name": "stdout",
     "output_type": "stream",
     "text": [
      "Unesi neku vrijednost: 55\n"
     ]
    }
   ],
   "source": [
    "v=int(input('Unesi neku vrijednost: '))"
   ]
  },
  {
   "cell_type": "code",
   "execution_count": 36,
   "id": "42f09b3e",
   "metadata": {},
   "outputs": [
    {
     "data": {
      "text/plain": [
       "55"
      ]
     },
     "execution_count": 36,
     "metadata": {},
     "output_type": "execute_result"
    }
   ],
   "source": [
    "v"
   ]
  },
  {
   "cell_type": "markdown",
   "id": "d74a0950",
   "metadata": {},
   "source": [
    "***Funkcije za konverziju podataka***"
   ]
  },
  {
   "cell_type": "markdown",
   "id": "f09d0c5e",
   "metadata": {},
   "source": [
    "+ __int()__ -pretvara u cijeli broj (integer)\n",
    "+ __float()__ - pretvara u decimalni broj\n",
    "+ __ord()__ - pretvara znak u ASCII kod/broj\n",
    "+ __chr()__ - pretvara broj u znak\n",
    "+ __str()__ - pretvara u string"
   ]
  },
  {
   "cell_type": "markdown",
   "id": "07ed28c1",
   "metadata": {},
   "source": [
    "postoje konverzije u listu, n-torku, rječnik,...\n",
    "konverzije u ostale brojevne sustave: binarni, oktalni, heksadecimalni"
   ]
  },
  {
   "cell_type": "code",
   "execution_count": 37,
   "id": "2ce75355",
   "metadata": {},
   "outputs": [
    {
     "data": {
      "text/plain": [
       "(1, 2, 3, 4, 5)"
      ]
     },
     "execution_count": 37,
     "metadata": {},
     "output_type": "execute_result"
    }
   ],
   "source": [
    "tuple(lista1)"
   ]
  },
  {
   "cell_type": "code",
   "execution_count": 38,
   "id": "881abd1d",
   "metadata": {},
   "outputs": [
    {
     "data": {
      "text/plain": [
       "'55'"
      ]
     },
     "execution_count": 38,
     "metadata": {},
     "output_type": "execute_result"
    }
   ],
   "source": [
    "str(v)"
   ]
  },
  {
   "cell_type": "code",
   "execution_count": 39,
   "id": "ee00d2f1",
   "metadata": {},
   "outputs": [
    {
     "data": {
      "text/plain": [
       "55.0"
      ]
     },
     "execution_count": 39,
     "metadata": {},
     "output_type": "execute_result"
    }
   ],
   "source": [
    "float(v)"
   ]
  },
  {
   "cell_type": "code",
   "execution_count": 40,
   "id": "b1c1dbd0",
   "metadata": {},
   "outputs": [
    {
     "data": {
      "text/plain": [
       "'0o67'"
      ]
     },
     "execution_count": 40,
     "metadata": {},
     "output_type": "execute_result"
    }
   ],
   "source": [
    "oct(v)"
   ]
  },
  {
   "cell_type": "markdown",
   "id": "41f53b66",
   "metadata": {},
   "source": [
    "**Zadatak 1**  \n",
    "Izračunajte prosječnu ocjenu za pet filmova koje ste nedavno pogledali. Unesite ocjene u listu i iskoristite funkciju za izračun prosjeka."
   ]
  },
  {
   "cell_type": "code",
   "execution_count": 1,
   "id": "ed41980c",
   "metadata": {},
   "outputs": [
    {
     "name": "stdout",
     "output_type": "stream",
     "text": [
      "Unesite ocjenu za 0 film: 5\n",
      "Unesite ocjenu za 1 film: 2\n",
      "Unesite ocjenu za 2 film: 6\n",
      "Unesite ocjenu za 3 film: 2.2\n",
      "Unesite ocjenu za 4 film: 5\n",
      "[5.0, 2.0, 6.0, 2.2, 5.0]\n",
      "Prosjek ocjene zadnjih 5 filmova iznosi: 4.04\n"
     ]
    }
   ],
   "source": [
    "lista_ocjena=[]\n",
    "for i in range (5):\n",
    "    a=float(input(f'Unesite ocjenu za {i} film: '))\n",
    "    lista_ocjena.append(a)\n",
    "print(lista_ocjena)\n",
    "b=sum(lista_ocjena)/5\n",
    "print(f'Prosjek ocjene zadnjih 5 filmova iznosi: {b}')"
   ]
  },
  {
   "cell_type": "markdown",
   "id": "18b51686",
   "metadata": {},
   "source": [
    "**Zadatak 2**  \n",
    "Napravite dvije liste s naslovima filmova i njihovim godinama izlazaka. Zatim spojite te dvije liste u jednu tako da svaki element bude niz koji sadrži naziv filma i godinu.\n"
   ]
  },
  {
   "cell_type": "code",
   "execution_count": 2,
   "id": "97673c8b",
   "metadata": {},
   "outputs": [
    {
     "name": "stdout",
     "output_type": "stream",
     "text": [
      "[('Putnik', '1988'), ('Anakonda', '1974'), ('Rambo', '1982')]\n"
     ]
    }
   ],
   "source": [
    "lista_filmova=['Putnik', 'Anakonda', 'Rambo']\n",
    "lista_godina=['1988', '1974', '1982']\n",
    "lista_zajedno=[]\n",
    "for i in range(len(lista_filmova)):\n",
    "    film_godina=(lista_filmova[i], lista_godina[i])\n",
    "    lista_zajedno.append(film_godina)\n",
    "  \n",
    "print(lista_zajedno)\n",
    "\n",
    "    "
   ]
  },
  {
   "cell_type": "markdown",
   "id": "80940611",
   "metadata": {},
   "source": [
    "**Zadatak 3**  \n",
    "Napravite listu s 5 različitih žanrova filmova i ispišite na ekran. Zatim izradite drugu listu koja sadrži 5 filmova, pri čemu svaki pripada jednom od žanrova iz prve liste."
   ]
  },
  {
   "cell_type": "code",
   "execution_count": 7,
   "id": "eb0a1776",
   "metadata": {},
   "outputs": [
    {
     "name": "stdout",
     "output_type": "stream",
     "text": [
      "drama\n",
      "triler\n",
      "obiteljski\n",
      "animirani\n",
      "SF\n",
      "\n",
      "Drama: drama\n",
      "Djevojka u vlaku: triler\n",
      "Jumangi: obiteljski\n",
      "Shrek: animirani\n",
      "Putnik: SF\n"
     ]
    }
   ],
   "source": [
    "film_zanr=['drama', 'triler', 'obiteljski', 'animirani', 'SF']\n",
    "for i in range (len(film_zanr)):\n",
    "    print(film_zanr[i])\n",
    "print()\n",
    "zanr_film=[]\n",
    "filmovi=['Drama', 'Djevojka u vlaku', 'Jumangi', 'Shrek', 'Putnik']\n",
    "for i in range(len(film_zanr)):\n",
    "    print(f'{filmovi[i]}: {film_zanr[i]}')"
   ]
  },
  {
   "cell_type": "markdown",
   "id": "98a7c631",
   "metadata": {},
   "source": [
    "**Zadatak 4**  \n",
    "Napravite listu s naslovima filmova i njihovim glavnim glumcima. Zatim izradite drugu listu koja sadrži samo imena glumaca"
   ]
  },
  {
   "cell_type": "code",
   "execution_count": 2,
   "id": "82988c8a",
   "metadata": {},
   "outputs": [
    {
     "name": "stdout",
     "output_type": "stream",
     "text": [
      "['Superman', ['Christopher Reeves', 'Margot Kidder']]\n",
      "['Titanic', ['Leonardo DiCaprio', 'Kate Winslet']]\n",
      "['Kum', ['Al Pacino', 'Marlon Brando']]\n",
      "['Christopher Reeves', 'Margot Kidder', 'Leonardo DiCaprio', 'Kate Winslet', 'Al Pacino', 'Marlon Brando']\n"
     ]
    }
   ],
   "source": [
    "filmovi_glumci=[\n",
    "    ['Superman', ['Christopher Reeves', 'Margot Kidder']],\n",
    "    ['Titanic',['Leonardo DiCaprio', 'Kate Winslet']],\n",
    "    ['Kum', ['Al Pacino', 'Marlon Brando']]\n",
    "]\n",
    "\n",
    "samo_glumci=[]\n",
    "for film_glumac in filmovi_glumci:\n",
    "    print(film_glumac)\n",
    "    for glumci in film_glumac[1]:\n",
    "        samo_glumci.append(glumci)\n",
    "        \n",
    "print(samo_glumci)"
   ]
  },
  {
   "cell_type": "markdown",
   "id": "5a87631e",
   "metadata": {},
   "source": [
    "**Zadatak 5**  \n",
    "Od zadataka 2 i 4 napravite ***rječnike***"
   ]
  },
  {
   "cell_type": "code",
   "execution_count": 4,
   "id": "0431bc60",
   "metadata": {},
   "outputs": [
    {
     "name": "stdout",
     "output_type": "stream",
     "text": [
      "{'Putnik': '1988', 'Anakonda': '1974', 'Rambo': '1982'}\n"
     ]
    }
   ],
   "source": [
    "lista_filmova=['Putnik', 'Anakonda', 'Rambo']\n",
    "lista_godina=['1988', '1974', '1982']\n",
    "rjecnik1={}\n",
    "for i in range(len(lista_filmova)):\n",
    "    kljuc = lista_filmova[i]\n",
    "    vrijednost = lista_godina[i]\n",
    "    rjecnik1[kljuc] = vrijednost\n",
    "print(rjecnik1)"
   ]
  },
  {
   "cell_type": "code",
   "execution_count": 2,
   "id": "e9f866c8",
   "metadata": {},
   "outputs": [
    {
     "name": "stdout",
     "output_type": "stream",
     "text": [
      "{'S': 'Margot Kidder', 'u': 'Marlon Brando', 'p': 'Margot Kidder', 'e': 'Margot Kidder', 'r': 'Margot Kidder', 'm': 'Marlon Brando', 'a': 'Kate Winslet', 'n': 'Kate Winslet', 'T': 'Kate Winslet', 'i': 'Kate Winslet', 't': 'Kate Winslet', 'c': 'Kate Winslet', 'K': 'Marlon Brando'}\n"
     ]
    }
   ],
   "source": [
    "filmovi_glumci=[\n",
    "    ['Superman', ['Christopher Reeves', 'Margot Kidder']],\n",
    "    ['Titanic',['Leonardo DiCaprio', 'Kate Winslet']],\n",
    "    ['Kum', ['Al Pacino', 'Marlon Brando']]\n",
    "]\n",
    "rjecnik2={}\n",
    "for film_glumac in filmovi_glumci:\n",
    "    for film in film_glumac[0]:\n",
    "        kljuc1=film\n",
    "        for glumac in film_glumac[1]:\n",
    "            vrijednost1=glumac\n",
    "            rjecnik2[kljuc1]=vrijednost1\n",
    "print(rjecnik2)"
   ]
  },
  {
   "cell_type": "markdown",
   "id": "2bf33e61",
   "metadata": {},
   "source": [
    "## Kontrola toka"
   ]
  },
  {
   "cell_type": "markdown",
   "id": "9b6b7d10",
   "metadata": {},
   "source": [
    "### Simulacija senzora"
   ]
  },
  {
   "cell_type": "code",
   "execution_count": 5,
   "id": "948522c3",
   "metadata": {},
   "outputs": [
    {
     "name": "stdout",
     "output_type": "stream",
     "text": [
      "Klima je uključena!\n",
      "Temperatura hlađenja: 21°C\n"
     ]
    }
   ],
   "source": [
    "temperatura=28\n",
    "if temperatura >=25:\n",
    "    print('Klima je uključena!')\n",
    "    print('Temperatura hlađenja: 21°C')\n",
    "else:\n",
    "    print(f'Temperatura iznosi {temperatura}°C')\n",
    "    "
   ]
  },
  {
   "cell_type": "code",
   "execution_count": 7,
   "id": "6e9ad87e",
   "metadata": {},
   "outputs": [
    {
     "name": "stdout",
     "output_type": "stream",
     "text": [
      "Klima je uključena!\n",
      "Temperatura hlađenja je 20°C.\n"
     ]
    }
   ],
   "source": [
    "if temperatura <=18:\n",
    "    print('Grijanje je uključeno!')\n",
    "    print('Temperatura grijanja je 23°C')\n",
    "elif temperatura == 22:\n",
    "    print('Grijanje je isključeno!')\n",
    "    print(f'Trenutna temperatura je {temperatura}°C.')\n",
    "elif temperatura >=26:\n",
    "    print('Klima je uključena!')\n",
    "    print('Temperatura hlađenja je 20°C.')\n",
    "elif temperatura ==24:\n",
    "    print('Hlađenje je isključeno!')\n",
    "    print(f'Trenutna temperatura je {temperatura}°C.')\n",
    "else:\n",
    "    print(f'Trenutna temperatura je {temperatura}°C.')"
   ]
  },
  {
   "cell_type": "code",
   "execution_count": 14,
   "id": "d58a7db2",
   "metadata": {},
   "outputs": [
    {
     "name": "stdout",
     "output_type": "stream",
     "text": [
      "Vlažnost tla je preniska, iznosi 25, pokrenuti zaljevanje!\n",
      "Ventil pumpe je OTVOREN!\n",
      "Vlažnost tla je preniska, iznosi 30, pokrenuti zaljevanje!\n",
      "Ventil pumpe je OTVOREN!\n",
      "Vlažnost tla je preniska, iznosi 35, pokrenuti zaljevanje!\n",
      "Ventil pumpe je OTVOREN!\n",
      "Vlažnost tla je preniska, iznosi 40, pokrenuti zaljevanje!\n",
      "Ventil pumpe je OTVOREN!\n",
      "Vlažnost tla je preniska, iznosi 45, pokrenuti zaljevanje!\n",
      "Ventil pumpe je OTVOREN!\n",
      "Vlažnost tla je preniska, iznosi 50, pokrenuti zaljevanje!\n",
      "Ventil pumpe je OTVOREN!\n",
      "Vlažnost tla je preniska, iznosi 55, pokrenuti zaljevanje!\n",
      "Ventil pumpe je OTVOREN!\n",
      "Vlažnost tla je preniska, iznosi 60, pokrenuti zaljevanje!\n",
      "Ventil pumpe je OTVOREN!\n",
      "Vlažnost tla je 65 %, ventil je ZATVOREN.\n"
     ]
    }
   ],
   "source": [
    "vlaznost_tla=25\n",
    "while vlaznost_tla<=60:\n",
    "    print(f'Vlažnost tla je preniska, iznosi {vlaznost_tla}, pokrenuti zaljevanje!')\n",
    "    print('Ventil pumpe je OTVOREN!')\n",
    "    vlaznost_tla+=5\n",
    "    \n",
    "print(f'Vlažnost tla je {vlaznost_tla} %, ventil je ZATVOREN.')"
   ]
  },
  {
   "cell_type": "code",
   "execution_count": 15,
   "id": "20454f59",
   "metadata": {},
   "outputs": [],
   "source": [
    "senzori={1:['Senzor pokreta', 'Aktivan', 'Ulazna vrata'], \n",
    "        2: ['Senzor pokreta', 'Isključen', 'Vrata na terasi'],\n",
    "        3:['Senzor pokreta', 'Aktivan', 'Ulaz u dvorište'],\n",
    "        4:['Senzor pokreta', 'Aktivan', 'Ulaz u garažu']}\n"
   ]
  },
  {
   "cell_type": "markdown",
   "id": "0e5c3d88",
   "metadata": {},
   "source": [
    "Ispisati rječnik senzori na zaslon"
   ]
  },
  {
   "cell_type": "code",
   "execution_count": 23,
   "id": "0343211b",
   "metadata": {},
   "outputs": [
    {
     "name": "stdout",
     "output_type": "stream",
     "text": [
      "ID:1\t:Senzor pokreta\t\tStatus: Aktivan\t\tLokacija: Ulazna vrata\n",
      "ID:2\t:Senzor pokreta\t\tStatus: Isključen\t\tLokacija: Vrata na terasi\n",
      "ID:3\t:Senzor pokreta\t\tStatus: Aktivan\t\tLokacija: Ulaz u dvorište\n",
      "ID:4\t:Senzor pokreta\t\tStatus: Aktivan\t\tLokacija: Ulaz u garažu\n"
     ]
    }
   ],
   "source": [
    "for id_senzora, senzor in senzori.items():\n",
    "    #print(id_senzora, senzor)\n",
    "    print(f\"ID:{id_senzora}\\t:{senzor[0]}\\t\\tStatus: {senzor[1]}\\t\\tLokacija: {senzor[2]}\")"
   ]
  },
  {
   "cell_type": "markdown",
   "id": "0e5e0360",
   "metadata": {},
   "source": [
    "Napraviti popis gdje sve postoje senzori!"
   ]
  },
  {
   "cell_type": "code",
   "execution_count": 28,
   "id": "8100a40d",
   "metadata": {},
   "outputs": [
    {
     "name": "stdout",
     "output_type": "stream",
     "text": [
      "Senzori se nalaze na lokacijama:\n",
      "Ulazna vrata\n",
      "Vrata na terasi\n",
      "Ulaz u dvorište\n",
      "Ulaz u garažu\n"
     ]
    }
   ],
   "source": [
    "lista_lokacija=[]\n",
    "for senzor in senzori.values():\n",
    "    lista_lokacija.append(senzor[2])\n",
    "print('Senzori se nalaze na lokacijama:')\n",
    "for i in range (len(lista_lokacija)):\n",
    "    print(lista_lokacija[i])\n",
    "    "
   ]
  },
  {
   "cell_type": "markdown",
   "id": "b3d47664",
   "metadata": {},
   "source": [
    "Izdvojiti u novu listu članove koji imaju više od 13 znakova!\n"
   ]
  },
  {
   "cell_type": "code",
   "execution_count": 33,
   "id": "8740ec1a",
   "metadata": {},
   "outputs": [
    {
     "data": {
      "text/plain": [
       "['Vrata na terasi', 'Ulaz u dvorište']"
      ]
     },
     "execution_count": 33,
     "metadata": {},
     "output_type": "execute_result"
    }
   ],
   "source": [
    "duge_lokacije=[x for x in lista_lokacija if len(x)>13]\n",
    "duge_lokacije"
   ]
  },
  {
   "cell_type": "markdown",
   "id": "c7dfb564",
   "metadata": {},
   "source": [
    "***Kolekcije podataka***\n",
    "- lista []\n",
    "- rječnik {:}   #ima ključ:vrijednost\n",
    "- n-torka ()\n",
    "- set {}\n"
   ]
  },
  {
   "cell_type": "code",
   "execution_count": 34,
   "id": "7c501bae",
   "metadata": {},
   "outputs": [],
   "source": [
    "godine={1990, 2020, 1986, 1999, 2000, 2001, 2000, 1999, 2020, 2021}"
   ]
  },
  {
   "cell_type": "code",
   "execution_count": 35,
   "id": "701f284f",
   "metadata": {},
   "outputs": [
    {
     "data": {
      "text/plain": [
       "{1986, 1990, 1999, 2000, 2001, 2020, 2021}"
      ]
     },
     "execution_count": 35,
     "metadata": {},
     "output_type": "execute_result"
    }
   ],
   "source": [
    "godine"
   ]
  },
  {
   "cell_type": "code",
   "execution_count": 36,
   "id": "b3387d82",
   "metadata": {},
   "outputs": [
    {
     "data": {
      "text/plain": [
       "[2000, 2001, 1986, 2020, 2021, 1990, 1999]"
      ]
     },
     "execution_count": 36,
     "metadata": {},
     "output_type": "execute_result"
    }
   ],
   "source": [
    "list(godine)"
   ]
  },
  {
   "cell_type": "code",
   "execution_count": 37,
   "id": "8a73e799",
   "metadata": {},
   "outputs": [
    {
     "data": {
      "text/plain": [
       "(2000, 2001, 1986, 2020, 2021, 1990, 1999)"
      ]
     },
     "execution_count": 37,
     "metadata": {},
     "output_type": "execute_result"
    }
   ],
   "source": [
    "tuple(godine)"
   ]
  },
  {
   "cell_type": "code",
   "execution_count": 40,
   "id": "491d2cf4",
   "metadata": {},
   "outputs": [],
   "source": [
    "stringovi=['a', 'b', 'ab', 'bc', 'abc', 'def', 'oui', 'wert', 'asdfg', 'jklmn']\n",
    "duljine_stringova_lista=[len(s) for s in stringovi]\n",
    "duljine_stringova_set={len(s) for s in stringovi}"
   ]
  },
  {
   "cell_type": "code",
   "execution_count": 42,
   "id": "13f25f8a",
   "metadata": {},
   "outputs": [
    {
     "data": {
      "text/plain": [
       "[1, 1, 2, 2, 3, 3, 3, 4, 5, 5]"
      ]
     },
     "execution_count": 42,
     "metadata": {},
     "output_type": "execute_result"
    }
   ],
   "source": [
    "duljine_stringova_lista"
   ]
  },
  {
   "cell_type": "code",
   "execution_count": 43,
   "id": "f3b59e2d",
   "metadata": {},
   "outputs": [
    {
     "data": {
      "text/plain": [
       "{1, 2, 3, 4, 5}"
      ]
     },
     "execution_count": 43,
     "metadata": {},
     "output_type": "execute_result"
    }
   ],
   "source": [
    "duljine_stringova_set"
   ]
  },
  {
   "cell_type": "markdown",
   "id": "700adbf4",
   "metadata": {},
   "source": [
    "### ZADATAK: Napraviti rječnik kojem će ključ biti duljina stringa, a vrijednost lista stringova te duljine "
   ]
  },
  {
   "cell_type": "markdown",
   "id": "86a1b2ce",
   "metadata": {},
   "source": [
    "## Statističke funkcije - modul statistics"
   ]
  },
  {
   "cell_type": "code",
   "execution_count": 44,
   "id": "b79b21c3",
   "metadata": {},
   "outputs": [],
   "source": [
    "podaci=[43, 12, 65, 89, 20, 123, 756, 76, 187, 100 ,5 ,21, 72 ,91, 155 ,66]"
   ]
  },
  {
   "cell_type": "code",
   "execution_count": 53,
   "id": "4ab2bb9a",
   "metadata": {},
   "outputs": [
    {
     "data": {
      "text/plain": [
       "117.5625"
      ]
     },
     "execution_count": 53,
     "metadata": {},
     "output_type": "execute_result"
    }
   ],
   "source": [
    "prosjek=sum(podaci)/len(podaci)\n",
    "prosjek\n"
   ]
  },
  {
   "cell_type": "code",
   "execution_count": 47,
   "id": "9451e650",
   "metadata": {},
   "outputs": [
    {
     "data": {
      "text/plain": [
       "5"
      ]
     },
     "execution_count": 47,
     "metadata": {},
     "output_type": "execute_result"
    }
   ],
   "source": [
    "min(podaci)"
   ]
  },
  {
   "cell_type": "code",
   "execution_count": 48,
   "id": "45e25636",
   "metadata": {},
   "outputs": [
    {
     "data": {
      "text/plain": [
       "756"
      ]
     },
     "execution_count": 48,
     "metadata": {},
     "output_type": "execute_result"
    }
   ],
   "source": [
    "max(podaci)"
   ]
  },
  {
   "cell_type": "code",
   "execution_count": 59,
   "id": "d74be376",
   "metadata": {},
   "outputs": [
    {
     "name": "stdout",
     "output_type": "stream",
     "text": [
      "Srednja vrijednost iznosi: 117.56\n",
      "Medijan iznosi: 74.0\n",
      "Mod iznosi: 43\n"
     ]
    }
   ],
   "source": [
    "import statistics\n",
    "\n",
    "#SREDNJA VRIJEDNOST\n",
    "srednja_vrijednost=statistics.mean(podaci)\n",
    "print(f'Srednja vrijednost iznosi: {srednja_vrijednost:.2f}')   #zaokruži vrijednost\n",
    "\n",
    "#MEDIJAN sredina distribucije\n",
    "medijan=statistics.median(podaci)\n",
    "print(f'Medijan iznosi: {medijan}')\n",
    "\n",
    "#MOD najčešće pojavljivani član\n",
    "mod=statistics.mode(podaci)\n",
    "print(f'Mod iznosi: {mod}')"
   ]
  },
  {
   "cell_type": "markdown",
   "id": "327ff2cf",
   "metadata": {},
   "source": [
    "### Modul datum i vrijeme"
   ]
  },
  {
   "cell_type": "code",
   "execution_count": 60,
   "id": "2fbbaa6e",
   "metadata": {},
   "outputs": [],
   "source": [
    "from datetime import datetime, date, time\n",
    "dt=datetime(2021, 5,28,12,30,45)   #godina, mjesec, dan, sat, minuta, sekunda"
   ]
  },
  {
   "cell_type": "code",
   "execution_count": 61,
   "id": "498cdba7",
   "metadata": {},
   "outputs": [
    {
     "data": {
      "text/plain": [
       "2021"
      ]
     },
     "execution_count": 61,
     "metadata": {},
     "output_type": "execute_result"
    }
   ],
   "source": [
    "dt.year   #dt je objekt, pristupanje pojedinim stavkama"
   ]
  },
  {
   "cell_type": "code",
   "execution_count": 62,
   "id": "974c0bc6",
   "metadata": {},
   "outputs": [
    {
     "data": {
      "text/plain": [
       "12"
      ]
     },
     "execution_count": 62,
     "metadata": {},
     "output_type": "execute_result"
    }
   ],
   "source": [
    "dt.hour"
   ]
  },
  {
   "cell_type": "code",
   "execution_count": 63,
   "id": "ce36496f",
   "metadata": {},
   "outputs": [
    {
     "name": "stdout",
     "output_type": "stream",
     "text": [
      "Navedeni datum je: 28.5.2021.\n"
     ]
    }
   ],
   "source": [
    "print(f'Navedeni datum je: {dt.day}.{dt.month}.{dt.year}.')"
   ]
  },
  {
   "cell_type": "code",
   "execution_count": 65,
   "id": "a3104d79",
   "metadata": {},
   "outputs": [
    {
     "name": "stdout",
     "output_type": "stream",
     "text": [
      "Navedeno vrijeme je: 12:30:45\n"
     ]
    }
   ],
   "source": [
    "print(f'Navedeno vrijeme je: {dt.hour}:{dt.minute}:{dt.second}')"
   ]
  },
  {
   "cell_type": "code",
   "execution_count": 66,
   "id": "48733722",
   "metadata": {},
   "outputs": [
    {
     "data": {
      "text/plain": [
       "'12:30:45'"
      ]
     },
     "execution_count": 66,
     "metadata": {},
     "output_type": "execute_result"
    }
   ],
   "source": [
    "dt.strftime('%H:%M:%S')"
   ]
  },
  {
   "cell_type": "code",
   "execution_count": 76,
   "id": "26a09c57",
   "metadata": {},
   "outputs": [
    {
     "data": {
      "text/plain": [
       "datetime.datetime(2007, 1, 16, 0, 0)"
      ]
     },
     "execution_count": 76,
     "metadata": {},
     "output_type": "execute_result"
    }
   ],
   "source": [
    "niz_datum='20070116'\n",
    "datum_niz=datetime.strptime(niz_datum,'%Y%m%d')\n",
    "datum_niz"
   ]
  },
  {
   "cell_type": "code",
   "execution_count": 70,
   "id": "0e197d3b",
   "metadata": {},
   "outputs": [
    {
     "data": {
      "text/plain": [
       "datetime.datetime(2021, 5, 28, 12, 30, 45)"
      ]
     },
     "execution_count": 70,
     "metadata": {},
     "output_type": "execute_result"
    }
   ],
   "source": [
    "dt"
   ]
  },
  {
   "cell_type": "code",
   "execution_count": 73,
   "id": "6f3673ab",
   "metadata": {},
   "outputs": [
    {
     "data": {
      "text/plain": [
       "datetime.datetime(2021, 5, 28, 12, 0)"
      ]
     },
     "execution_count": 73,
     "metadata": {},
     "output_type": "execute_result"
    }
   ],
   "source": [
    "dt=dt.replace(minute=0, second=0)\n",
    "dt"
   ]
  },
  {
   "cell_type": "code",
   "execution_count": 74,
   "id": "58eaecec",
   "metadata": {},
   "outputs": [
    {
     "data": {
      "text/plain": [
       "'20070116'"
      ]
     },
     "execution_count": 74,
     "metadata": {},
     "output_type": "execute_result"
    }
   ],
   "source": [
    "niz_datum"
   ]
  },
  {
   "cell_type": "code",
   "execution_count": 77,
   "id": "0fa4e91f",
   "metadata": {},
   "outputs": [
    {
     "data": {
      "text/plain": [
       "datetime.timedelta(days=5246, seconds=43200)"
      ]
     },
     "execution_count": 77,
     "metadata": {},
     "output_type": "execute_result"
    }
   ],
   "source": [
    "dt-datum_niz\n"
   ]
  },
  {
   "cell_type": "markdown",
   "id": "422dc213",
   "metadata": {},
   "source": [
    "## ZADATAK\n",
    "Napravite aplikaciju koja će generirati nasumične podatke, tako da simulira dnevni rast temperature od jutra do poslijepodne i zatim pad od ranog jutra. Podatke pohraniti u rječnik, "
   ]
  }
 ],
 "metadata": {
  "kernelspec": {
   "display_name": "Python 3 (ipykernel)",
   "language": "python",
   "name": "python3"
  },
  "language_info": {
   "codemirror_mode": {
    "name": "ipython",
    "version": 3
   },
   "file_extension": ".py",
   "mimetype": "text/x-python",
   "name": "python",
   "nbconvert_exporter": "python",
   "pygments_lexer": "ipython3",
   "version": "3.9.0"
  }
 },
 "nbformat": 4,
 "nbformat_minor": 5
}
