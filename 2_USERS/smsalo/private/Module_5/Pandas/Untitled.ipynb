{
 "cells": [
  {
   "cell_type": "code",
   "execution_count": 2,
   "id": "ee727132",
   "metadata": {},
   "outputs": [],
   "source": [
    "import pandas as pd"
   ]
  },
  {
   "cell_type": "code",
   "execution_count": 5,
   "id": "1b432677",
   "metadata": {},
   "outputs": [],
   "source": [
    "#varijabla rječnik\n",
    "data= {\n",
    "    'stupac 1':['zec', 'lav', 'miš', 'slon'],\n",
    "    'stupac 2':['hrast', 'bor', 'jela', 'bukva'],\n",
    "    'stupac 3':['kiša', 'snijeg', 'sunce', 'magla'],\n",
    "    'stupac 4':['grad', 'selo', 'naselje', 'država']\n",
    "}"
   ]
  },
  {
   "cell_type": "code",
   "execution_count": null,
   "id": "acbac7c0",
   "metadata": {},
   "outputs": [],
   "source": [
    "# iz rječnika kreiramo r"
   ]
  }
 ],
 "metadata": {
  "kernelspec": {
   "display_name": "Python 3 (ipykernel)",
   "language": "python",
   "name": "python3"
  },
  "language_info": {
   "codemirror_mode": {
    "name": "ipython",
    "version": 3
   },
   "file_extension": ".py",
   "mimetype": "text/x-python",
   "name": "python",
   "nbconvert_exporter": "python",
   "pygments_lexer": "ipython3",
   "version": "3.9.12"
  }
 },
 "nbformat": 4,
 "nbformat_minor": 5
}
