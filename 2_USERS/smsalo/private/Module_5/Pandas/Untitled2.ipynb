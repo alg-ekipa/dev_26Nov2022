{
 "cells": [
  {
   "cell_type": "code",
   "execution_count": 1,
   "id": "7c25dff7",
   "metadata": {},
   "outputs": [],
   "source": [
    "import re"
   ]
  },
  {
   "cell_type": "code",
   "execution_count": 4,
   "id": "3b4b2503",
   "metadata": {},
   "outputs": [],
   "source": [
    "gradovi=['Zagreb', 'Osijek', 'Rijeka', 'Split', 'slavonski brod#', 'Nova gradiška?']\n",
    "def popravi_unos(lista):\n",
    "    rezultat=[]\n",
    "    for element in lista:\n",
    "        element=element.strip()\n",
    "        element=re.sub('[!?#]', '', element)\n",
    "        element=element.title()\n",
    "        rezultat.append(element)\n",
    "    return rezultat"
   ]
  },
  {
   "cell_type": "code",
   "execution_count": 5,
   "id": "b57768a0",
   "metadata": {},
   "outputs": [
    {
     "ename": "NameError",
     "evalue": "name 'rezultat' is not defined",
     "output_type": "error",
     "traceback": [
      "\u001b[1;31m---------------------------------------------------------------------------\u001b[0m",
      "\u001b[1;31mNameError\u001b[0m                                 Traceback (most recent call last)",
      "Input \u001b[1;32mIn [5]\u001b[0m, in \u001b[0;36m<cell line: 1>\u001b[1;34m()\u001b[0m\n\u001b[1;32m----> 1\u001b[0m \u001b[43mrezultat\u001b[49m\n",
      "\u001b[1;31mNameError\u001b[0m: name 'rezultat' is not defined"
     ]
    }
   ],
   "source": [
    "rezultat"
   ]
  },
  {
   "cell_type": "code",
   "execution_count": 6,
   "id": "88503bad",
   "metadata": {},
   "outputs": [],
   "source": [
    "proizvodi_baza = { \n",
    "    'Naziv': [ \n",
    "        'Trek', 'Kona', 'Giant',  \n",
    "        'Bianchi', 'Cosmo Ride', 'Neon',  \n",
    "        'Zeeclo', 'Atomic', 'Head',  \n",
    "        'Elan', 'Salomon', 'Rossignol' \n",
    "    ], \n",
    "    'Cijena': [ \n",
    "        7699.00, 4699.00, 5999.00,  \n",
    "        22499.00, 2599.00, 1999.00,  \n",
    "        2799.00, 1499.00, 1359.00,  \n",
    "        1499.00, 1699.00, 999.00 \n",
    "    ], \n",
    "    'Kategorija': [ \n",
    "        'Bicikl', 'Bicikl', 'Bicikl',  \n",
    "        'Bicikl', 'E-Romobil', 'E-Romobil', \n",
    "        'E-Romobil', 'Skije', 'Skije',  \n",
    "        'Skije', 'Skije', 'Skije' \n",
    "    ], \n",
    "    'Ocjena': [ \n",
    "        6.70, 6.50, 6.65,  \n",
    "        7.20, 8.64, 8.61,  \n",
    "        8.59, 7.99, 8.15, \n",
    "        8.05, 7.91, 6.10 \n",
    "    ] \n",
    "} "
   ]
  },
  {
   "cell_type": "code",
   "execution_count": null,
   "id": "04c6e6b4",
   "metadata": {},
   "outputs": [],
   "source": [
    "proizvodi_svi "
   ]
  }
 ],
 "metadata": {
  "kernelspec": {
   "display_name": "Python 3 (ipykernel)",
   "language": "python",
   "name": "python3"
  },
  "language_info": {
   "codemirror_mode": {
    "name": "ipython",
    "version": 3
   },
   "file_extension": ".py",
   "mimetype": "text/x-python",
   "name": "python",
   "nbconvert_exporter": "python",
   "pygments_lexer": "ipython3",
   "version": "3.9.12"
  }
 },
 "nbformat": 4,
 "nbformat_minor": 5
}
