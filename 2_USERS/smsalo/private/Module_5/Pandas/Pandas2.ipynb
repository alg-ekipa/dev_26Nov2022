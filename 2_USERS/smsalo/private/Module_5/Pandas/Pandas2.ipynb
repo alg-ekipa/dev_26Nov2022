{
 "cells": [
  {
   "cell_type": "markdown",
   "id": "3ef0db14",
   "metadata": {},
   "source": [
    "# Zadatak\n",
    "Tekst za obradu:\n",
    "Lorem ipsum dolor sit amet, consectetur adipiscing elit, sed do eiusmod tempor incididunt ut labore et dolore magna aliqua. Ut enim ad minim veniam, quis nostrud exercitation ullamco laboris nisi ut aliquip ex ea commodo consequat. Duis aute irure dolor in reprehenderit in voluptate velit esse cillum dolore eu fugiat nulla pariatur. Excepteur sint occaecat cupidatat non proident, sunt in culpa qui officia deserunt mollit anim id est laborum.\n",
    "\n",
    "Obradite gore navedeni tekst tako da od njega kreirate listu riječi koje imaju sva mala slova i nemaju znakove interpunkcije. Od te liste kreirajte Pandas seriju te joj dajte nekakav naziv.\n",
    "\n",
    "Provjerite, koliko ima riječi koje se ponavljaju te koliko puta se svaka od njih ponavlja?\n",
    "\n",
    "Provjerite koja je najduža, a koja najkraća riječ.\n"
   ]
  },
  {
   "cell_type": "code",
   "execution_count": 2,
   "id": "3c124fda",
   "metadata": {},
   "outputs": [],
   "source": [
    "import pandas as pd"
   ]
  },
  {
   "cell_type": "code",
   "execution_count": 7,
   "id": "0f05d1ba",
   "metadata": {},
   "outputs": [
    {
     "data": {
      "text/plain": [
       "'Lorem ipsum dolor sit amet, consectetur adipiscing elit, sed do eiusmod tempor incididunt ut labore et dolore magna aliqua. Ut enim ad minim veniam, quis nostrud exercitation ullamco laboris nisi ut aliquip ex ea commodo consequat. Duis aute irure dolor in reprehenderit in voluptate velit esse cillum dolore eu fugiat nulla pariatur. Excepteur sint occaecat cupidatat non proident, sunt in culpa qui officia deserunt mollit anim id est laborum.'"
      ]
     },
     "execution_count": 7,
     "metadata": {},
     "output_type": "execute_result"
    }
   ],
   "source": [
    "tekst=\"Lorem ipsum dolor sit amet, consectetur adipiscing elit, sed do eiusmod tempor incididunt ut labore et dolore magna aliqua. Ut enim ad minim veniam, quis nostrud exercitation ullamco laboris nisi ut aliquip ex ea commodo consequat. Duis aute irure dolor in reprehenderit in voluptate velit esse cillum dolore eu fugiat nulla pariatur. Excepteur sint occaecat cupidatat non proident, sunt in culpa qui officia deserunt mollit anim id est laborum.\"\n",
    "tekst"
   ]
  },
  {
   "cell_type": "code",
   "execution_count": 8,
   "id": "8ba6b1f2",
   "metadata": {},
   "outputs": [
    {
     "data": {
      "text/plain": [
       "['Lorem',\n",
       " 'ipsum',\n",
       " 'dolor',\n",
       " 'sit',\n",
       " 'amet,',\n",
       " 'consectetur',\n",
       " 'adipiscing',\n",
       " 'elit,',\n",
       " 'sed',\n",
       " 'do',\n",
       " 'eiusmod',\n",
       " 'tempor',\n",
       " 'incididunt',\n",
       " 'ut',\n",
       " 'labore',\n",
       " 'et',\n",
       " 'dolore',\n",
       " 'magna',\n",
       " 'aliqua.',\n",
       " 'Ut',\n",
       " 'enim',\n",
       " 'ad',\n",
       " 'minim',\n",
       " 'veniam,',\n",
       " 'quis',\n",
       " 'nostrud',\n",
       " 'exercitation',\n",
       " 'ullamco',\n",
       " 'laboris',\n",
       " 'nisi',\n",
       " 'ut',\n",
       " 'aliquip',\n",
       " 'ex',\n",
       " 'ea',\n",
       " 'commodo',\n",
       " 'consequat.',\n",
       " 'Duis',\n",
       " 'aute',\n",
       " 'irure',\n",
       " 'dolor',\n",
       " 'in',\n",
       " 'reprehenderit',\n",
       " 'in',\n",
       " 'voluptate',\n",
       " 'velit',\n",
       " 'esse',\n",
       " 'cillum',\n",
       " 'dolore',\n",
       " 'eu',\n",
       " 'fugiat',\n",
       " 'nulla',\n",
       " 'pariatur.',\n",
       " 'Excepteur',\n",
       " 'sint',\n",
       " 'occaecat',\n",
       " 'cupidatat',\n",
       " 'non',\n",
       " 'proident,',\n",
       " 'sunt',\n",
       " 'in',\n",
       " 'culpa',\n",
       " 'qui',\n",
       " 'officia',\n",
       " 'deserunt',\n",
       " 'mollit',\n",
       " 'anim',\n",
       " 'id',\n",
       " 'est',\n",
       " 'laborum.']"
      ]
     },
     "execution_count": 8,
     "metadata": {},
     "output_type": "execute_result"
    }
   ],
   "source": [
    "rijeci=tekst.split()\n",
    "rijeci"
   ]
  },
  {
   "cell_type": "code",
   "execution_count": 12,
   "id": "89f12376",
   "metadata": {},
   "outputs": [
    {
     "data": {
      "text/plain": [
       "0        Lorem\n",
       "1        ipsum\n",
       "2        dolor\n",
       "3          sit\n",
       "4        amet,\n",
       "        ...   \n",
       "64      mollit\n",
       "65        anim\n",
       "66          id\n",
       "67         est\n",
       "68    laborum.\n",
       "Length: 69, dtype: object"
      ]
     },
     "execution_count": 12,
     "metadata": {},
     "output_type": "execute_result"
    }
   ],
   "source": [
    "rijeci_p=pd.Series(rijeci)\n",
    "rijeci_p"
   ]
  },
  {
   "cell_type": "code",
   "execution_count": 13,
   "id": "f2839e06",
   "metadata": {},
   "outputs": [
    {
     "data": {
      "text/plain": [
       "in          3\n",
       "dolore      2\n",
       "dolor       2\n",
       "ut          2\n",
       "cillum      1\n",
       "           ..\n",
       "laboris     1\n",
       "nisi        1\n",
       "aliquip     1\n",
       "ex          1\n",
       "laborum.    1\n",
       "Length: 64, dtype: int64"
      ]
     },
     "execution_count": 13,
     "metadata": {},
     "output_type": "execute_result"
    }
   ],
   "source": [
    "rijeci_p.value_counts()"
   ]
  },
  {
   "cell_type": "code",
   "execution_count": null,
   "id": "684eb07b",
   "metadata": {},
   "outputs": [],
   "source": []
  },
  {
   "cell_type": "code",
   "execution_count": null,
   "id": "1d75ff20",
   "metadata": {},
   "outputs": [],
   "source": []
  },
  {
   "cell_type": "code",
   "execution_count": null,
   "id": "430a14cc",
   "metadata": {},
   "outputs": [],
   "source": []
  },
  {
   "cell_type": "code",
   "execution_count": null,
   "id": "ea69d9c5",
   "metadata": {},
   "outputs": [],
   "source": []
  }
 ],
 "metadata": {
  "kernelspec": {
   "display_name": "Python 3 (ipykernel)",
   "language": "python",
   "name": "python3"
  },
  "language_info": {
   "codemirror_mode": {
    "name": "ipython",
    "version": 3
   },
   "file_extension": ".py",
   "mimetype": "text/x-python",
   "name": "python",
   "nbconvert_exporter": "python",
   "pygments_lexer": "ipython3",
   "version": "3.9.12"
  }
 },
 "nbformat": 4,
 "nbformat_minor": 5
}
