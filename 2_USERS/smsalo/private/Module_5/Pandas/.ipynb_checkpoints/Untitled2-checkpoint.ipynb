{
 "cells": [
  {
   "cell_type": "code",
   "execution_count": 1,
   "id": "502d9f11",
   "metadata": {},
   "outputs": [],
   "source": [
    "import re"
   ]
  },
  {
   "cell_type": "code",
   "execution_count": 2,
   "id": "5993ea29",
   "metadata": {},
   "outputs": [],
   "source": [
    "gradovi=['Zagreb', 'Osijek', 'Rijeka', 'Split', 'slavonski brod#', 'Nova gradiška?']\n",
    "def popravi_unos(lista):\n",
    "    rezultat=[]\n",
    "    for element in lista:\n",
    "        element=element.strip()\n",
    "        element=re.sub('[!?#]', '', element)\n",
    "        element=element.title()\n",
    "        rezultat.append(element)\n",
    "    return rezultat"
   ]
  },
  {
   "cell_type": "code",
   "execution_count": 3,
   "id": "2d4f2a5f",
   "metadata": {},
   "outputs": [
    {
     "ename": "NameError",
     "evalue": "name 'rezultat' is not defined",
     "output_type": "error",
     "traceback": [
      "\u001b[1;31m---------------------------------------------------------------------------\u001b[0m",
      "\u001b[1;31mNameError\u001b[0m                                 Traceback (most recent call last)",
      "Input \u001b[1;32mIn [3]\u001b[0m, in \u001b[0;36m<cell line: 1>\u001b[1;34m()\u001b[0m\n\u001b[1;32m----> 1\u001b[0m \u001b[43mrezultat\u001b[49m\n",
      "\u001b[1;31mNameError\u001b[0m: name 'rezultat' is not defined"
     ]
    }
   ],
   "source": [
    "rezultat"
   ]
  },
  {
   "cell_type": "code",
   "execution_count": null,
   "id": "fdb3e6df",
   "metadata": {},
   "outputs": [],
   "source": []
  }
 ],
 "metadata": {
  "kernelspec": {
   "display_name": "Python 3 (ipykernel)",
   "language": "python",
   "name": "python3"
  },
  "language_info": {
   "codemirror_mode": {
    "name": "ipython",
    "version": 3
   },
   "file_extension": ".py",
   "mimetype": "text/x-python",
   "name": "python",
   "nbconvert_exporter": "python",
   "pygments_lexer": "ipython3",
   "version": "3.9.12"
  }
 },
 "nbformat": 4,
 "nbformat_minor": 5
}
