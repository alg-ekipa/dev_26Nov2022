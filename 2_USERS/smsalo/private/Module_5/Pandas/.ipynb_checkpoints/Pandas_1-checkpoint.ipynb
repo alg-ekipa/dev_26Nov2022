{
 "cells": [
  {
   "cell_type": "code",
   "execution_count": 2,
   "id": "174921cb",
   "metadata": {},
   "outputs": [],
   "source": [
    "import pandas as pd"
   ]
  },
  {
   "cell_type": "code",
   "execution_count": 5,
   "id": "a03e2d8c",
   "metadata": {},
   "outputs": [],
   "source": [
    "#varijabla rječnik\n",
    "data= {\n",
    "    'stupac 1':['zec', 'lav', 'miš', 'slon'],\n",
    "    'stupac 2':['hrast', 'bor', 'jela', 'bukva'],\n",
    "    'stupac 3':['kiša', 'snijeg', 'sunce', 'magla'],\n",
    "    'stupac 4':['grad', 'selo', 'naselje', 'država']\n",
    "}"
   ]
  },
  {
   "cell_type": "code",
   "execution_count": 7,
   "id": "4e901694",
   "metadata": {},
   "outputs": [
    {
     "data": {
      "text/html": [
       "<div>\n",
       "<style scoped>\n",
       "    .dataframe tbody tr th:only-of-type {\n",
       "        vertical-align: middle;\n",
       "    }\n",
       "\n",
       "    .dataframe tbody tr th {\n",
       "        vertical-align: top;\n",
       "    }\n",
       "\n",
       "    .dataframe thead th {\n",
       "        text-align: right;\n",
       "    }\n",
       "</style>\n",
       "<table border=\"1\" class=\"dataframe\">\n",
       "  <thead>\n",
       "    <tr style=\"text-align: right;\">\n",
       "      <th></th>\n",
       "      <th>stupac 1</th>\n",
       "      <th>stupac 2</th>\n",
       "      <th>stupac 3</th>\n",
       "      <th>stupac 4</th>\n",
       "    </tr>\n",
       "  </thead>\n",
       "  <tbody>\n",
       "    <tr>\n",
       "      <th>0</th>\n",
       "      <td>zec</td>\n",
       "      <td>hrast</td>\n",
       "      <td>kiša</td>\n",
       "      <td>grad</td>\n",
       "    </tr>\n",
       "    <tr>\n",
       "      <th>1</th>\n",
       "      <td>lav</td>\n",
       "      <td>bor</td>\n",
       "      <td>snijeg</td>\n",
       "      <td>selo</td>\n",
       "    </tr>\n",
       "    <tr>\n",
       "      <th>2</th>\n",
       "      <td>miš</td>\n",
       "      <td>jela</td>\n",
       "      <td>sunce</td>\n",
       "      <td>naselje</td>\n",
       "    </tr>\n",
       "    <tr>\n",
       "      <th>3</th>\n",
       "      <td>slon</td>\n",
       "      <td>bukva</td>\n",
       "      <td>magla</td>\n",
       "      <td>država</td>\n",
       "    </tr>\n",
       "  </tbody>\n",
       "</table>\n",
       "</div>"
      ],
      "text/plain": [
       "  stupac 1 stupac 2 stupac 3 stupac 4\n",
       "0      zec    hrast     kiša     grad\n",
       "1      lav      bor   snijeg     selo\n",
       "2      miš     jela    sunce  naselje\n",
       "3     slon    bukva    magla   država"
      ]
     },
     "execution_count": 7,
     "metadata": {},
     "output_type": "execute_result"
    }
   ],
   "source": [
    "# iz rječnika kreiramo objekt klase data frame koja se nalazi u modulu pandas\n",
    "data_frame=pd.DataFrame(data)\n",
    "data_frame"
   ]
  },
  {
   "cell_type": "markdown",
   "id": "b99309a7",
   "metadata": {},
   "source": [
    "# Pandas_Series(serija)\n"
   ]
  },
  {
   "cell_type": "markdown",
   "id": "528b6703",
   "metadata": {},
   "source": [
    "stupac u DataFrame tablici (jedna dimenzija)"
   ]
  },
  {
   "cell_type": "code",
   "execution_count": 9,
   "id": "9e667a14",
   "metadata": {},
   "outputs": [
    {
     "data": {
      "text/plain": [
       "0    hrast\n",
       "1      bor\n",
       "2     jela\n",
       "3    bukva\n",
       "Name: stupac 2, dtype: object"
      ]
     },
     "execution_count": 9,
     "metadata": {},
     "output_type": "execute_result"
    }
   ],
   "source": [
    "data_frame['stupac 2']"
   ]
  },
  {
   "cell_type": "code",
   "execution_count": 10,
   "id": "3e267ff8",
   "metadata": {},
   "outputs": [
    {
     "data": {
      "text/plain": [
       "0     3\n",
       "1     5\n",
       "2     8\n",
       "3    10\n",
       "4    12\n",
       "Name: Brojevi, dtype: int64"
      ]
     },
     "execution_count": 10,
     "metadata": {},
     "output_type": "execute_result"
    }
   ],
   "source": [
    "serija = pd.Series([3, 5, 8, 10, 12], name='Brojevi')\n",
    "serija"
   ]
  },
  {
   "cell_type": "code",
   "execution_count": 11,
   "id": "aa8f3bb0",
   "metadata": {},
   "outputs": [
    {
     "data": {
      "text/plain": [
       "0     3\n",
       "1     5\n",
       "2     8\n",
       "3    10\n",
       "4    12\n",
       "Name: Brojevi, dtype: object"
      ]
     },
     "execution_count": 11,
     "metadata": {},
     "output_type": "execute_result"
    }
   ],
   "source": [
    "serija_t = pd.Series(['3', '5', '8', '10', '12'], name='Brojevi')\n",
    "serija_t"
   ]
  },
  {
   "cell_type": "code",
   "execution_count": 12,
   "id": "d9c15080",
   "metadata": {},
   "outputs": [
    {
     "data": {
      "text/plain": [
       "0     True\n",
       "1     True\n",
       "2    False\n",
       "dtype: bool"
      ]
     },
     "execution_count": 12,
     "metadata": {},
     "output_type": "execute_result"
    }
   ],
   "source": [
    "serija_b = pd.Series([True, True, False])\n",
    "serija_b\n"
   ]
  },
  {
   "cell_type": "code",
   "execution_count": 14,
   "id": "51f80acd",
   "metadata": {},
   "outputs": [
    {
     "data": {
      "text/plain": [
       "0    3.2\n",
       "1    4.2\n",
       "2    5.0\n",
       "Name: Brojevi, dtype: float64"
      ]
     },
     "execution_count": 14,
     "metadata": {},
     "output_type": "execute_result"
    }
   ],
   "source": [
    "serija_dec = pd.Series([3.2, 4.2,5.0], name='Brojevi')\n",
    "serija_dec"
   ]
  },
  {
   "cell_type": "markdown",
   "id": "f59cb4ea",
   "metadata": {},
   "source": [
    "#### Prepoznaje vrijednosti te definira da li je int, float, object..."
   ]
  },
  {
   "cell_type": "code",
   "execution_count": 15,
   "id": "da59e40f",
   "metadata": {},
   "outputs": [
    {
     "data": {
      "text/plain": [
       "a     3\n",
       "b     5\n",
       "c     8\n",
       "d    10\n",
       "e    12\n",
       "Name: Brojevi, dtype: int64"
      ]
     },
     "execution_count": 15,
     "metadata": {},
     "output_type": "execute_result"
    }
   ],
   "source": [
    "serija = pd.Series([3, 5, 8, 10, 12], index=['a', 'b', 'c', 'd', 'e'],name='Brojevi')\n",
    "serija\n"
   ]
  },
  {
   "cell_type": "markdown",
   "id": "09437143",
   "metadata": {},
   "source": [
    "#### index mijenja nazive redaka "
   ]
  },
  {
   "cell_type": "code",
   "execution_count": 16,
   "id": "b253012f",
   "metadata": {},
   "outputs": [
    {
     "data": {
      "text/plain": [
       "0      3\n",
       "1      5\n",
       "2      8\n",
       "3      1\n",
       "4      9\n",
       "5      3\n",
       "6      7\n",
       "7      9\n",
       "8     10\n",
       "9      4\n",
       "10     3\n",
       "11     2\n",
       "12     8\n",
       "13     7\n",
       "14     4\n",
       "Name: Oznaka, dtype: int64"
      ]
     },
     "execution_count": 16,
     "metadata": {},
     "output_type": "execute_result"
    }
   ],
   "source": [
    "serija1=pd.Series([3,5,8,1,9,3,7,9,10,4,3,2,8,7,4], name='Oznaka')\n",
    "serija1"
   ]
  },
  {
   "cell_type": "code",
   "execution_count": 17,
   "id": "92b2d175",
   "metadata": {},
   "outputs": [
    {
     "data": {
      "text/plain": [
       "7"
      ]
     },
     "execution_count": 17,
     "metadata": {},
     "output_type": "execute_result"
    }
   ],
   "source": [
    "serija1[6]"
   ]
  },
  {
   "cell_type": "markdown",
   "id": "089f4690",
   "metadata": {},
   "source": [
    "#### pristupanje članu serije je kao kod liste serija1[index]"
   ]
  },
  {
   "cell_type": "code",
   "execution_count": 18,
   "id": "cc7c18a6",
   "metadata": {},
   "outputs": [
    {
     "data": {
      "text/plain": [
       "3    1\n",
       "4    9\n",
       "5    3\n",
       "6    7\n",
       "7    9\n",
       "Name: Oznaka, dtype: int64"
      ]
     },
     "execution_count": 18,
     "metadata": {},
     "output_type": "execute_result"
    }
   ],
   "source": [
    "serija1[3:8]"
   ]
  },
  {
   "cell_type": "code",
   "execution_count": 20,
   "id": "63b64a7d",
   "metadata": {},
   "outputs": [
    {
     "data": {
      "text/plain": [
       "3     1\n",
       "6     7\n",
       "9     4\n",
       "12    8\n",
       "Name: Oznaka, dtype: int64"
      ]
     },
     "execution_count": 20,
     "metadata": {},
     "output_type": "execute_result"
    }
   ],
   "source": [
    "serija2=serija1[3:13:3]\n",
    "serija2"
   ]
  },
  {
   "cell_type": "code",
   "execution_count": 22,
   "id": "5f9413d7",
   "metadata": {},
   "outputs": [
    {
     "ename": "KeyError",
     "evalue": "2",
     "output_type": "error",
     "traceback": [
      "\u001b[1;31m---------------------------------------------------------------------------\u001b[0m",
      "\u001b[1;31mValueError\u001b[0m                                Traceback (most recent call last)",
      "File \u001b[1;32mC:\\ProgramData\\Anaconda3\\lib\\site-packages\\pandas\\core\\indexes\\range.py:385\u001b[0m, in \u001b[0;36mRangeIndex.get_loc\u001b[1;34m(self, key, method, tolerance)\u001b[0m\n\u001b[0;32m    384\u001b[0m \u001b[38;5;28;01mtry\u001b[39;00m:\n\u001b[1;32m--> 385\u001b[0m     \u001b[38;5;28;01mreturn\u001b[39;00m \u001b[38;5;28;43mself\u001b[39;49m\u001b[38;5;241;43m.\u001b[39;49m\u001b[43m_range\u001b[49m\u001b[38;5;241;43m.\u001b[39;49m\u001b[43mindex\u001b[49m\u001b[43m(\u001b[49m\u001b[43mnew_key\u001b[49m\u001b[43m)\u001b[49m\n\u001b[0;32m    386\u001b[0m \u001b[38;5;28;01mexcept\u001b[39;00m \u001b[38;5;167;01mValueError\u001b[39;00m \u001b[38;5;28;01mas\u001b[39;00m err:\n",
      "\u001b[1;31mValueError\u001b[0m: 2 is not in range",
      "\nThe above exception was the direct cause of the following exception:\n",
      "\u001b[1;31mKeyError\u001b[0m                                  Traceback (most recent call last)",
      "Input \u001b[1;32mIn [22]\u001b[0m, in \u001b[0;36m<cell line: 1>\u001b[1;34m()\u001b[0m\n\u001b[1;32m----> 1\u001b[0m \u001b[43mserija2\u001b[49m\u001b[43m[\u001b[49m\u001b[38;5;241;43m2\u001b[39;49m\u001b[43m]\u001b[49m\n",
      "File \u001b[1;32mC:\\ProgramData\\Anaconda3\\lib\\site-packages\\pandas\\core\\series.py:958\u001b[0m, in \u001b[0;36mSeries.__getitem__\u001b[1;34m(self, key)\u001b[0m\n\u001b[0;32m    955\u001b[0m     \u001b[38;5;28;01mreturn\u001b[39;00m \u001b[38;5;28mself\u001b[39m\u001b[38;5;241m.\u001b[39m_values[key]\n\u001b[0;32m    957\u001b[0m \u001b[38;5;28;01melif\u001b[39;00m key_is_scalar:\n\u001b[1;32m--> 958\u001b[0m     \u001b[38;5;28;01mreturn\u001b[39;00m \u001b[38;5;28;43mself\u001b[39;49m\u001b[38;5;241;43m.\u001b[39;49m\u001b[43m_get_value\u001b[49m\u001b[43m(\u001b[49m\u001b[43mkey\u001b[49m\u001b[43m)\u001b[49m\n\u001b[0;32m    960\u001b[0m \u001b[38;5;28;01mif\u001b[39;00m is_hashable(key):\n\u001b[0;32m    961\u001b[0m     \u001b[38;5;66;03m# Otherwise index.get_value will raise InvalidIndexError\u001b[39;00m\n\u001b[0;32m    962\u001b[0m     \u001b[38;5;28;01mtry\u001b[39;00m:\n\u001b[0;32m    963\u001b[0m         \u001b[38;5;66;03m# For labels that don't resolve as scalars like tuples and frozensets\u001b[39;00m\n",
      "File \u001b[1;32mC:\\ProgramData\\Anaconda3\\lib\\site-packages\\pandas\\core\\series.py:1069\u001b[0m, in \u001b[0;36mSeries._get_value\u001b[1;34m(self, label, takeable)\u001b[0m\n\u001b[0;32m   1066\u001b[0m     \u001b[38;5;28;01mreturn\u001b[39;00m \u001b[38;5;28mself\u001b[39m\u001b[38;5;241m.\u001b[39m_values[label]\n\u001b[0;32m   1068\u001b[0m \u001b[38;5;66;03m# Similar to Index.get_value, but we do not fall back to positional\u001b[39;00m\n\u001b[1;32m-> 1069\u001b[0m loc \u001b[38;5;241m=\u001b[39m \u001b[38;5;28;43mself\u001b[39;49m\u001b[38;5;241;43m.\u001b[39;49m\u001b[43mindex\u001b[49m\u001b[38;5;241;43m.\u001b[39;49m\u001b[43mget_loc\u001b[49m\u001b[43m(\u001b[49m\u001b[43mlabel\u001b[49m\u001b[43m)\u001b[49m\n\u001b[0;32m   1070\u001b[0m \u001b[38;5;28;01mreturn\u001b[39;00m \u001b[38;5;28mself\u001b[39m\u001b[38;5;241m.\u001b[39mindex\u001b[38;5;241m.\u001b[39m_get_values_for_loc(\u001b[38;5;28mself\u001b[39m, loc, label)\n",
      "File \u001b[1;32mC:\\ProgramData\\Anaconda3\\lib\\site-packages\\pandas\\core\\indexes\\range.py:387\u001b[0m, in \u001b[0;36mRangeIndex.get_loc\u001b[1;34m(self, key, method, tolerance)\u001b[0m\n\u001b[0;32m    385\u001b[0m         \u001b[38;5;28;01mreturn\u001b[39;00m \u001b[38;5;28mself\u001b[39m\u001b[38;5;241m.\u001b[39m_range\u001b[38;5;241m.\u001b[39mindex(new_key)\n\u001b[0;32m    386\u001b[0m     \u001b[38;5;28;01mexcept\u001b[39;00m \u001b[38;5;167;01mValueError\u001b[39;00m \u001b[38;5;28;01mas\u001b[39;00m err:\n\u001b[1;32m--> 387\u001b[0m         \u001b[38;5;28;01mraise\u001b[39;00m \u001b[38;5;167;01mKeyError\u001b[39;00m(key) \u001b[38;5;28;01mfrom\u001b[39;00m \u001b[38;5;21;01merr\u001b[39;00m\n\u001b[0;32m    388\u001b[0m \u001b[38;5;28mself\u001b[39m\u001b[38;5;241m.\u001b[39m_check_indexing_error(key)\n\u001b[0;32m    389\u001b[0m \u001b[38;5;28;01mraise\u001b[39;00m \u001b[38;5;167;01mKeyError\u001b[39;00m(key)\n",
      "\u001b[1;31mKeyError\u001b[0m: 2"
     ]
    }
   ],
   "source": [
    "serija2[2]\n"
   ]
  },
  {
   "cell_type": "markdown",
   "id": "27afdf4a",
   "metadata": {},
   "source": [
    "#### serija2 nema indexe po redu nego generirane od osnovne"
   ]
  },
  {
   "cell_type": "code",
   "execution_count": 23,
   "id": "a4176e01",
   "metadata": {},
   "outputs": [
    {
     "data": {
      "text/plain": [
       "RangeIndex(start=3, stop=13, step=3)"
      ]
     },
     "execution_count": 23,
     "metadata": {},
     "output_type": "execute_result"
    }
   ],
   "source": [
    "serija2.index"
   ]
  },
  {
   "cell_type": "code",
   "execution_count": 24,
   "id": "6ee8001c",
   "metadata": {},
   "outputs": [
    {
     "data": {
      "text/plain": [
       "array([1, 7, 4, 8], dtype=int64)"
      ]
     },
     "execution_count": 24,
     "metadata": {},
     "output_type": "execute_result"
    }
   ],
   "source": [
    "serija2.values"
   ]
  },
  {
   "cell_type": "markdown",
   "id": "e62b0923",
   "metadata": {},
   "source": [
    "#### array tip, nije lista "
   ]
  },
  {
   "cell_type": "code",
   "execution_count": 25,
   "id": "abc9f581",
   "metadata": {},
   "outputs": [
    {
     "data": {
      "text/html": [
       "<div>\n",
       "<style scoped>\n",
       "    .dataframe tbody tr th:only-of-type {\n",
       "        vertical-align: middle;\n",
       "    }\n",
       "\n",
       "    .dataframe tbody tr th {\n",
       "        vertical-align: top;\n",
       "    }\n",
       "\n",
       "    .dataframe thead th {\n",
       "        text-align: right;\n",
       "    }\n",
       "</style>\n",
       "<table border=\"1\" class=\"dataframe\">\n",
       "  <thead>\n",
       "    <tr style=\"text-align: right;\">\n",
       "      <th></th>\n",
       "      <th>index</th>\n",
       "      <th>Oznaka</th>\n",
       "    </tr>\n",
       "  </thead>\n",
       "  <tbody>\n",
       "    <tr>\n",
       "      <th>0</th>\n",
       "      <td>3</td>\n",
       "      <td>1</td>\n",
       "    </tr>\n",
       "    <tr>\n",
       "      <th>1</th>\n",
       "      <td>6</td>\n",
       "      <td>7</td>\n",
       "    </tr>\n",
       "    <tr>\n",
       "      <th>2</th>\n",
       "      <td>9</td>\n",
       "      <td>4</td>\n",
       "    </tr>\n",
       "    <tr>\n",
       "      <th>3</th>\n",
       "      <td>12</td>\n",
       "      <td>8</td>\n",
       "    </tr>\n",
       "  </tbody>\n",
       "</table>\n",
       "</div>"
      ],
      "text/plain": [
       "   index  Oznaka\n",
       "0      3       1\n",
       "1      6       7\n",
       "2      9       4\n",
       "3     12       8"
      ]
     },
     "execution_count": 25,
     "metadata": {},
     "output_type": "execute_result"
    }
   ],
   "source": [
    "serija2.reset_index()"
   ]
  },
  {
   "cell_type": "code",
   "execution_count": 26,
   "id": "3dc69070",
   "metadata": {},
   "outputs": [
    {
     "data": {
      "text/plain": [
       "3     1\n",
       "6     7\n",
       "9     4\n",
       "12    8\n",
       "Name: Oznaka, dtype: int64"
      ]
     },
     "execution_count": 26,
     "metadata": {},
     "output_type": "execute_result"
    }
   ],
   "source": [
    "serija2"
   ]
  },
  {
   "cell_type": "code",
   "execution_count": 29,
   "id": "918d70d9",
   "metadata": {},
   "outputs": [
    {
     "data": {
      "text/plain": [
       "0    1\n",
       "1    7\n",
       "2    4\n",
       "3    8\n",
       "Name: Oznaka, dtype: int64"
      ]
     },
     "execution_count": 29,
     "metadata": {},
     "output_type": "execute_result"
    }
   ],
   "source": [
    "serija2.reset_index(inplace=True, drop=True)\n",
    "serija2\n"
   ]
  },
  {
   "cell_type": "markdown",
   "id": "ef7eb5e4",
   "metadata": {},
   "source": [
    "#### trajno promijeni indexe x.reset_index(inplace=True, drop=True)"
   ]
  },
  {
   "cell_type": "code",
   "execution_count": 30,
   "id": "a923994e",
   "metadata": {},
   "outputs": [
    {
     "data": {
      "text/plain": [
       "0        1\n",
       "1        7\n",
       "2    sunce\n",
       "3        8\n",
       "Name: Oznaka, dtype: object"
      ]
     },
     "execution_count": 30,
     "metadata": {},
     "output_type": "execute_result"
    }
   ],
   "source": [
    "serija2[2]='sunce'\n",
    "serija2"
   ]
  },
  {
   "cell_type": "code",
   "execution_count": 31,
   "id": "a4f00d23",
   "metadata": {},
   "outputs": [
    {
     "data": {
      "text/plain": [
       "0      3\n",
       "1      5\n",
       "2      8\n",
       "3      1\n",
       "4      9\n",
       "5      3\n",
       "6      7\n",
       "7      9\n",
       "8     10\n",
       "9      4\n",
       "10     3\n",
       "11     2\n",
       "12     8\n",
       "13     7\n",
       "14     4\n",
       "Name: Oznaka, dtype: int64"
      ]
     },
     "execution_count": 31,
     "metadata": {},
     "output_type": "execute_result"
    }
   ],
   "source": [
    "serija1\n"
   ]
  },
  {
   "cell_type": "code",
   "execution_count": 32,
   "id": "dd8a2900",
   "metadata": {},
   "outputs": [
    {
     "data": {
      "text/plain": [
       "2      8\n",
       "4      9\n",
       "6      7\n",
       "7      9\n",
       "8     10\n",
       "12     8\n",
       "13     7\n",
       "Name: Oznaka, dtype: int64"
      ]
     },
     "execution_count": 32,
     "metadata": {},
     "output_type": "execute_result"
    }
   ],
   "source": [
    "serija1[serija1 > 5]"
   ]
  },
  {
   "cell_type": "code",
   "execution_count": 33,
   "id": "795071c4",
   "metadata": {},
   "outputs": [
    {
     "data": {
      "text/plain": [
       "0     0.03\n",
       "1     0.05\n",
       "2     0.08\n",
       "3     0.01\n",
       "4     0.09\n",
       "5     0.03\n",
       "6     0.07\n",
       "7     0.09\n",
       "8     0.10\n",
       "9     0.04\n",
       "10    0.03\n",
       "11    0.02\n",
       "12    0.08\n",
       "13    0.07\n",
       "14    0.04\n",
       "Name: Oznaka, dtype: float64"
      ]
     },
     "execution_count": 33,
     "metadata": {},
     "output_type": "execute_result"
    }
   ],
   "source": [
    "serija1/100"
   ]
  },
  {
   "cell_type": "code",
   "execution_count": 34,
   "id": "f75a3483",
   "metadata": {},
   "outputs": [
    {
     "data": {
      "text/plain": [
       "array([ 3,  5,  8,  1,  9,  7, 10,  4,  2], dtype=int64)"
      ]
     },
     "execution_count": 34,
     "metadata": {},
     "output_type": "execute_result"
    }
   ],
   "source": [
    "serija1.unique()"
   ]
  },
  {
   "cell_type": "markdown",
   "id": "65b5c99d",
   "metadata": {},
   "source": [
    "#### .unique() pokazuje jedinstvene vrijednosti unutar liste"
   ]
  },
  {
   "cell_type": "code",
   "execution_count": 35,
   "id": "7f07c371",
   "metadata": {},
   "outputs": [
    {
     "data": {
      "text/plain": [
       "3     3\n",
       "8     2\n",
       "9     2\n",
       "7     2\n",
       "4     2\n",
       "5     1\n",
       "1     1\n",
       "10    1\n",
       "2     1\n",
       "Name: Oznaka, dtype: int64"
      ]
     },
     "execution_count": 35,
     "metadata": {},
     "output_type": "execute_result"
    }
   ],
   "source": [
    "serija1.value_counts()"
   ]
  },
  {
   "cell_type": "code",
   "execution_count": 36,
   "id": "e5d762b3",
   "metadata": {},
   "outputs": [
    {
     "data": {
      "text/plain": [
       "5     1\n",
       "1     1\n",
       "10    1\n",
       "2     1\n",
       "8     2\n",
       "9     2\n",
       "7     2\n",
       "4     2\n",
       "3     3\n",
       "Name: Oznaka, dtype: int64"
      ]
     },
     "execution_count": 36,
     "metadata": {},
     "output_type": "execute_result"
    }
   ],
   "source": [
    "serija1.value_counts().sort_values()"
   ]
  },
  {
   "cell_type": "code",
   "execution_count": 37,
   "id": "ee14b6c6",
   "metadata": {},
   "outputs": [
    {
     "data": {
      "text/plain": [
       "0      True\n",
       "1     False\n",
       "2     False\n",
       "3     False\n",
       "4     False\n",
       "5      True\n",
       "6     False\n",
       "7     False\n",
       "8     False\n",
       "9     False\n",
       "10     True\n",
       "11     True\n",
       "12    False\n",
       "13    False\n",
       "14    False\n",
       "Name: Oznaka, dtype: bool"
      ]
     },
     "execution_count": 37,
     "metadata": {},
     "output_type": "execute_result"
    }
   ],
   "source": [
    "serija1.isin([2,3])           #prikazuje za sve indexe da li se nalaze u traženom"
   ]
  },
  {
   "cell_type": "markdown",
   "id": "41f3cfac",
   "metadata": {},
   "source": [
    "#### .isin([x]) naredba pokazuje gdje se nalazi taj podatak"
   ]
  },
  {
   "cell_type": "code",
   "execution_count": 38,
   "id": "6c2d0adf",
   "metadata": {},
   "outputs": [
    {
     "data": {
      "text/plain": [
       "0     3\n",
       "5     3\n",
       "10    3\n",
       "11    2\n",
       "Name: Oznaka, dtype: int64"
      ]
     },
     "execution_count": 38,
     "metadata": {},
     "output_type": "execute_result"
    }
   ],
   "source": [
    "serija1[serija1.isin([2,3])]  #prikazuje indexe traženih vrijednosti"
   ]
  },
  {
   "cell_type": "markdown",
   "id": "75314dbd",
   "metadata": {},
   "source": [
    "#### Zadatak "
   ]
  },
  {
   "cell_type": "markdown",
   "id": "5a97baf9",
   "metadata": {},
   "source": [
    "Generirajte nasumičnih 100 brojeva u rasponu od 0-100 te ih pohranite u Python listu. Od te liste kreirajte Pandas seriju te joj dajte naziv.\n",
    "_ provjerite koliko ima brojeva koji se ponavljaju te koliko se puta svaki od njih ponavlja\n",
    "_ koji je broj najveći, koji najmanji?\n",
    "_ modificirajte podatke u seriji da se svedu na postotke\n",
    "_ promijenite vrijednosti najvećeg broja tako da je identična vrijednosti najmanjeg broja. Provjerite koji je sada najveći broj"
   ]
  },
  {
   "cell_type": "code",
   "execution_count": 47,
   "id": "e3c98718",
   "metadata": {},
   "outputs": [
    {
     "data": {
      "text/plain": [
       "[19,\n",
       " 74,\n",
       " 95,\n",
       " 39,\n",
       " 53,\n",
       " 76,\n",
       " 98,\n",
       " 23,\n",
       " 48,\n",
       " 58,\n",
       " 76,\n",
       " 92,\n",
       " 99,\n",
       " 64,\n",
       " 74,\n",
       " 13,\n",
       " 10,\n",
       " 32,\n",
       " 47,\n",
       " 16,\n",
       " 16,\n",
       " 67,\n",
       " 37,\n",
       " 59,\n",
       " 100,\n",
       " 2,\n",
       " 11,\n",
       " 28,\n",
       " 86,\n",
       " 31,\n",
       " 73,\n",
       " 77,\n",
       " 39,\n",
       " 89,\n",
       " 11,\n",
       " 83,\n",
       " 49,\n",
       " 20,\n",
       " 95,\n",
       " 46,\n",
       " 27,\n",
       " 3,\n",
       " 22,\n",
       " 76,\n",
       " 85,\n",
       " 50,\n",
       " 4,\n",
       " 34,\n",
       " 18,\n",
       " 48,\n",
       " 24,\n",
       " 12,\n",
       " 19,\n",
       " 25,\n",
       " 60,\n",
       " 69,\n",
       " 74,\n",
       " 43,\n",
       " 34,\n",
       " 34,\n",
       " 37,\n",
       " 63,\n",
       " 59,\n",
       " 95,\n",
       " 38,\n",
       " 74,\n",
       " 64,\n",
       " 66,\n",
       " 46,\n",
       " 18,\n",
       " 79,\n",
       " 68,\n",
       " 41,\n",
       " 68,\n",
       " 24,\n",
       " 14,\n",
       " 48,\n",
       " 90,\n",
       " 57,\n",
       " 11,\n",
       " 67,\n",
       " 71,\n",
       " 28,\n",
       " 99,\n",
       " 33,\n",
       " 83,\n",
       " 53,\n",
       " 41,\n",
       " 57,\n",
       " 11,\n",
       " 20,\n",
       " 51,\n",
       " 36,\n",
       " 4,\n",
       " 49,\n",
       " 5,\n",
       " 98,\n",
       " 79,\n",
       " 52,\n",
       " 23]"
      ]
     },
     "execution_count": 47,
     "metadata": {},
     "output_type": "execute_result"
    }
   ],
   "source": [
    "pd.set_option('display.max.rows', None)\n",
    "import random\n",
    "brojevi_ran=[]\n",
    "for i in range(100):\n",
    "    a=random.randint(0,100)\n",
    "    brojevi_ran.append(a)\n",
    "brojevi_ran"
   ]
  },
  {
   "cell_type": "code",
   "execution_count": 48,
   "id": "e1a7c205",
   "metadata": {},
   "outputs": [
    {
     "data": {
      "text/plain": [
       "0      19\n",
       "1      74\n",
       "2      95\n",
       "3      39\n",
       "4      53\n",
       "5      76\n",
       "6      98\n",
       "7      23\n",
       "8      48\n",
       "9      58\n",
       "10     76\n",
       "11     92\n",
       "12     99\n",
       "13     64\n",
       "14     74\n",
       "15     13\n",
       "16     10\n",
       "17     32\n",
       "18     47\n",
       "19     16\n",
       "20     16\n",
       "21     67\n",
       "22     37\n",
       "23     59\n",
       "24    100\n",
       "25      2\n",
       "26     11\n",
       "27     28\n",
       "28     86\n",
       "29     31\n",
       "30     73\n",
       "31     77\n",
       "32     39\n",
       "33     89\n",
       "34     11\n",
       "35     83\n",
       "36     49\n",
       "37     20\n",
       "38     95\n",
       "39     46\n",
       "40     27\n",
       "41      3\n",
       "42     22\n",
       "43     76\n",
       "44     85\n",
       "45     50\n",
       "46      4\n",
       "47     34\n",
       "48     18\n",
       "49     48\n",
       "50     24\n",
       "51     12\n",
       "52     19\n",
       "53     25\n",
       "54     60\n",
       "55     69\n",
       "56     74\n",
       "57     43\n",
       "58     34\n",
       "59     34\n",
       "60     37\n",
       "61     63\n",
       "62     59\n",
       "63     95\n",
       "64     38\n",
       "65     74\n",
       "66     64\n",
       "67     66\n",
       "68     46\n",
       "69     18\n",
       "70     79\n",
       "71     68\n",
       "72     41\n",
       "73     68\n",
       "74     24\n",
       "75     14\n",
       "76     48\n",
       "77     90\n",
       "78     57\n",
       "79     11\n",
       "80     67\n",
       "81     71\n",
       "82     28\n",
       "83     99\n",
       "84     33\n",
       "85     83\n",
       "86     53\n",
       "87     41\n",
       "88     57\n",
       "89     11\n",
       "90     20\n",
       "91     51\n",
       "92     36\n",
       "93      4\n",
       "94     49\n",
       "95      5\n",
       "96     98\n",
       "97     79\n",
       "98     52\n",
       "99     23\n",
       "dtype: int64"
      ]
     },
     "execution_count": 48,
     "metadata": {},
     "output_type": "execute_result"
    }
   ],
   "source": [
    "brojevi=pd.Series(brojevi_ran)\n",
    "brojevi"
   ]
  },
  {
   "cell_type": "code",
   "execution_count": 49,
   "id": "82dd7504",
   "metadata": {},
   "outputs": [
    {
     "data": {
      "text/plain": [
       "11     4\n",
       "74     4\n",
       "34     3\n",
       "95     3\n",
       "76     3\n",
       "48     3\n",
       "28     2\n",
       "83     2\n",
       "20     2\n",
       "46     2\n",
       "4      2\n",
       "19     2\n",
       "18     2\n",
       "59     2\n",
       "79     2\n",
       "68     2\n",
       "41     2\n",
       "57     2\n",
       "24     2\n",
       "49     2\n",
       "37     2\n",
       "23     2\n",
       "67     2\n",
       "16     2\n",
       "99     2\n",
       "64     2\n",
       "39     2\n",
       "53     2\n",
       "98     2\n",
       "69     1\n",
       "43     1\n",
       "63     1\n",
       "38     1\n",
       "66     1\n",
       "14     1\n",
       "25     1\n",
       "90     1\n",
       "71     1\n",
       "33     1\n",
       "51     1\n",
       "36     1\n",
       "5      1\n",
       "60     1\n",
       "92     1\n",
       "12     1\n",
       "32     1\n",
       "2      1\n",
       "86     1\n",
       "31     1\n",
       "73     1\n",
       "77     1\n",
       "89     1\n",
       "47     1\n",
       "10     1\n",
       "58     1\n",
       "13     1\n",
       "27     1\n",
       "3      1\n",
       "22     1\n",
       "85     1\n",
       "50     1\n",
       "100    1\n",
       "52     1\n",
       "dtype: int64"
      ]
     },
     "execution_count": 49,
     "metadata": {},
     "output_type": "execute_result"
    }
   ],
   "source": [
    "brojevi.value_counts()"
   ]
  },
  {
   "cell_type": "code",
   "execution_count": 50,
   "id": "96d12068",
   "metadata": {},
   "outputs": [
    {
     "data": {
      "text/plain": [
       "100"
      ]
     },
     "execution_count": 50,
     "metadata": {},
     "output_type": "execute_result"
    }
   ],
   "source": [
    "brojevi.max()"
   ]
  },
  {
   "cell_type": "code",
   "execution_count": 51,
   "id": "6936c243",
   "metadata": {},
   "outputs": [
    {
     "data": {
      "text/plain": [
       "2"
      ]
     },
     "execution_count": 51,
     "metadata": {},
     "output_type": "execute_result"
    }
   ],
   "source": [
    "brojevi.min()"
   ]
  },
  {
   "cell_type": "code",
   "execution_count": 52,
   "id": "ab13bfae",
   "metadata": {},
   "outputs": [
    {
     "data": {
      "text/plain": [
       "0     0.19\n",
       "1     0.74\n",
       "2     0.95\n",
       "3     0.39\n",
       "4     0.53\n",
       "5     0.76\n",
       "6     0.98\n",
       "7     0.23\n",
       "8     0.48\n",
       "9     0.58\n",
       "10    0.76\n",
       "11    0.92\n",
       "12    0.99\n",
       "13    0.64\n",
       "14    0.74\n",
       "15    0.13\n",
       "16    0.10\n",
       "17    0.32\n",
       "18    0.47\n",
       "19    0.16\n",
       "20    0.16\n",
       "21    0.67\n",
       "22    0.37\n",
       "23    0.59\n",
       "24    1.00\n",
       "25    0.02\n",
       "26    0.11\n",
       "27    0.28\n",
       "28    0.86\n",
       "29    0.31\n",
       "30    0.73\n",
       "31    0.77\n",
       "32    0.39\n",
       "33    0.89\n",
       "34    0.11\n",
       "35    0.83\n",
       "36    0.49\n",
       "37    0.20\n",
       "38    0.95\n",
       "39    0.46\n",
       "40    0.27\n",
       "41    0.03\n",
       "42    0.22\n",
       "43    0.76\n",
       "44    0.85\n",
       "45    0.50\n",
       "46    0.04\n",
       "47    0.34\n",
       "48    0.18\n",
       "49    0.48\n",
       "50    0.24\n",
       "51    0.12\n",
       "52    0.19\n",
       "53    0.25\n",
       "54    0.60\n",
       "55    0.69\n",
       "56    0.74\n",
       "57    0.43\n",
       "58    0.34\n",
       "59    0.34\n",
       "60    0.37\n",
       "61    0.63\n",
       "62    0.59\n",
       "63    0.95\n",
       "64    0.38\n",
       "65    0.74\n",
       "66    0.64\n",
       "67    0.66\n",
       "68    0.46\n",
       "69    0.18\n",
       "70    0.79\n",
       "71    0.68\n",
       "72    0.41\n",
       "73    0.68\n",
       "74    0.24\n",
       "75    0.14\n",
       "76    0.48\n",
       "77    0.90\n",
       "78    0.57\n",
       "79    0.11\n",
       "80    0.67\n",
       "81    0.71\n",
       "82    0.28\n",
       "83    0.99\n",
       "84    0.33\n",
       "85    0.83\n",
       "86    0.53\n",
       "87    0.41\n",
       "88    0.57\n",
       "89    0.11\n",
       "90    0.20\n",
       "91    0.51\n",
       "92    0.36\n",
       "93    0.04\n",
       "94    0.49\n",
       "95    0.05\n",
       "96    0.98\n",
       "97    0.79\n",
       "98    0.52\n",
       "99    0.23\n",
       "dtype: float64"
      ]
     },
     "execution_count": 52,
     "metadata": {},
     "output_type": "execute_result"
    }
   ],
   "source": [
    "brojevi_postotak=brojevi/100\n",
    "brojevi_postotak"
   ]
  },
  {
   "cell_type": "code",
   "execution_count": null,
   "id": "710a6844",
   "metadata": {},
   "outputs": [],
   "source": []
  }
 ],
 "metadata": {
  "kernelspec": {
   "display_name": "Python 3 (ipykernel)",
   "language": "python",
   "name": "python3"
  },
  "language_info": {
   "codemirror_mode": {
    "name": "ipython",
    "version": 3
   },
   "file_extension": ".py",
   "mimetype": "text/x-python",
   "name": "python",
   "nbconvert_exporter": "python",
   "pygments_lexer": "ipython3",
   "version": "3.9.12"
  }
 },
 "nbformat": 4,
 "nbformat_minor": 5
}
